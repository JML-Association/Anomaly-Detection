{
 "cells": [
  {
   "cell_type": "code",
   "execution_count": 4,
   "id": "752b864e",
   "metadata": {},
   "outputs": [],
   "source": [
    "import matplotlib.pyplot as plt\n",
    "import numpy as np\n",
    "import pandas as pd\n",
    "import seaborn as sns\n",
    "from sklearn import metrics\n",
    "import os\n",
    "import env"
   ]
  },
  {
   "cell_type": "code",
   "execution_count": 5,
   "id": "dab2a6de",
   "metadata": {},
   "outputs": [],
   "source": [
    "# Getting conncection to mySQL database, and acquiring data\n",
    "def get_connection(db, user=env.user, host=env.host, password=env.password):\n",
    "    '''\n",
    "    This function gets conncection to mySQL database\n",
    "    '''\n",
    "    return f'mysql+pymysql://{user}:{password}@{host}/{db}'\n",
    "\n",
    "# Loading raw data from Curriculum_Log database\n",
    "def new_data():\n",
    "    '''\n",
    "    This function reads the curriculum data from the mySQL database into a df.\n",
    "    '''\n",
    "    # Create SQL query.\n",
    "    sql_query = '''\n",
    "    SELECT * FROM logs LEFT JOIN cohorts ON logs.user_id = cohorts.id\n",
    "    '''\n",
    "    # Read in DataFrame from Codeup db.\n",
    "    df = pd.read_sql(sql_query, get_connection('curriculum_logs'))\n",
    "    \n",
    "    return df\n",
    "\n",
    "def get_data():\n",
    "    '''\n",
    "    This function reads in curriculum data from curriculum_log database, writes data to\n",
    "    a csv file if a local file does not exist, and returns a df.\n",
    "    '''\n",
    "    if os.path.isfile('curriculum.csv'):\n",
    "        \n",
    "        # If csv file exists, read in data from csv file.\n",
    "        df = pd.read_csv('curriculum.csv', index_col=0)\n",
    "        \n",
    "    else:\n",
    "        \n",
    "        # Read fresh data from db into a DataFrame.\n",
    "        df = new_data()\n",
    "        \n",
    "        # Write DataFrame to a csv file.\n",
    "        df.to_csv('curriculum.csv')\n",
    "        \n",
    "    return df"
   ]
  },
  {
   "cell_type": "code",
   "execution_count": 7,
   "id": "c1968939",
   "metadata": {},
   "outputs": [
    {
     "data": {
      "text/html": [
       "<div>\n",
       "<style scoped>\n",
       "    .dataframe tbody tr th:only-of-type {\n",
       "        vertical-align: middle;\n",
       "    }\n",
       "\n",
       "    .dataframe tbody tr th {\n",
       "        vertical-align: top;\n",
       "    }\n",
       "\n",
       "    .dataframe thead th {\n",
       "        text-align: right;\n",
       "    }\n",
       "</style>\n",
       "<table border=\"1\" class=\"dataframe\">\n",
       "  <thead>\n",
       "    <tr style=\"text-align: right;\">\n",
       "      <th></th>\n",
       "      <th>date</th>\n",
       "      <th>time</th>\n",
       "      <th>path</th>\n",
       "      <th>user_id</th>\n",
       "      <th>cohort_id</th>\n",
       "      <th>ip</th>\n",
       "      <th>id</th>\n",
       "      <th>name</th>\n",
       "      <th>slack</th>\n",
       "      <th>start_date</th>\n",
       "      <th>end_date</th>\n",
       "      <th>created_at</th>\n",
       "      <th>updated_at</th>\n",
       "      <th>deleted_at</th>\n",
       "      <th>program_id</th>\n",
       "    </tr>\n",
       "  </thead>\n",
       "  <tbody>\n",
       "    <tr>\n",
       "      <th>0</th>\n",
       "      <td>2018-01-26</td>\n",
       "      <td>09:55:03</td>\n",
       "      <td>/</td>\n",
       "      <td>1</td>\n",
       "      <td>8.0</td>\n",
       "      <td>97.105.19.61</td>\n",
       "      <td>1.0</td>\n",
       "      <td>Arches</td>\n",
       "      <td>#arches</td>\n",
       "      <td>2014-02-04</td>\n",
       "      <td>2014-04-22</td>\n",
       "      <td>2016-06-14 19:52:26</td>\n",
       "      <td>2016-06-14 19:52:26</td>\n",
       "      <td>None</td>\n",
       "      <td>1.0</td>\n",
       "    </tr>\n",
       "    <tr>\n",
       "      <th>1</th>\n",
       "      <td>2018-01-26</td>\n",
       "      <td>09:56:02</td>\n",
       "      <td>java-ii</td>\n",
       "      <td>1</td>\n",
       "      <td>8.0</td>\n",
       "      <td>97.105.19.61</td>\n",
       "      <td>1.0</td>\n",
       "      <td>Arches</td>\n",
       "      <td>#arches</td>\n",
       "      <td>2014-02-04</td>\n",
       "      <td>2014-04-22</td>\n",
       "      <td>2016-06-14 19:52:26</td>\n",
       "      <td>2016-06-14 19:52:26</td>\n",
       "      <td>None</td>\n",
       "      <td>1.0</td>\n",
       "    </tr>\n",
       "    <tr>\n",
       "      <th>2</th>\n",
       "      <td>2018-01-26</td>\n",
       "      <td>09:56:05</td>\n",
       "      <td>java-ii/object-oriented-programming</td>\n",
       "      <td>1</td>\n",
       "      <td>8.0</td>\n",
       "      <td>97.105.19.61</td>\n",
       "      <td>1.0</td>\n",
       "      <td>Arches</td>\n",
       "      <td>#arches</td>\n",
       "      <td>2014-02-04</td>\n",
       "      <td>2014-04-22</td>\n",
       "      <td>2016-06-14 19:52:26</td>\n",
       "      <td>2016-06-14 19:52:26</td>\n",
       "      <td>None</td>\n",
       "      <td>1.0</td>\n",
       "    </tr>\n",
       "    <tr>\n",
       "      <th>3</th>\n",
       "      <td>2018-01-26</td>\n",
       "      <td>09:56:06</td>\n",
       "      <td>slides/object_oriented_programming</td>\n",
       "      <td>1</td>\n",
       "      <td>8.0</td>\n",
       "      <td>97.105.19.61</td>\n",
       "      <td>1.0</td>\n",
       "      <td>Arches</td>\n",
       "      <td>#arches</td>\n",
       "      <td>2014-02-04</td>\n",
       "      <td>2014-04-22</td>\n",
       "      <td>2016-06-14 19:52:26</td>\n",
       "      <td>2016-06-14 19:52:26</td>\n",
       "      <td>None</td>\n",
       "      <td>1.0</td>\n",
       "    </tr>\n",
       "    <tr>\n",
       "      <th>4</th>\n",
       "      <td>2018-01-26</td>\n",
       "      <td>09:56:24</td>\n",
       "      <td>javascript-i/conditionals</td>\n",
       "      <td>2</td>\n",
       "      <td>22.0</td>\n",
       "      <td>97.105.19.61</td>\n",
       "      <td>2.0</td>\n",
       "      <td>Badlands</td>\n",
       "      <td>#badlands</td>\n",
       "      <td>2014-06-04</td>\n",
       "      <td>2014-08-22</td>\n",
       "      <td>2016-06-14 19:52:26</td>\n",
       "      <td>2016-06-14 19:52:26</td>\n",
       "      <td>None</td>\n",
       "      <td>1.0</td>\n",
       "    </tr>\n",
       "  </tbody>\n",
       "</table>\n",
       "</div>"
      ],
      "text/plain": [
       "         date      time                                 path  user_id  \\\n",
       "0  2018-01-26  09:55:03                                    /        1   \n",
       "1  2018-01-26  09:56:02                              java-ii        1   \n",
       "2  2018-01-26  09:56:05  java-ii/object-oriented-programming        1   \n",
       "3  2018-01-26  09:56:06   slides/object_oriented_programming        1   \n",
       "4  2018-01-26  09:56:24            javascript-i/conditionals        2   \n",
       "\n",
       "   cohort_id            ip   id      name      slack  start_date    end_date  \\\n",
       "0        8.0  97.105.19.61  1.0    Arches    #arches  2014-02-04  2014-04-22   \n",
       "1        8.0  97.105.19.61  1.0    Arches    #arches  2014-02-04  2014-04-22   \n",
       "2        8.0  97.105.19.61  1.0    Arches    #arches  2014-02-04  2014-04-22   \n",
       "3        8.0  97.105.19.61  1.0    Arches    #arches  2014-02-04  2014-04-22   \n",
       "4       22.0  97.105.19.61  2.0  Badlands  #badlands  2014-06-04  2014-08-22   \n",
       "\n",
       "            created_at           updated_at deleted_at  program_id  \n",
       "0  2016-06-14 19:52:26  2016-06-14 19:52:26       None         1.0  \n",
       "1  2016-06-14 19:52:26  2016-06-14 19:52:26       None         1.0  \n",
       "2  2016-06-14 19:52:26  2016-06-14 19:52:26       None         1.0  \n",
       "3  2016-06-14 19:52:26  2016-06-14 19:52:26       None         1.0  \n",
       "4  2016-06-14 19:52:26  2016-06-14 19:52:26       None         1.0  "
      ]
     },
     "execution_count": 7,
     "metadata": {},
     "output_type": "execute_result"
    }
   ],
   "source": [
    "url = f'mysql+pymysql://{env.user}:{env.password}@{env.host}/curriculum_logs'\n",
    "query = \"\"\"SELECT * FROM logs LEFT JOIN cohorts ON logs.user_id = cohorts.id\"\"\"\n",
    "df = pd.read_sql(query, url)\n",
    "# df.to_csv(cirriculum.csv, index=False)\n",
    "df.head()"
   ]
  },
  {
   "cell_type": "markdown",
   "id": "590e046f",
   "metadata": {},
   "source": [
    "### Detecting Anomalies in Discrete Variables\n",
    "\n",
    "1. Which lesson appears to attract the most traffic consistently across cohorts (per program)?"
   ]
  },
  {
   "cell_type": "code",
   "execution_count": 10,
   "id": "526a44be",
   "metadata": {},
   "outputs": [
    {
     "data": {
      "text/plain": [
       "/                                                               50313\n",
       "search/search_index.json                                        19519\n",
       "javascript-i                                                    18983\n",
       "toc                                                             18297\n",
       "java-iii                                                        13733\n",
       "                                                                ...  \n",
       "javascript/loops                                                    1\n",
       "content/control-structures-ii                                       1\n",
       "javascript-ii/promisesdfghjkjhgfs                                   1\n",
       "app                                                                 1\n",
       "appendix/professional-development/post-interview-review-form        1\n",
       "Name: path, Length: 2313, dtype: int64"
      ]
     },
     "execution_count": 10,
     "metadata": {},
     "output_type": "execute_result"
    }
   ],
   "source": [
    "df.path.value_counts()"
   ]
  },
  {
   "cell_type": "code",
   "execution_count": 11,
   "id": "35718e47",
   "metadata": {},
   "outputs": [
    {
     "data": {
      "text/plain": [
       "/                           0.055890\n",
       "search/search_index.json    0.021682\n",
       "javascript-i                0.021087\n",
       "toc                         0.020325\n",
       "java-iii                    0.015255\n",
       "Name: path, dtype: float64"
      ]
     },
     "execution_count": 11,
     "metadata": {},
     "output_type": "execute_result"
    }
   ],
   "source": [
    "df.path.value_counts(normalize=True).head()"
   ]
  },
  {
   "cell_type": "code",
   "execution_count": 13,
   "id": "d36dd610",
   "metadata": {},
   "outputs": [
    {
     "data": {
      "text/plain": [
       "2313"
      ]
     },
     "execution_count": 13,
     "metadata": {},
     "output_type": "execute_result"
    }
   ],
   "source": [
    "# how many unique paths we have in the dataset?\n",
    "df.path.nunique()"
   ]
  },
  {
   "cell_type": "code",
   "execution_count": 16,
   "id": "101e6138",
   "metadata": {},
   "outputs": [
    {
     "data": {
      "text/plain": [
       "date           1182\n",
       "time          73167\n",
       "path           2313\n",
       "user_id         981\n",
       "cohort_id        47\n",
       "ip             5531\n",
       "id               53\n",
       "name             53\n",
       "slack            52\n",
       "start_date       49\n",
       "end_date         50\n",
       "created_at       41\n",
       "updated_at       41\n",
       "deleted_at        0\n",
       "program_id        4\n",
       "dtype: int64"
      ]
     },
     "execution_count": 16,
     "metadata": {},
     "output_type": "execute_result"
    }
   ],
   "source": [
    "df.nunique()"
   ]
  },
  {
   "cell_type": "code",
   "execution_count": null,
   "id": "06d7e37b",
   "metadata": {},
   "outputs": [],
   "source": []
  },
  {
   "cell_type": "code",
   "execution_count": null,
   "id": "8fbb16ae",
   "metadata": {},
   "outputs": [],
   "source": []
  }
 ],
 "metadata": {
  "kernelspec": {
   "display_name": "Python 3 (ipykernel)",
   "language": "python",
   "name": "python3"
  },
  "language_info": {
   "codemirror_mode": {
    "name": "ipython",
    "version": 3
   },
   "file_extension": ".py",
   "mimetype": "text/x-python",
   "name": "python",
   "nbconvert_exporter": "python",
   "pygments_lexer": "ipython3",
   "version": "3.9.12"
  }
 },
 "nbformat": 4,
 "nbformat_minor": 5
}
