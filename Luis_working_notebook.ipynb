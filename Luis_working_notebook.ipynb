{
 "cells": [
  {
   "cell_type": "code",
   "execution_count": 1,
   "id": "752b864e",
   "metadata": {},
   "outputs": [],
   "source": [
    "import matplotlib.pyplot as plt\n",
    "import numpy as np\n",
    "import pandas as pd\n",
    "import seaborn as sns\n",
    "from sklearn import metrics\n",
    "import os\n",
    "import acquire\n",
    "import prepare\n",
    "import env"
   ]
  },
  {
   "cell_type": "code",
   "execution_count": 2,
   "id": "55dc68ec",
   "metadata": {},
   "outputs": [],
   "source": [
    "# Getting conncection to mySQL database, and acquiring data\n",
    "def get_connection(db, user=env.user, host=env.host, password=env.password):\n",
    "    '''\n",
    "    This function gets conncection to mySQL database\n",
    "    '''\n",
    "    return f'mysql+pymysql://{user}:{password}@{host}/{db}'\n",
    "\n",
    "# Loading raw data from Curriculum_Log database\n",
    "def new_data():\n",
    "    '''\n",
    "    This function reads the curriculum data from the mySQL database into a df.\n",
    "    '''\n",
    "    # Create SQL query.\n",
    "    sql_query = '''\n",
    "    SELECT \n",
    "        date,\n",
    "        time,\n",
    "        ip,\n",
    "        path,\n",
    "        user_id,\n",
    "        cohort_id,\n",
    "        name as cohort_name,\n",
    "        slack,\n",
    "        start_date,\n",
    "        end_date,\n",
    "        program_id\n",
    "    FROM\n",
    "        curriculum_logs.logs\n",
    "    join\n",
    "        curriculum_logs.cohorts on cohort_id = id\n",
    "    ;\n",
    "    '''\n",
    "    # Read in DataFrame from Codeup db.\n",
    "    df = pd.read_sql(sql_query, get_connection('curriculum_logs'))\n",
    "    \n",
    "    return df\n",
    "\n",
    "def get_data():\n",
    "    '''\n",
    "    This function reads in curriculum data from curriculum_log database, writes data to\n",
    "    a csv file if a local file does not exist, and returns a df.\n",
    "    '''\n",
    "    if os.path.isfile('curriculum.csv'):\n",
    "        \n",
    "        # If csv file exists, read in data from csv file.\n",
    "        df = pd.read_csv('curriculum.csv', index_col=0)\n",
    "        \n",
    "    else:\n",
    "        \n",
    "        # Read fresh data from db into a DataFrame.\n",
    "        df = new_data()\n",
    "        \n",
    "        # Write DataFrame to a csv file.\n",
    "        df.to_csv('curriculum.csv')\n",
    "        \n",
    "    return df"
   ]
  },
  {
   "cell_type": "code",
   "execution_count": 3,
   "id": "dab2a6de",
   "metadata": {},
   "outputs": [],
   "source": [
    "def prep_data(df):\n",
    "    '''\n",
    "    This function takes in a messy dataframe and return the cleaned verison of dataframe.\n",
    "    Detial steps are in code comment below.\n",
    "    '''\n",
    "    # Set date columns as datatime as index\n",
    "    df.date = pd.to_datetime(df.date)\n",
    "    df = df.set_index(df.date)\n",
    "\n",
    "    # Drop null values\n",
    "    df = df.dropna()\n",
    "\n",
    "    # Encode program_id\n",
    "    df['program'] = df.program_id.map({1: 'Full Stack PHP', 2: 'Full Stack Java', 3: 'Data Science', 4: 'Front End'})\n",
    "\n",
    "    return df"
   ]
  },
  {
   "cell_type": "code",
   "execution_count": 4,
   "id": "e9d50cae",
   "metadata": {},
   "outputs": [],
   "source": [
    "df = acquire.get_data()\n",
    "df = prepare.prep_data(df)"
   ]
  },
  {
   "cell_type": "code",
   "execution_count": 5,
   "id": "360782f5",
   "metadata": {},
   "outputs": [
    {
     "data": {
      "text/html": [
       "<div>\n",
       "<style scoped>\n",
       "    .dataframe tbody tr th:only-of-type {\n",
       "        vertical-align: middle;\n",
       "    }\n",
       "\n",
       "    .dataframe tbody tr th {\n",
       "        vertical-align: top;\n",
       "    }\n",
       "\n",
       "    .dataframe thead th {\n",
       "        text-align: right;\n",
       "    }\n",
       "</style>\n",
       "<table border=\"1\" class=\"dataframe\">\n",
       "  <thead>\n",
       "    <tr style=\"text-align: right;\">\n",
       "      <th></th>\n",
       "      <th>date</th>\n",
       "      <th>time</th>\n",
       "      <th>ip</th>\n",
       "      <th>path</th>\n",
       "      <th>user_id</th>\n",
       "      <th>cohort_id</th>\n",
       "      <th>cohort_name</th>\n",
       "      <th>slack</th>\n",
       "      <th>start_date</th>\n",
       "      <th>end_date</th>\n",
       "      <th>program_id</th>\n",
       "      <th>program</th>\n",
       "    </tr>\n",
       "    <tr>\n",
       "      <th>date</th>\n",
       "      <th></th>\n",
       "      <th></th>\n",
       "      <th></th>\n",
       "      <th></th>\n",
       "      <th></th>\n",
       "      <th></th>\n",
       "      <th></th>\n",
       "      <th></th>\n",
       "      <th></th>\n",
       "      <th></th>\n",
       "      <th></th>\n",
       "      <th></th>\n",
       "    </tr>\n",
       "  </thead>\n",
       "  <tbody>\n",
       "    <tr>\n",
       "      <th>2018-01-26</th>\n",
       "      <td>2018-01-26</td>\n",
       "      <td>09:55:03</td>\n",
       "      <td>97.105.19.61</td>\n",
       "      <td>/</td>\n",
       "      <td>1</td>\n",
       "      <td>8.0</td>\n",
       "      <td>Hampton</td>\n",
       "      <td>#hampton</td>\n",
       "      <td>2015-09-22</td>\n",
       "      <td>2016-02-06</td>\n",
       "      <td>1</td>\n",
       "      <td>Full Stack PHP</td>\n",
       "    </tr>\n",
       "    <tr>\n",
       "      <th>2018-01-26</th>\n",
       "      <td>2018-01-26</td>\n",
       "      <td>09:56:02</td>\n",
       "      <td>97.105.19.61</td>\n",
       "      <td>java-ii</td>\n",
       "      <td>1</td>\n",
       "      <td>8.0</td>\n",
       "      <td>Hampton</td>\n",
       "      <td>#hampton</td>\n",
       "      <td>2015-09-22</td>\n",
       "      <td>2016-02-06</td>\n",
       "      <td>1</td>\n",
       "      <td>Full Stack PHP</td>\n",
       "    </tr>\n",
       "    <tr>\n",
       "      <th>2018-01-26</th>\n",
       "      <td>2018-01-26</td>\n",
       "      <td>09:56:05</td>\n",
       "      <td>97.105.19.61</td>\n",
       "      <td>java-ii/object-oriented-programming</td>\n",
       "      <td>1</td>\n",
       "      <td>8.0</td>\n",
       "      <td>Hampton</td>\n",
       "      <td>#hampton</td>\n",
       "      <td>2015-09-22</td>\n",
       "      <td>2016-02-06</td>\n",
       "      <td>1</td>\n",
       "      <td>Full Stack PHP</td>\n",
       "    </tr>\n",
       "    <tr>\n",
       "      <th>2018-01-26</th>\n",
       "      <td>2018-01-26</td>\n",
       "      <td>09:56:06</td>\n",
       "      <td>97.105.19.61</td>\n",
       "      <td>slides/object_oriented_programming</td>\n",
       "      <td>1</td>\n",
       "      <td>8.0</td>\n",
       "      <td>Hampton</td>\n",
       "      <td>#hampton</td>\n",
       "      <td>2015-09-22</td>\n",
       "      <td>2016-02-06</td>\n",
       "      <td>1</td>\n",
       "      <td>Full Stack PHP</td>\n",
       "    </tr>\n",
       "    <tr>\n",
       "      <th>2018-01-26</th>\n",
       "      <td>2018-01-26</td>\n",
       "      <td>09:56:24</td>\n",
       "      <td>97.105.19.61</td>\n",
       "      <td>javascript-i/conditionals</td>\n",
       "      <td>2</td>\n",
       "      <td>22.0</td>\n",
       "      <td>Teddy</td>\n",
       "      <td>#teddy</td>\n",
       "      <td>2018-01-08</td>\n",
       "      <td>2018-05-17</td>\n",
       "      <td>2</td>\n",
       "      <td>Full Stack Java</td>\n",
       "    </tr>\n",
       "  </tbody>\n",
       "</table>\n",
       "</div>"
      ],
      "text/plain": [
       "                 date      time            ip  \\\n",
       "date                                            \n",
       "2018-01-26 2018-01-26  09:55:03  97.105.19.61   \n",
       "2018-01-26 2018-01-26  09:56:02  97.105.19.61   \n",
       "2018-01-26 2018-01-26  09:56:05  97.105.19.61   \n",
       "2018-01-26 2018-01-26  09:56:06  97.105.19.61   \n",
       "2018-01-26 2018-01-26  09:56:24  97.105.19.61   \n",
       "\n",
       "                                           path  user_id  cohort_id  \\\n",
       "date                                                                  \n",
       "2018-01-26                                    /        1        8.0   \n",
       "2018-01-26                              java-ii        1        8.0   \n",
       "2018-01-26  java-ii/object-oriented-programming        1        8.0   \n",
       "2018-01-26   slides/object_oriented_programming        1        8.0   \n",
       "2018-01-26            javascript-i/conditionals        2       22.0   \n",
       "\n",
       "           cohort_name     slack start_date   end_date  program_id  \\\n",
       "date                                                                 \n",
       "2018-01-26     Hampton  #hampton 2015-09-22 2016-02-06           1   \n",
       "2018-01-26     Hampton  #hampton 2015-09-22 2016-02-06           1   \n",
       "2018-01-26     Hampton  #hampton 2015-09-22 2016-02-06           1   \n",
       "2018-01-26     Hampton  #hampton 2015-09-22 2016-02-06           1   \n",
       "2018-01-26       Teddy    #teddy 2018-01-08 2018-05-17           2   \n",
       "\n",
       "                    program  \n",
       "date                         \n",
       "2018-01-26   Full Stack PHP  \n",
       "2018-01-26   Full Stack PHP  \n",
       "2018-01-26   Full Stack PHP  \n",
       "2018-01-26   Full Stack PHP  \n",
       "2018-01-26  Full Stack Java  "
      ]
     },
     "execution_count": 5,
     "metadata": {},
     "output_type": "execute_result"
    }
   ],
   "source": [
    "df.head()"
   ]
  },
  {
   "cell_type": "code",
   "execution_count": null,
   "id": "c1968939",
   "metadata": {
    "scrolled": true
   },
   "outputs": [],
   "source": []
  },
  {
   "cell_type": "code",
   "execution_count": 6,
   "id": "22859529",
   "metadata": {},
   "outputs": [
    {
     "name": "stdout",
     "output_type": "stream",
     "text": [
      "<class 'pandas.core.frame.DataFrame'>\n",
      "DatetimeIndex: 847329 entries, 2018-01-26 to 2021-04-21\n",
      "Data columns (total 12 columns):\n",
      " #   Column       Non-Null Count   Dtype         \n",
      "---  ------       --------------   -----         \n",
      " 0   date         847329 non-null  datetime64[ns]\n",
      " 1   time         847329 non-null  object        \n",
      " 2   ip           847329 non-null  object        \n",
      " 3   path         847329 non-null  object        \n",
      " 4   user_id      847329 non-null  int64         \n",
      " 5   cohort_id    847329 non-null  float64       \n",
      " 6   cohort_name  847329 non-null  object        \n",
      " 7   slack        847329 non-null  object        \n",
      " 8   start_date   847329 non-null  datetime64[ns]\n",
      " 9   end_date     847329 non-null  datetime64[ns]\n",
      " 10  program_id   847329 non-null  int64         \n",
      " 11  program      847329 non-null  object        \n",
      "dtypes: datetime64[ns](3), float64(1), int64(2), object(6)\n",
      "memory usage: 84.0+ MB\n"
     ]
    }
   ],
   "source": [
    "df.info()"
   ]
  },
  {
   "cell_type": "code",
   "execution_count": 7,
   "id": "d254ebe4",
   "metadata": {},
   "outputs": [],
   "source": [
    "# Drop deleted_at column\n",
    "\n",
    "\n",
    "#df = df.drop(columns= 'deleted_at', inplace = True)\n",
    "#df.head()"
   ]
  },
  {
   "cell_type": "markdown",
   "id": "590e046f",
   "metadata": {},
   "source": [
    "## Detecting Anomalies in Discrete Variables\n",
    "\n",
    "1. Which lesson appears to attract the most traffic consistently across cohorts (per program)?\n",
    "\n",
    "---\n",
    "\n",
    "#### Okay so how do I best approach this problem?\n",
    "\n",
    "1. Create and separate the datasets of Web Development and Data Science programs.\n",
    "    - 1 == WD\n",
    "    - 2 == WD\n",
    "    - 3 == DS\n",
    "    - 4 == WD\n",
    "    \n",
    "2. Remove the popular logistic pages in the curriculum. I.E. '/' = main page, 'toc' = Table of Contents, et.c\n",
    "3. Use .value_counts() on path to see the most accessed pages.\n",
    "4. Store the top 10 page names with page counts as a variable."
   ]
  },
  {
   "cell_type": "code",
   "execution_count": 8,
   "id": "526a44be",
   "metadata": {},
   "outputs": [
    {
     "data": {
      "text/plain": [
       "/                                                               45854\n",
       "javascript-i                                                    18203\n",
       "toc                                                             17591\n",
       "search/search_index.json                                        17534\n",
       "java-iii                                                        13166\n",
       "                                                                ...  \n",
       "content/examples/javascript/primitive-types.html                    1\n",
       "content/examples/javascript/conditionals.html                       1\n",
       "2-storytelling/1-overview/www.qlik.com                              1\n",
       "syntax-types-and-variables                                          1\n",
       "appendix/professional-development/post-interview-review-form        1\n",
       "Name: path, Length: 2224, dtype: int64"
      ]
     },
     "execution_count": 8,
     "metadata": {},
     "output_type": "execute_result"
    }
   ],
   "source": [
    "df.path.value_counts()"
   ]
  },
  {
   "cell_type": "code",
   "execution_count": 9,
   "id": "35718e47",
   "metadata": {
    "scrolled": true
   },
   "outputs": [
    {
     "data": {
      "text/plain": [
       "/                                                                            0.054116\n",
       "javascript-i                                                                 0.021483\n",
       "toc                                                                          0.020761\n",
       "search/search_index.json                                                     0.020693\n",
       "java-iii                                                                     0.015538\n",
       "html-css                                                                     0.015492\n",
       "java-ii                                                                      0.014371\n",
       "spring                                                                       0.014024\n",
       "jquery                                                                       0.013030\n",
       "mysql                                                                        0.012523\n",
       "java-i                                                                       0.012353\n",
       "javascript-ii                                                                0.012149\n",
       "appendix                                                                     0.009516\n",
       "javascript-i/introduction/working-with-data-types-operators-and-variables    0.008646\n",
       "mysql/tables                                                                 0.008380\n",
       "javascript-i/functions                                                       0.008344\n",
       "javascript-i/javascript-with-html                                            0.008319\n",
       "html-css/elements                                                            0.007937\n",
       "mysql/databases                                                              0.007853\n",
       "java-iii/jsp-and-jstl                                                        0.007790\n",
       "Name: path, dtype: float64"
      ]
     },
     "execution_count": 9,
     "metadata": {},
     "output_type": "execute_result"
    }
   ],
   "source": [
    "df.path.value_counts(normalize=True).head(20)"
   ]
  },
  {
   "cell_type": "code",
   "execution_count": 10,
   "id": "d36dd610",
   "metadata": {},
   "outputs": [
    {
     "data": {
      "text/plain": [
       "2224"
      ]
     },
     "execution_count": 10,
     "metadata": {},
     "output_type": "execute_result"
    }
   ],
   "source": [
    "# how many unique paths we have in the dataset?\n",
    "df.path.nunique()"
   ]
  },
  {
   "cell_type": "code",
   "execution_count": 11,
   "id": "101e6138",
   "metadata": {},
   "outputs": [
    {
     "data": {
      "text/plain": [
       "date            1182\n",
       "time           72331\n",
       "ip              5200\n",
       "path            2224\n",
       "user_id          911\n",
       "cohort_id         47\n",
       "cohort_name       47\n",
       "slack             46\n",
       "start_date        44\n",
       "end_date          45\n",
       "program_id         4\n",
       "program            4\n",
       "dtype: int64"
      ]
     },
     "execution_count": 11,
     "metadata": {},
     "output_type": "execute_result"
    }
   ],
   "source": [
    "df.nunique()"
   ]
  },
  {
   "cell_type": "markdown",
   "id": "d85c2236",
   "metadata": {},
   "source": [
    "### Top 10 accessed pages across programs"
   ]
  },
  {
   "cell_type": "code",
   "execution_count": 12,
   "id": "06d7e37b",
   "metadata": {},
   "outputs": [
    {
     "data": {
      "text/plain": [
       "/                1681\n",
       "index.html       1011\n",
       "javascript-i      736\n",
       "html-css          542\n",
       "spring            501\n",
       "java-iii          479\n",
       "java-ii           454\n",
       "java-i            444\n",
       "javascript-ii     429\n",
       "appendix          409\n",
       "Name: path, dtype: int64"
      ]
     },
     "execution_count": 12,
     "metadata": {},
     "output_type": "execute_result"
    }
   ],
   "source": [
    "df.loc[df.program_id==1].path.value_counts().nlargest(10)"
   ]
  },
  {
   "cell_type": "code",
   "execution_count": 13,
   "id": "8fbb16ae",
   "metadata": {},
   "outputs": [
    {
     "data": {
      "text/plain": [
       "/                           35814\n",
       "javascript-i                17457\n",
       "toc                         17428\n",
       "search/search_index.json    15212\n",
       "java-iii                    12683\n",
       "html-css                    12569\n",
       "java-ii                     11719\n",
       "spring                      11376\n",
       "jquery                      10693\n",
       "mysql                       10318\n",
       "Name: path, dtype: int64"
      ]
     },
     "execution_count": 13,
     "metadata": {},
     "output_type": "execute_result"
    }
   ],
   "source": [
    "df.loc[df.program_id==2].path.value_counts().nlargest(10)"
   ]
  },
  {
   "cell_type": "code",
   "execution_count": 14,
   "id": "c2d2264d",
   "metadata": {},
   "outputs": [
    {
     "data": {
      "text/plain": [
       "/                                           8358\n",
       "search/search_index.json                    2203\n",
       "classification/overview                     1785\n",
       "1-fundamentals/modern-data-scientist.jpg    1655\n",
       "1-fundamentals/AI-ML-DL-timeline.jpg        1651\n",
       "1-fundamentals/1.1-intro-to-data-science    1633\n",
       "classification/scale_features_or_not.svg    1590\n",
       "fundamentals/AI-ML-DL-timeline.jpg          1443\n",
       "fundamentals/modern-data-scientist.jpg      1438\n",
       "sql/mysql-overview                          1424\n",
       "Name: path, dtype: int64"
      ]
     },
     "execution_count": 14,
     "metadata": {},
     "output_type": "execute_result"
    }
   ],
   "source": [
    "df.loc[df.program_id==3].path.value_counts().nlargest(10)"
   ]
  },
  {
   "cell_type": "code",
   "execution_count": 15,
   "id": "9939a075",
   "metadata": {},
   "outputs": [
    {
     "data": {
      "text/plain": [
       "content/html-css                               2\n",
       "/                                              1\n",
       "content/html-css/gitbook/images/favicon.ico    1\n",
       "content/html-css/introduction.html             1\n",
       "Name: path, dtype: int64"
      ]
     },
     "execution_count": 15,
     "metadata": {},
     "output_type": "execute_result"
    }
   ],
   "source": [
    "df.loc[df.program_id==4].path.value_counts().nlargest(10)"
   ]
  },
  {
   "cell_type": "markdown",
   "id": "218b288f",
   "metadata": {},
   "source": [
    "## Web Development up first"
   ]
  },
  {
   "cell_type": "code",
   "execution_count": 16,
   "id": "cd5a0c3b",
   "metadata": {},
   "outputs": [],
   "source": [
    "# Remove staff from the analysis.\n",
    "df.loc[~(df.cohort_name == 'Staff')]\n",
    "\n",
    "# Step 1.\n",
    "# Web Devlopment Cohorts\n",
    "wd_cohorts = df.loc[df.program_id.isin([1, 2, 4])]\n",
    "\n",
    "# Data Science Cohorts\n",
    "ds_cohorts = df.loc[df.program_id == 3]"
   ]
  },
  {
   "cell_type": "code",
   "execution_count": 17,
   "id": "9171b2d4",
   "metadata": {},
   "outputs": [
    {
     "name": "stderr",
     "output_type": "stream",
     "text": [
      "/var/folders/xr/rf33rdr91vd7xt659vgf8qkm0000gn/T/ipykernel_11338/1308730922.py:9: UserWarning: Pandas doesn't allow columns to be created via a new attribute name - see https://pandas.pydata.org/pandas-docs/stable/indexing.html#attribute-access\n",
      "  wd_cohorts.page_viewed = wd_cohorts.path.replace('content/', '', regex=True)\n"
     ]
    }
   ],
   "source": [
    "# Step 2.\n",
    "# Create a variable to store pages to filter out.\n",
    "remove_pages = [ 'index.html', 'search/search_index.json', 'mkdocs/search_index.json','/', 'toc', 'appendix',]\n",
    "\n",
    "# Clean page_viewed to remove logistic pages: Searches, Table of Contents, Appendix\n",
    "wd_cohorts = wd_cohorts.loc[~wd_cohorts.path.isin(remove_pages)]\n",
    "\n",
    "# Replace content main page with empty string.\n",
    "wd_cohorts.page_viewed = wd_cohorts.path.replace('content/', '', regex=True)"
   ]
  },
  {
   "cell_type": "code",
   "execution_count": 18,
   "id": "86249eb7",
   "metadata": {},
   "outputs": [
    {
     "data": {
      "text/html": [
       "<div>\n",
       "<style scoped>\n",
       "    .dataframe tbody tr th:only-of-type {\n",
       "        vertical-align: middle;\n",
       "    }\n",
       "\n",
       "    .dataframe tbody tr th {\n",
       "        vertical-align: top;\n",
       "    }\n",
       "\n",
       "    .dataframe thead th {\n",
       "        text-align: right;\n",
       "    }\n",
       "</style>\n",
       "<table border=\"1\" class=\"dataframe\">\n",
       "  <thead>\n",
       "    <tr style=\"text-align: right;\">\n",
       "      <th></th>\n",
       "      <th>date</th>\n",
       "      <th>time</th>\n",
       "      <th>ip</th>\n",
       "      <th>path</th>\n",
       "      <th>user_id</th>\n",
       "      <th>cohort_id</th>\n",
       "      <th>cohort_name</th>\n",
       "      <th>slack</th>\n",
       "      <th>start_date</th>\n",
       "      <th>end_date</th>\n",
       "      <th>program_id</th>\n",
       "      <th>program</th>\n",
       "    </tr>\n",
       "    <tr>\n",
       "      <th>date</th>\n",
       "      <th></th>\n",
       "      <th></th>\n",
       "      <th></th>\n",
       "      <th></th>\n",
       "      <th></th>\n",
       "      <th></th>\n",
       "      <th></th>\n",
       "      <th></th>\n",
       "      <th></th>\n",
       "      <th></th>\n",
       "      <th></th>\n",
       "      <th></th>\n",
       "    </tr>\n",
       "  </thead>\n",
       "  <tbody>\n",
       "    <tr>\n",
       "      <th>2018-01-26</th>\n",
       "      <td>2018-01-26</td>\n",
       "      <td>09:56:02</td>\n",
       "      <td>97.105.19.61</td>\n",
       "      <td>java-ii</td>\n",
       "      <td>1</td>\n",
       "      <td>8.0</td>\n",
       "      <td>Hampton</td>\n",
       "      <td>#hampton</td>\n",
       "      <td>2015-09-22</td>\n",
       "      <td>2016-02-06</td>\n",
       "      <td>1</td>\n",
       "      <td>Full Stack PHP</td>\n",
       "    </tr>\n",
       "    <tr>\n",
       "      <th>2018-01-26</th>\n",
       "      <td>2018-01-26</td>\n",
       "      <td>09:56:05</td>\n",
       "      <td>97.105.19.61</td>\n",
       "      <td>java-ii/object-oriented-programming</td>\n",
       "      <td>1</td>\n",
       "      <td>8.0</td>\n",
       "      <td>Hampton</td>\n",
       "      <td>#hampton</td>\n",
       "      <td>2015-09-22</td>\n",
       "      <td>2016-02-06</td>\n",
       "      <td>1</td>\n",
       "      <td>Full Stack PHP</td>\n",
       "    </tr>\n",
       "    <tr>\n",
       "      <th>2018-01-26</th>\n",
       "      <td>2018-01-26</td>\n",
       "      <td>09:56:06</td>\n",
       "      <td>97.105.19.61</td>\n",
       "      <td>slides/object_oriented_programming</td>\n",
       "      <td>1</td>\n",
       "      <td>8.0</td>\n",
       "      <td>Hampton</td>\n",
       "      <td>#hampton</td>\n",
       "      <td>2015-09-22</td>\n",
       "      <td>2016-02-06</td>\n",
       "      <td>1</td>\n",
       "      <td>Full Stack PHP</td>\n",
       "    </tr>\n",
       "    <tr>\n",
       "      <th>2018-01-26</th>\n",
       "      <td>2018-01-26</td>\n",
       "      <td>09:56:24</td>\n",
       "      <td>97.105.19.61</td>\n",
       "      <td>javascript-i/conditionals</td>\n",
       "      <td>2</td>\n",
       "      <td>22.0</td>\n",
       "      <td>Teddy</td>\n",
       "      <td>#teddy</td>\n",
       "      <td>2018-01-08</td>\n",
       "      <td>2018-05-17</td>\n",
       "      <td>2</td>\n",
       "      <td>Full Stack Java</td>\n",
       "    </tr>\n",
       "    <tr>\n",
       "      <th>2018-01-26</th>\n",
       "      <td>2018-01-26</td>\n",
       "      <td>09:56:41</td>\n",
       "      <td>97.105.19.61</td>\n",
       "      <td>javascript-i/loops</td>\n",
       "      <td>2</td>\n",
       "      <td>22.0</td>\n",
       "      <td>Teddy</td>\n",
       "      <td>#teddy</td>\n",
       "      <td>2018-01-08</td>\n",
       "      <td>2018-05-17</td>\n",
       "      <td>2</td>\n",
       "      <td>Full Stack Java</td>\n",
       "    </tr>\n",
       "  </tbody>\n",
       "</table>\n",
       "</div>"
      ],
      "text/plain": [
       "                 date      time            ip  \\\n",
       "date                                            \n",
       "2018-01-26 2018-01-26  09:56:02  97.105.19.61   \n",
       "2018-01-26 2018-01-26  09:56:05  97.105.19.61   \n",
       "2018-01-26 2018-01-26  09:56:06  97.105.19.61   \n",
       "2018-01-26 2018-01-26  09:56:24  97.105.19.61   \n",
       "2018-01-26 2018-01-26  09:56:41  97.105.19.61   \n",
       "\n",
       "                                           path  user_id  cohort_id  \\\n",
       "date                                                                  \n",
       "2018-01-26                              java-ii        1        8.0   \n",
       "2018-01-26  java-ii/object-oriented-programming        1        8.0   \n",
       "2018-01-26   slides/object_oriented_programming        1        8.0   \n",
       "2018-01-26            javascript-i/conditionals        2       22.0   \n",
       "2018-01-26                   javascript-i/loops        2       22.0   \n",
       "\n",
       "           cohort_name     slack start_date   end_date  program_id  \\\n",
       "date                                                                 \n",
       "2018-01-26     Hampton  #hampton 2015-09-22 2016-02-06           1   \n",
       "2018-01-26     Hampton  #hampton 2015-09-22 2016-02-06           1   \n",
       "2018-01-26     Hampton  #hampton 2015-09-22 2016-02-06           1   \n",
       "2018-01-26       Teddy    #teddy 2018-01-08 2018-05-17           2   \n",
       "2018-01-26       Teddy    #teddy 2018-01-08 2018-05-17           2   \n",
       "\n",
       "                    program  \n",
       "date                         \n",
       "2018-01-26   Full Stack PHP  \n",
       "2018-01-26   Full Stack PHP  \n",
       "2018-01-26   Full Stack PHP  \n",
       "2018-01-26  Full Stack Java  \n",
       "2018-01-26  Full Stack Java  "
      ]
     },
     "execution_count": 18,
     "metadata": {},
     "output_type": "execute_result"
    }
   ],
   "source": [
    "wd_cohorts.head()"
   ]
  },
  {
   "cell_type": "code",
   "execution_count": 19,
   "id": "31bfdb05",
   "metadata": {},
   "outputs": [
    {
     "name": "stdout",
     "output_type": "stream",
     "text": [
      "javascript-i                                                                 18193\n",
      "java-iii                                                                     13162\n",
      "html-css                                                                     13111\n",
      "java-ii                                                                      12173\n",
      "spring                                                                       11877\n",
      "jquery                                                                       11037\n",
      "mysql                                                                        10602\n",
      "java-i                                                                       10460\n",
      "javascript-ii                                                                10290\n",
      "javascript-i/introduction/working-with-data-types-operators-and-variables     7326\n",
      "Name: path, dtype: int64\n"
     ]
    }
   ],
   "source": [
    "# Step 3 `.value_counts()`\n",
    "wd_top_10_pages = wd_cohorts.path.value_counts().nlargest(10)\n",
    "print(wd_top_10_pages)\n",
    "wd_top_10_pages = wd_top_10_pages.index.to_list()"
   ]
  },
  {
   "cell_type": "markdown",
   "id": "197cef9e",
   "metadata": {},
   "source": [
    "## Data Science up next"
   ]
  },
  {
   "cell_type": "code",
   "execution_count": 20,
   "id": "6cb0a1d0",
   "metadata": {},
   "outputs": [],
   "source": [
    "# Step 2.\n",
    "# Create a variable to store pages to filter out.\n",
    "remove_pages = ['/', 'toc', 'appendix', 'index.html', 'search/search_index.json', 'mkdocs/search_index.json']\n",
    "\n",
    "# Clean page_viewed to remove logistic pages: Searches, Table of Contents, Appendix\n",
    "ds_cohorts = ds_cohorts.loc[~ds_cohorts.path.isin(remove_pages)]\n",
    "\n",
    "# Replace content main page with empty string.\n",
    "ds_cohorts.path = ds_cohorts.path.replace('content/', '', regex=True)"
   ]
  },
  {
   "cell_type": "code",
   "execution_count": 21,
   "id": "78feb466",
   "metadata": {},
   "outputs": [
    {
     "data": {
      "text/html": [
       "<div>\n",
       "<style scoped>\n",
       "    .dataframe tbody tr th:only-of-type {\n",
       "        vertical-align: middle;\n",
       "    }\n",
       "\n",
       "    .dataframe tbody tr th {\n",
       "        vertical-align: top;\n",
       "    }\n",
       "\n",
       "    .dataframe thead th {\n",
       "        text-align: right;\n",
       "    }\n",
       "</style>\n",
       "<table border=\"1\" class=\"dataframe\">\n",
       "  <thead>\n",
       "    <tr style=\"text-align: right;\">\n",
       "      <th></th>\n",
       "      <th>date</th>\n",
       "      <th>time</th>\n",
       "      <th>ip</th>\n",
       "      <th>path</th>\n",
       "      <th>user_id</th>\n",
       "      <th>cohort_id</th>\n",
       "      <th>cohort_name</th>\n",
       "      <th>slack</th>\n",
       "      <th>start_date</th>\n",
       "      <th>end_date</th>\n",
       "      <th>program_id</th>\n",
       "      <th>program</th>\n",
       "    </tr>\n",
       "    <tr>\n",
       "      <th>date</th>\n",
       "      <th></th>\n",
       "      <th></th>\n",
       "      <th></th>\n",
       "      <th></th>\n",
       "      <th></th>\n",
       "      <th></th>\n",
       "      <th></th>\n",
       "      <th></th>\n",
       "      <th></th>\n",
       "      <th></th>\n",
       "      <th></th>\n",
       "      <th></th>\n",
       "    </tr>\n",
       "  </thead>\n",
       "  <tbody>\n",
       "    <tr>\n",
       "      <th>2019-08-20</th>\n",
       "      <td>2019-08-20</td>\n",
       "      <td>09:40:28</td>\n",
       "      <td>97.105.19.58</td>\n",
       "      <td>3-sql/1-mysql-overview</td>\n",
       "      <td>470</td>\n",
       "      <td>34.0</td>\n",
       "      <td>Bayes</td>\n",
       "      <td>#</td>\n",
       "      <td>2019-08-19</td>\n",
       "      <td>2020-01-30</td>\n",
       "      <td>3</td>\n",
       "      <td>Data Science</td>\n",
       "    </tr>\n",
       "    <tr>\n",
       "      <th>2019-08-20</th>\n",
       "      <td>2019-08-20</td>\n",
       "      <td>09:40:30</td>\n",
       "      <td>97.105.19.58</td>\n",
       "      <td>2-storytelling/bad-charts</td>\n",
       "      <td>467</td>\n",
       "      <td>34.0</td>\n",
       "      <td>Bayes</td>\n",
       "      <td>#</td>\n",
       "      <td>2019-08-19</td>\n",
       "      <td>2020-01-30</td>\n",
       "      <td>3</td>\n",
       "      <td>Data Science</td>\n",
       "    </tr>\n",
       "    <tr>\n",
       "      <th>2019-08-20</th>\n",
       "      <td>2019-08-20</td>\n",
       "      <td>09:40:30</td>\n",
       "      <td>97.105.19.58</td>\n",
       "      <td>2-storytelling/misleading1_baseball.jpg</td>\n",
       "      <td>467</td>\n",
       "      <td>34.0</td>\n",
       "      <td>Bayes</td>\n",
       "      <td>#</td>\n",
       "      <td>2019-08-19</td>\n",
       "      <td>2020-01-30</td>\n",
       "      <td>3</td>\n",
       "      <td>Data Science</td>\n",
       "    </tr>\n",
       "    <tr>\n",
       "      <th>2019-08-20</th>\n",
       "      <td>2019-08-20</td>\n",
       "      <td>09:40:30</td>\n",
       "      <td>97.105.19.58</td>\n",
       "      <td>2-storytelling/misleading1_fox.jpg</td>\n",
       "      <td>467</td>\n",
       "      <td>34.0</td>\n",
       "      <td>Bayes</td>\n",
       "      <td>#</td>\n",
       "      <td>2019-08-19</td>\n",
       "      <td>2020-01-30</td>\n",
       "      <td>3</td>\n",
       "      <td>Data Science</td>\n",
       "    </tr>\n",
       "    <tr>\n",
       "      <th>2019-08-20</th>\n",
       "      <td>2019-08-20</td>\n",
       "      <td>09:40:30</td>\n",
       "      <td>97.105.19.58</td>\n",
       "      <td>2-storytelling/misleading3_deaths.jpg</td>\n",
       "      <td>467</td>\n",
       "      <td>34.0</td>\n",
       "      <td>Bayes</td>\n",
       "      <td>#</td>\n",
       "      <td>2019-08-19</td>\n",
       "      <td>2020-01-30</td>\n",
       "      <td>3</td>\n",
       "      <td>Data Science</td>\n",
       "    </tr>\n",
       "  </tbody>\n",
       "</table>\n",
       "</div>"
      ],
      "text/plain": [
       "                 date      time            ip  \\\n",
       "date                                            \n",
       "2019-08-20 2019-08-20  09:40:28  97.105.19.58   \n",
       "2019-08-20 2019-08-20  09:40:30  97.105.19.58   \n",
       "2019-08-20 2019-08-20  09:40:30  97.105.19.58   \n",
       "2019-08-20 2019-08-20  09:40:30  97.105.19.58   \n",
       "2019-08-20 2019-08-20  09:40:30  97.105.19.58   \n",
       "\n",
       "                                               path  user_id  cohort_id  \\\n",
       "date                                                                      \n",
       "2019-08-20                   3-sql/1-mysql-overview      470       34.0   \n",
       "2019-08-20                2-storytelling/bad-charts      467       34.0   \n",
       "2019-08-20  2-storytelling/misleading1_baseball.jpg      467       34.0   \n",
       "2019-08-20       2-storytelling/misleading1_fox.jpg      467       34.0   \n",
       "2019-08-20    2-storytelling/misleading3_deaths.jpg      467       34.0   \n",
       "\n",
       "           cohort_name slack start_date   end_date  program_id       program  \n",
       "date                                                                          \n",
       "2019-08-20       Bayes     # 2019-08-19 2020-01-30           3  Data Science  \n",
       "2019-08-20       Bayes     # 2019-08-19 2020-01-30           3  Data Science  \n",
       "2019-08-20       Bayes     # 2019-08-19 2020-01-30           3  Data Science  \n",
       "2019-08-20       Bayes     # 2019-08-19 2020-01-30           3  Data Science  \n",
       "2019-08-20       Bayes     # 2019-08-19 2020-01-30           3  Data Science  "
      ]
     },
     "execution_count": 21,
     "metadata": {},
     "output_type": "execute_result"
    }
   ],
   "source": [
    "ds_cohorts.head()"
   ]
  },
  {
   "cell_type": "code",
   "execution_count": 22,
   "id": "821827f6",
   "metadata": {},
   "outputs": [
    {
     "name": "stdout",
     "output_type": "stream",
     "text": [
      "classification/overview                     1785\n",
      "1-fundamentals/modern-data-scientist.jpg    1655\n",
      "1-fundamentals/AI-ML-DL-timeline.jpg        1651\n",
      "1-fundamentals/1.1-intro-to-data-science    1633\n",
      "classification/scale_features_or_not.svg    1590\n",
      "fundamentals/AI-ML-DL-timeline.jpg          1443\n",
      "fundamentals/modern-data-scientist.jpg      1438\n",
      "sql/mysql-overview                          1424\n",
      "fundamentals/intro-to-data-science          1413\n",
      "6-regression/1-overview                     1124\n",
      "Name: path, dtype: int64\n"
     ]
    }
   ],
   "source": [
    "# Step 3 `.value_counts()`\n",
    "ds_top_10_pages = ds_cohorts.path.value_counts().nlargest(10)\n",
    "print(ds_top_10_pages)\n",
    "ds_top_10_pages = ds_top_10_pages.index.to_list()"
   ]
  },
  {
   "cell_type": "markdown",
   "id": "6dbcab4f",
   "metadata": {},
   "source": [
    "# Takeaways for Question 1.\n",
    "\n",
    "- Data Science cohorts access <b>classification/overview</b>  the most.\n",
    "- Web Development cohorts access <b>javascript-i</b> the most."
   ]
  },
  {
   "cell_type": "code",
   "execution_count": null,
   "id": "06c4dd35",
   "metadata": {},
   "outputs": [],
   "source": []
  },
  {
   "cell_type": "markdown",
   "id": "2efae5dd",
   "metadata": {},
   "source": [
    "# Question 7. Which lessons are least accessed?"
   ]
  },
  {
   "cell_type": "code",
   "execution_count": 23,
   "id": "8f5bf626",
   "metadata": {
    "scrolled": false
   },
   "outputs": [
    {
     "name": "stdout",
     "output_type": "stream",
     "text": [
      "javascript-i/introduction/working-with-data-types-operators-and-variables/www.google.com                                                                          1\n",
      "timeline/java-i                                                                                                                                                   1\n",
      "teams/13                                                                                                                                                          1\n",
      "elements/html                                                                                                                                                     1\n",
      "javascript-i/introduction/working-with-data-types-operators-and-variables/600%20Navarro%20St.,%20San%20Antonio,%20TX%2078205,%20United%20States%20of%20America    1\n",
      "capstone/index.md                                                                                                                                                 1\n",
      "hfdgafdja                                                                                                                                                         1\n",
      "javascript-i/introduction/working-with-data-types-operators-and-variables/google.com                                                                              1\n",
      "html-css/introduction/:view-page                                                                                                                                  1\n",
      "fundamentals/environment-setup.md                                                                                                                                 1\n",
      "Name: path, dtype: int64\n"
     ]
    }
   ],
   "source": [
    "wd_bottom_10_pages = wd_cohorts.path.value_counts().nsmallest(10)\n",
    "print(wd_bottom_10_pages)\n",
    "wd_bottom_10_pages = wd_bottom_10_pages.index.to_list()"
   ]
  },
  {
   "cell_type": "code",
   "execution_count": 24,
   "id": "5a6aee9d",
   "metadata": {},
   "outputs": [
    {
     "name": "stdout",
     "output_type": "stream",
     "text": [
      "classification/explore-old          1\n",
      "where                               1\n",
      "Index.html                          1\n",
      "python/introduction-to-python.md    1\n",
      "sql                                 1\n",
      "                                   ..\n",
      "A-clustering/project                1\n",
      "b-clustering/project                1\n",
      "misleading1_baseball.jpg            1\n",
      "misleading1_fox.jpg                 1\n",
      "python/custom-sorting-functions     1\n",
      "Name: path, Length: 100, dtype: int64\n"
     ]
    }
   ],
   "source": [
    "ds_bottom_10_pages = ds_cohorts.path.value_counts().nsmallest(100)\n",
    "print(ds_bottom_10_pages)\n",
    "ds_bottom_10_pages = ds_bottom_10_pages.index.to_list()"
   ]
  },
  {
   "cell_type": "markdown",
   "id": "431d0629",
   "metadata": {},
   "source": [
    "## Takeaways:\n",
    "- For Web Development, there are 400+ pages that were accessed only once.\n",
    "- For Data Science, there are 100+ pages that were accessed only once.\n",
    "- Some commonalities are that many of the pages are introduction pages with no useful information."
   ]
  },
  {
   "cell_type": "markdown",
   "id": "ff1e7ec1",
   "metadata": {},
   "source": [
    "# Question 3: Are there students who, when active, hardly access the curriculum? If so, what information do you have about these students?"
   ]
  },
  {
   "cell_type": "code",
   "execution_count": 77,
   "id": "30156d47",
   "metadata": {},
   "outputs": [],
   "source": [
    "#Create an alumni column \n",
    "df['alumni']= np.where((df['date'] > df['end_date']),'alumni','current')"
   ]
  },
  {
   "cell_type": "code",
   "execution_count": 79,
   "id": "ded5ba4f",
   "metadata": {
    "scrolled": true
   },
   "outputs": [
    {
     "data": {
      "text/html": [
       "<div>\n",
       "<style scoped>\n",
       "    .dataframe tbody tr th:only-of-type {\n",
       "        vertical-align: middle;\n",
       "    }\n",
       "\n",
       "    .dataframe tbody tr th {\n",
       "        vertical-align: top;\n",
       "    }\n",
       "\n",
       "    .dataframe thead th {\n",
       "        text-align: right;\n",
       "    }\n",
       "</style>\n",
       "<table border=\"1\" class=\"dataframe\">\n",
       "  <thead>\n",
       "    <tr style=\"text-align: right;\">\n",
       "      <th></th>\n",
       "      <th>date</th>\n",
       "      <th>time</th>\n",
       "      <th>ip</th>\n",
       "      <th>path</th>\n",
       "      <th>user_id</th>\n",
       "      <th>cohort_id</th>\n",
       "      <th>cohort_name</th>\n",
       "      <th>slack</th>\n",
       "      <th>start_date</th>\n",
       "      <th>end_date</th>\n",
       "      <th>program_id</th>\n",
       "      <th>program</th>\n",
       "      <th>alumni</th>\n",
       "    </tr>\n",
       "    <tr>\n",
       "      <th>date</th>\n",
       "      <th></th>\n",
       "      <th></th>\n",
       "      <th></th>\n",
       "      <th></th>\n",
       "      <th></th>\n",
       "      <th></th>\n",
       "      <th></th>\n",
       "      <th></th>\n",
       "      <th></th>\n",
       "      <th></th>\n",
       "      <th></th>\n",
       "      <th></th>\n",
       "      <th></th>\n",
       "    </tr>\n",
       "  </thead>\n",
       "  <tbody>\n",
       "    <tr>\n",
       "      <th>2018-01-26</th>\n",
       "      <td>2018-01-26</td>\n",
       "      <td>09:55:03</td>\n",
       "      <td>97.105.19.61</td>\n",
       "      <td>/</td>\n",
       "      <td>1</td>\n",
       "      <td>8.0</td>\n",
       "      <td>Hampton</td>\n",
       "      <td>#hampton</td>\n",
       "      <td>2015-09-22</td>\n",
       "      <td>2016-02-06</td>\n",
       "      <td>1</td>\n",
       "      <td>Full Stack PHP</td>\n",
       "      <td>alumni</td>\n",
       "    </tr>\n",
       "    <tr>\n",
       "      <th>2018-01-26</th>\n",
       "      <td>2018-01-26</td>\n",
       "      <td>09:56:02</td>\n",
       "      <td>97.105.19.61</td>\n",
       "      <td>java-ii</td>\n",
       "      <td>1</td>\n",
       "      <td>8.0</td>\n",
       "      <td>Hampton</td>\n",
       "      <td>#hampton</td>\n",
       "      <td>2015-09-22</td>\n",
       "      <td>2016-02-06</td>\n",
       "      <td>1</td>\n",
       "      <td>Full Stack PHP</td>\n",
       "      <td>alumni</td>\n",
       "    </tr>\n",
       "    <tr>\n",
       "      <th>2018-01-26</th>\n",
       "      <td>2018-01-26</td>\n",
       "      <td>09:56:05</td>\n",
       "      <td>97.105.19.61</td>\n",
       "      <td>java-ii/object-oriented-programming</td>\n",
       "      <td>1</td>\n",
       "      <td>8.0</td>\n",
       "      <td>Hampton</td>\n",
       "      <td>#hampton</td>\n",
       "      <td>2015-09-22</td>\n",
       "      <td>2016-02-06</td>\n",
       "      <td>1</td>\n",
       "      <td>Full Stack PHP</td>\n",
       "      <td>alumni</td>\n",
       "    </tr>\n",
       "    <tr>\n",
       "      <th>2018-01-26</th>\n",
       "      <td>2018-01-26</td>\n",
       "      <td>09:56:06</td>\n",
       "      <td>97.105.19.61</td>\n",
       "      <td>slides/object_oriented_programming</td>\n",
       "      <td>1</td>\n",
       "      <td>8.0</td>\n",
       "      <td>Hampton</td>\n",
       "      <td>#hampton</td>\n",
       "      <td>2015-09-22</td>\n",
       "      <td>2016-02-06</td>\n",
       "      <td>1</td>\n",
       "      <td>Full Stack PHP</td>\n",
       "      <td>alumni</td>\n",
       "    </tr>\n",
       "    <tr>\n",
       "      <th>2018-01-26</th>\n",
       "      <td>2018-01-26</td>\n",
       "      <td>09:56:24</td>\n",
       "      <td>97.105.19.61</td>\n",
       "      <td>javascript-i/conditionals</td>\n",
       "      <td>2</td>\n",
       "      <td>22.0</td>\n",
       "      <td>Teddy</td>\n",
       "      <td>#teddy</td>\n",
       "      <td>2018-01-08</td>\n",
       "      <td>2018-05-17</td>\n",
       "      <td>2</td>\n",
       "      <td>Full Stack Java</td>\n",
       "      <td>current</td>\n",
       "    </tr>\n",
       "  </tbody>\n",
       "</table>\n",
       "</div>"
      ],
      "text/plain": [
       "                 date      time            ip  \\\n",
       "date                                            \n",
       "2018-01-26 2018-01-26  09:55:03  97.105.19.61   \n",
       "2018-01-26 2018-01-26  09:56:02  97.105.19.61   \n",
       "2018-01-26 2018-01-26  09:56:05  97.105.19.61   \n",
       "2018-01-26 2018-01-26  09:56:06  97.105.19.61   \n",
       "2018-01-26 2018-01-26  09:56:24  97.105.19.61   \n",
       "\n",
       "                                           path  user_id  cohort_id  \\\n",
       "date                                                                  \n",
       "2018-01-26                                    /        1        8.0   \n",
       "2018-01-26                              java-ii        1        8.0   \n",
       "2018-01-26  java-ii/object-oriented-programming        1        8.0   \n",
       "2018-01-26   slides/object_oriented_programming        1        8.0   \n",
       "2018-01-26            javascript-i/conditionals        2       22.0   \n",
       "\n",
       "           cohort_name     slack start_date   end_date  program_id  \\\n",
       "date                                                                 \n",
       "2018-01-26     Hampton  #hampton 2015-09-22 2016-02-06           1   \n",
       "2018-01-26     Hampton  #hampton 2015-09-22 2016-02-06           1   \n",
       "2018-01-26     Hampton  #hampton 2015-09-22 2016-02-06           1   \n",
       "2018-01-26     Hampton  #hampton 2015-09-22 2016-02-06           1   \n",
       "2018-01-26       Teddy    #teddy 2018-01-08 2018-05-17           2   \n",
       "\n",
       "                    program   alumni  \n",
       "date                                  \n",
       "2018-01-26   Full Stack PHP   alumni  \n",
       "2018-01-26   Full Stack PHP   alumni  \n",
       "2018-01-26   Full Stack PHP   alumni  \n",
       "2018-01-26   Full Stack PHP   alumni  \n",
       "2018-01-26  Full Stack Java  current  "
      ]
     },
     "execution_count": 79,
     "metadata": {},
     "output_type": "execute_result"
    }
   ],
   "source": [
    "df.head()"
   ]
  },
  {
   "cell_type": "code",
   "execution_count": 81,
   "id": "9b808bad",
   "metadata": {},
   "outputs": [
    {
     "name": "stdout",
     "output_type": "stream",
     "text": [
      "<class 'pandas.core.frame.DataFrame'>\n",
      "DatetimeIndex: 847329 entries, 2018-01-26 to 2021-04-21\n",
      "Data columns (total 13 columns):\n",
      " #   Column       Non-Null Count   Dtype         \n",
      "---  ------       --------------   -----         \n",
      " 0   date         847329 non-null  datetime64[ns]\n",
      " 1   time         847329 non-null  object        \n",
      " 2   ip           847329 non-null  object        \n",
      " 3   path         847329 non-null  object        \n",
      " 4   user_id      847329 non-null  int64         \n",
      " 5   cohort_id    847329 non-null  float64       \n",
      " 6   cohort_name  847329 non-null  object        \n",
      " 7   slack        847329 non-null  object        \n",
      " 8   start_date   847329 non-null  datetime64[ns]\n",
      " 9   end_date     847329 non-null  datetime64[ns]\n",
      " 10  program_id   847329 non-null  int64         \n",
      " 11  program      847329 non-null  object        \n",
      " 12  alumni       847329 non-null  object        \n",
      "dtypes: datetime64[ns](3), float64(1), int64(2), object(7)\n",
      "memory usage: 90.5+ MB\n"
     ]
    }
   ],
   "source": [
    "df.info()"
   ]
  },
  {
   "cell_type": "code",
   "execution_count": 82,
   "id": "b98cec46",
   "metadata": {},
   "outputs": [],
   "source": [
    "#create a data subset\n",
    "current_students = df.loc[df[\"alumni\"] != 'alumni']"
   ]
  },
  {
   "cell_type": "code",
   "execution_count": 84,
   "id": "e2d19b0e",
   "metadata": {},
   "outputs": [
    {
     "data": {
      "text/plain": [
       "(647495, 13)"
      ]
     },
     "execution_count": 84,
     "metadata": {},
     "output_type": "execute_result"
    }
   ],
   "source": [
    "current_students.shape"
   ]
  },
  {
   "cell_type": "code",
   "execution_count": 85,
   "id": "97ddd62f",
   "metadata": {},
   "outputs": [
    {
     "data": {
      "text/plain": [
       "47"
      ]
     },
     "execution_count": 85,
     "metadata": {},
     "output_type": "execute_result"
    }
   ],
   "source": [
    "df.cohort_name.nunique()"
   ]
  },
  {
   "cell_type": "code",
   "execution_count": 86,
   "id": "f3ca3e37",
   "metadata": {},
   "outputs": [
    {
     "data": {
      "text/plain": [
       "911"
      ]
     },
     "execution_count": 86,
     "metadata": {},
     "output_type": "execute_result"
    }
   ],
   "source": [
    "df.user_id.nunique()"
   ]
  },
  {
   "cell_type": "code",
   "execution_count": 113,
   "id": "8892e55a",
   "metadata": {},
   "outputs": [],
   "source": [
    "# Create a subset of students that only accessed the curriculum once.\n",
    "\n",
    "#current_students_upper_ids = current_students.groupby('user_id').path.count()[current_students.groupby('user_id').path.count() > 800].index.to_list()\n",
    "current_students_lower_ids = pd.DataFrame(current_students.groupby('user_id').path.count())\n",
    "#[current_students.groupby('user_id').path.count() <=1 ].index.to_list()"
   ]
  },
  {
   "cell_type": "code",
   "execution_count": 114,
   "id": "63b4ac56",
   "metadata": {},
   "outputs": [
    {
     "data": {
      "text/html": [
       "<div>\n",
       "<style scoped>\n",
       "    .dataframe tbody tr th:only-of-type {\n",
       "        vertical-align: middle;\n",
       "    }\n",
       "\n",
       "    .dataframe tbody tr th {\n",
       "        vertical-align: top;\n",
       "    }\n",
       "\n",
       "    .dataframe thead th {\n",
       "        text-align: right;\n",
       "    }\n",
       "</style>\n",
       "<table border=\"1\" class=\"dataframe\">\n",
       "  <thead>\n",
       "    <tr style=\"text-align: right;\">\n",
       "      <th></th>\n",
       "      <th>path</th>\n",
       "    </tr>\n",
       "    <tr>\n",
       "      <th>user_id</th>\n",
       "      <th></th>\n",
       "    </tr>\n",
       "  </thead>\n",
       "  <tbody>\n",
       "    <tr>\n",
       "      <th>619</th>\n",
       "      <td>1</td>\n",
       "    </tr>\n",
       "    <tr>\n",
       "      <th>879</th>\n",
       "      <td>1</td>\n",
       "    </tr>\n",
       "    <tr>\n",
       "      <th>918</th>\n",
       "      <td>1</td>\n",
       "    </tr>\n",
       "    <tr>\n",
       "      <th>940</th>\n",
       "      <td>1</td>\n",
       "    </tr>\n",
       "  </tbody>\n",
       "</table>\n",
       "</div>"
      ],
      "text/plain": [
       "         path\n",
       "user_id      \n",
       "619         1\n",
       "879         1\n",
       "918         1\n",
       "940         1"
      ]
     },
     "execution_count": 114,
     "metadata": {},
     "output_type": "execute_result"
    }
   ],
   "source": [
    "# 12 students accessed the curriculum only once.\n",
    "current_students_lower_ids[current_students_lower_ids.path <= 1]"
   ]
  },
  {
   "cell_type": "code",
   "execution_count": 56,
   "id": "af96a5ad",
   "metadata": {},
   "outputs": [],
   "source": [
    "# create a loop. create a df showing that. "
   ]
  },
  {
   "cell_type": "code",
   "execution_count": 57,
   "id": "4c2c4fce",
   "metadata": {},
   "outputs": [],
   "source": [
    "#current_students_low_access = df.loc[df.user_id.isin[[81, 97, 212, 240, 250, 348, 394, 415, 519, 701, 755, 857]]]"
   ]
  },
  {
   "cell_type": "code",
   "execution_count": 119,
   "id": "3950c324",
   "metadata": {},
   "outputs": [],
   "source": [
    "single_access_current_students = [df.loc[df.user_id==940], df.loc[df.user_id==918], df.loc[df.user_id==879], df.loc[df.user_id==619]]"
   ]
  },
  {
   "cell_type": "code",
   "execution_count": 120,
   "id": "a9310e00",
   "metadata": {},
   "outputs": [
    {
     "data": {
      "text/plain": [
       "[                 date      time             ip path  user_id  cohort_id  \\\n",
       " date                                                                      \n",
       " 2021-03-15 2021-03-15  17:00:37  70.121.129.79    /      940      138.0   \n",
       " \n",
       "            cohort_name     slack start_date   end_date  program_id  \\\n",
       " date                                                                 \n",
       " 2021-03-15     Neptune  #neptune 2021-03-15 2021-09-03           2   \n",
       " \n",
       "                     program   alumni  \n",
       " date                                  \n",
       " 2021-03-15  Full Stack Java  current  ,\n",
       "                  date      time             ip path  user_id  cohort_id  \\\n",
       " date                                                                      \n",
       " 2021-03-15 2021-03-15  16:59:56  71.221.46.112    /      918      138.0   \n",
       " \n",
       "            cohort_name     slack start_date   end_date  program_id  \\\n",
       " date                                                                 \n",
       " 2021-03-15     Neptune  #neptune 2021-03-15 2021-09-03           2   \n",
       " \n",
       "                     program   alumni  \n",
       " date                                  \n",
       " 2021-03-15  Full Stack Java  current  ,\n",
       "                  date      time             ip path  user_id  cohort_id  \\\n",
       " date                                                                      \n",
       " 2021-01-26 2021-01-26  12:21:18  136.50.50.187    /      879      135.0   \n",
       " \n",
       "            cohort_name   slack start_date   end_date  program_id  \\\n",
       " date                                                               \n",
       " 2021-01-26       Marco  #marco 2021-01-25 2021-07-19           2   \n",
       " \n",
       "                     program   alumni  \n",
       " date                                  \n",
       " 2021-01-26  Full Stack Java  current  ,\n",
       "                  date      time            ip path  user_id  cohort_id  \\\n",
       " date                                                                     \n",
       " 2020-03-23 2020-03-23  14:10:17  97.105.19.58    /      619       57.0   \n",
       " \n",
       "            cohort_name      slack start_date   end_date  program_id  \\\n",
       " date                                                                  \n",
       " 2020-03-23    Ganymede  #ganymede 2020-03-23 2020-08-20           2   \n",
       " \n",
       "                     program   alumni  \n",
       " date                                  \n",
       " 2020-03-23  Full Stack Java  current  ]"
      ]
     },
     "execution_count": 120,
     "metadata": {},
     "output_type": "execute_result"
    }
   ],
   "source": [
    "single_access_current_students "
   ]
  },
  {
   "cell_type": "code",
   "execution_count": 126,
   "id": "c7918fda",
   "metadata": {
    "scrolled": true
   },
   "outputs": [
    {
     "data": {
      "text/plain": [
       "[                 date      time             ip path  user_id  cohort_id  \\\n",
       " date                                                                      \n",
       " 2021-03-15 2021-03-15  17:00:37  70.121.129.79    /      940      138.0   \n",
       " \n",
       "            cohort_name     slack start_date   end_date  program_id  \\\n",
       " date                                                                 \n",
       " 2021-03-15     Neptune  #neptune 2021-03-15 2021-09-03           2   \n",
       " \n",
       "                     program   alumni  \n",
       " date                                  \n",
       " 2021-03-15  Full Stack Java  current  ,\n",
       "                  date      time             ip path  user_id  cohort_id  \\\n",
       " date                                                                      \n",
       " 2021-03-15 2021-03-15  16:59:56  71.221.46.112    /      918      138.0   \n",
       " \n",
       "            cohort_name     slack start_date   end_date  program_id  \\\n",
       " date                                                                 \n",
       " 2021-03-15     Neptune  #neptune 2021-03-15 2021-09-03           2   \n",
       " \n",
       "                     program   alumni  \n",
       " date                                  \n",
       " 2021-03-15  Full Stack Java  current  ,\n",
       "                  date      time             ip path  user_id  cohort_id  \\\n",
       " date                                                                      \n",
       " 2021-01-26 2021-01-26  12:21:18  136.50.50.187    /      879      135.0   \n",
       " \n",
       "            cohort_name   slack start_date   end_date  program_id  \\\n",
       " date                                                               \n",
       " 2021-01-26       Marco  #marco 2021-01-25 2021-07-19           2   \n",
       " \n",
       "                     program   alumni  \n",
       " date                                  \n",
       " 2021-01-26  Full Stack Java  current  ,\n",
       "                  date      time            ip path  user_id  cohort_id  \\\n",
       " date                                                                     \n",
       " 2020-03-23 2020-03-23  14:10:17  97.105.19.58    /      619       57.0   \n",
       " \n",
       "            cohort_name      slack start_date   end_date  program_id  \\\n",
       " date                                                                  \n",
       " 2020-03-23    Ganymede  #ganymede 2020-03-23 2020-08-20           2   \n",
       " \n",
       "                     program   alumni  \n",
       " date                                  \n",
       " 2020-03-23  Full Stack Java  current  ]"
      ]
     },
     "execution_count": 126,
     "metadata": {},
     "output_type": "execute_result"
    }
   ],
   "source": [
    "single_access_current_students "
   ]
  },
  {
   "cell_type": "code",
   "execution_count": null,
   "id": "fa477000",
   "metadata": {},
   "outputs": [],
   "source": [
    "\n",
    "df = pd.DataFrame({'name': students,\n",
    "                   'math': math_grades,\n",
    "                   'english': english_grades,\n",
    "                   'reading': reading_grades})\n",
    "\n"
   ]
  },
  {
   "cell_type": "code",
   "execution_count": 127,
   "id": "a631a661",
   "metadata": {},
   "outputs": [
    {
     "ename": "TypeError",
     "evalue": "unhashable type: 'DataFrame'",
     "output_type": "error",
     "traceback": [
      "\u001b[0;31m---------------------------------------------------------------------------\u001b[0m",
      "\u001b[0;31mTypeError\u001b[0m                                 Traceback (most recent call last)",
      "Input \u001b[0;32mIn [127]\u001b[0m, in \u001b[0;36m<cell line: 1>\u001b[0;34m()\u001b[0m\n\u001b[0;32m----> 1\u001b[0m single_access_current_students_df \u001b[38;5;241m=\u001b[39m pd\u001b[38;5;241m.\u001b[39mDataFrame({df\u001b[38;5;241m.\u001b[39mloc[df\u001b[38;5;241m.\u001b[39muser_id\u001b[38;5;241m==\u001b[39m\u001b[38;5;241m940\u001b[39m], df\u001b[38;5;241m.\u001b[39mloc[df\u001b[38;5;241m.\u001b[39muser_id\u001b[38;5;241m==\u001b[39m\u001b[38;5;241m918\u001b[39m], df\u001b[38;5;241m.\u001b[39mloc[df\u001b[38;5;241m.\u001b[39muser_id\u001b[38;5;241m==\u001b[39m\u001b[38;5;241m879\u001b[39m], df\u001b[38;5;241m.\u001b[39mloc[df\u001b[38;5;241m.\u001b[39muser_id\u001b[38;5;241m==\u001b[39m\u001b[38;5;241m619\u001b[39m]})\n",
      "\u001b[0;31mTypeError\u001b[0m: unhashable type: 'DataFrame'"
     ]
    }
   ],
   "source": [
    "\n",
    "single_access_current_students_df = pd.DataFrame({df.loc[df.user_id==940], df.loc[df.user_id==918], df.loc[df.user_id==879], df.loc[df.user_id==619]})"
   ]
  },
  {
   "cell_type": "code",
   "execution_count": 125,
   "id": "f5aa9669",
   "metadata": {},
   "outputs": [
    {
     "data": {
      "text/html": [
       "<div>\n",
       "<style scoped>\n",
       "    .dataframe tbody tr th:only-of-type {\n",
       "        vertical-align: middle;\n",
       "    }\n",
       "\n",
       "    .dataframe tbody tr th {\n",
       "        vertical-align: top;\n",
       "    }\n",
       "\n",
       "    .dataframe thead th {\n",
       "        text-align: right;\n",
       "    }\n",
       "</style>\n",
       "<table border=\"1\" class=\"dataframe\">\n",
       "  <thead>\n",
       "    <tr style=\"text-align: right;\">\n",
       "      <th></th>\n",
       "      <th>user_id</th>\n",
       "    </tr>\n",
       "    <tr>\n",
       "      <th>date</th>\n",
       "      <th></th>\n",
       "    </tr>\n",
       "  </thead>\n",
       "  <tbody>\n",
       "    <tr>\n",
       "      <th>2018-01-26</th>\n",
       "      <td>False</td>\n",
       "    </tr>\n",
       "    <tr>\n",
       "      <th>2018-01-26</th>\n",
       "      <td>False</td>\n",
       "    </tr>\n",
       "    <tr>\n",
       "      <th>2018-01-26</th>\n",
       "      <td>False</td>\n",
       "    </tr>\n",
       "    <tr>\n",
       "      <th>2018-01-26</th>\n",
       "      <td>False</td>\n",
       "    </tr>\n",
       "    <tr>\n",
       "      <th>2018-01-26</th>\n",
       "      <td>False</td>\n",
       "    </tr>\n",
       "    <tr>\n",
       "      <th>...</th>\n",
       "      <td>...</td>\n",
       "    </tr>\n",
       "    <tr>\n",
       "      <th>2021-04-21</th>\n",
       "      <td>False</td>\n",
       "    </tr>\n",
       "    <tr>\n",
       "      <th>2021-04-21</th>\n",
       "      <td>False</td>\n",
       "    </tr>\n",
       "    <tr>\n",
       "      <th>2021-04-21</th>\n",
       "      <td>False</td>\n",
       "    </tr>\n",
       "    <tr>\n",
       "      <th>2021-04-21</th>\n",
       "      <td>False</td>\n",
       "    </tr>\n",
       "    <tr>\n",
       "      <th>2021-04-21</th>\n",
       "      <td>False</td>\n",
       "    </tr>\n",
       "  </tbody>\n",
       "</table>\n",
       "<p>847329 rows × 1 columns</p>\n",
       "</div>"
      ],
      "text/plain": [
       "            user_id\n",
       "date               \n",
       "2018-01-26    False\n",
       "2018-01-26    False\n",
       "2018-01-26    False\n",
       "2018-01-26    False\n",
       "2018-01-26    False\n",
       "...             ...\n",
       "2021-04-21    False\n",
       "2021-04-21    False\n",
       "2021-04-21    False\n",
       "2021-04-21    False\n",
       "2021-04-21    False\n",
       "\n",
       "[847329 rows x 1 columns]"
      ]
     },
     "execution_count": 125,
     "metadata": {},
     "output_type": "execute_result"
    }
   ],
   "source": [
    "single_access_current_students_df"
   ]
  },
  {
   "cell_type": "code",
   "execution_count": null,
   "id": "42fe2bcb",
   "metadata": {},
   "outputs": [],
   "source": [
    "[df.loc[df.user_id==940], df.loc[df.user_id==918], df.loc[df.user_id==879], df.loc[df.user_id==619]]"
   ]
  },
  {
   "cell_type": "code",
   "execution_count": null,
   "id": "778dda8a",
   "metadata": {},
   "outputs": [],
   "source": []
  },
  {
   "cell_type": "code",
   "execution_count": null,
   "id": "184f5dcf",
   "metadata": {},
   "outputs": [],
   "source": []
  },
  {
   "cell_type": "code",
   "execution_count": null,
   "id": "5b2fe3ae",
   "metadata": {},
   "outputs": [],
   "source": []
  },
  {
   "cell_type": "code",
   "execution_count": null,
   "id": "bb9bd661",
   "metadata": {},
   "outputs": [],
   "source": []
  }
 ],
 "metadata": {
  "kernelspec": {
   "display_name": "Python 3 (ipykernel)",
   "language": "python",
   "name": "python3"
  },
  "language_info": {
   "codemirror_mode": {
    "name": "ipython",
    "version": 3
   },
   "file_extension": ".py",
   "mimetype": "text/x-python",
   "name": "python",
   "nbconvert_exporter": "python",
   "pygments_lexer": "ipython3",
   "version": "3.9.12"
  }
 },
 "nbformat": 4,
 "nbformat_minor": 5
}
