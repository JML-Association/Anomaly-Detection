{
 "cells": [
  {
   "cell_type": "code",
   "execution_count": 1,
   "id": "752b864e",
   "metadata": {},
   "outputs": [],
   "source": [
    "import matplotlib.pyplot as plt\n",
    "import numpy as np\n",
    "import pandas as pd\n",
    "import seaborn as sns\n",
    "from sklearn import metrics\n",
    "import os\n",
    "import acquire\n",
    "import prepare\n",
    "import env"
   ]
  },
  {
   "cell_type": "code",
   "execution_count": 2,
   "id": "6ae4e250",
   "metadata": {},
   "outputs": [],
   "source": [
    "# Getting conncection to mySQL database, and acquiring data\n",
    "def get_connection(db, user=env.user, host=env.host, password=env.password):\n",
    "    '''\n",
    "    This function gets conncection to mySQL database\n",
    "    '''\n",
    "    return f'mysql+pymysql://{user}:{password}@{host}/{db}'\n",
    "\n",
    "# Loading raw data from Curriculum_Log database\n",
    "def new_data():\n",
    "    '''\n",
    "    This function reads the curriculum data from the mySQL database into a df.\n",
    "    '''\n",
    "    # Create SQL query.\n",
    "    sql_query = '''\n",
    "    SELECT \n",
    "        date,\n",
    "        time,\n",
    "        ip,\n",
    "        path,\n",
    "        user_id,\n",
    "        cohort_id,\n",
    "        name as cohort_name,\n",
    "        slack,\n",
    "        start_date,\n",
    "        end_date,\n",
    "        program_id\n",
    "    FROM\n",
    "        curriculum_logs.logs\n",
    "    join\n",
    "        curriculum_logs.cohorts on cohort_id = id\n",
    "    ;\n",
    "    '''\n",
    "    # Read in DataFrame from Codeup db.\n",
    "    df = pd.read_sql(sql_query, get_connection('curriculum_logs'))\n",
    "    \n",
    "    return df\n",
    "\n",
    "def get_data():\n",
    "    '''\n",
    "    This function reads in curriculum data from curriculum_log database, writes data to\n",
    "    a csv file if a local file does not exist, and returns a df.\n",
    "    '''\n",
    "    if os.path.isfile('curriculum.csv'):\n",
    "        \n",
    "        # If csv file exists, read in data from csv file.\n",
    "        df = pd.read_csv('curriculum.csv', index_col=0)\n",
    "        \n",
    "    else:\n",
    "        \n",
    "        # Read fresh data from db into a DataFrame.\n",
    "        df = new_data()\n",
    "        \n",
    "        # Write DataFrame to a csv file.\n",
    "        df.to_csv('curriculum.csv')\n",
    "        \n",
    "    return df"
   ]
  },
  {
   "cell_type": "code",
   "execution_count": 3,
   "id": "dab2a6de",
   "metadata": {},
   "outputs": [],
   "source": [
    "def prep_data(df):\n",
    "    '''\n",
    "    This function takes in a messy dataframe and return the cleaned verison of dataframe.\n",
    "    Detial steps are in code comment below.\n",
    "    '''\n",
    "    # Set date columns as datatime as index\n",
    "    df.date = pd.to_datetime(df.date)\n",
    "    df = df.set_index(df.date)\n",
    "\n",
    "    # Drop null values\n",
    "    df = df.dropna()\n",
    "\n",
    "    # Encode program_id\n",
    "    df['program'] = df.program_id.map({1: 'Full Stack PHP', 2: 'Full Stack Java', 3: 'Data Science', 4: 'Front End'})\n",
    "\n",
    "    return df"
   ]
  },
  {
   "cell_type": "code",
   "execution_count": 4,
   "id": "087e47b6",
   "metadata": {},
   "outputs": [],
   "source": [
    "df = acquire.get_data()\n",
    "df = prepare.prep_data(df)"
   ]
  },
  {
   "cell_type": "code",
   "execution_count": 5,
   "id": "b8bea0a9",
   "metadata": {},
   "outputs": [
    {
     "data": {
      "text/html": [
       "<div>\n",
       "<style scoped>\n",
       "    .dataframe tbody tr th:only-of-type {\n",
       "        vertical-align: middle;\n",
       "    }\n",
       "\n",
       "    .dataframe tbody tr th {\n",
       "        vertical-align: top;\n",
       "    }\n",
       "\n",
       "    .dataframe thead th {\n",
       "        text-align: right;\n",
       "    }\n",
       "</style>\n",
       "<table border=\"1\" class=\"dataframe\">\n",
       "  <thead>\n",
       "    <tr style=\"text-align: right;\">\n",
       "      <th></th>\n",
       "      <th>date</th>\n",
       "      <th>time</th>\n",
       "      <th>ip</th>\n",
       "      <th>path</th>\n",
       "      <th>user_id</th>\n",
       "      <th>cohort_id</th>\n",
       "      <th>cohort_name</th>\n",
       "      <th>slack</th>\n",
       "      <th>start_date</th>\n",
       "      <th>end_date</th>\n",
       "      <th>program_id</th>\n",
       "      <th>program</th>\n",
       "    </tr>\n",
       "    <tr>\n",
       "      <th>date</th>\n",
       "      <th></th>\n",
       "      <th></th>\n",
       "      <th></th>\n",
       "      <th></th>\n",
       "      <th></th>\n",
       "      <th></th>\n",
       "      <th></th>\n",
       "      <th></th>\n",
       "      <th></th>\n",
       "      <th></th>\n",
       "      <th></th>\n",
       "      <th></th>\n",
       "    </tr>\n",
       "  </thead>\n",
       "  <tbody>\n",
       "    <tr>\n",
       "      <th>2018-01-26</th>\n",
       "      <td>2018-01-26</td>\n",
       "      <td>09:55:03</td>\n",
       "      <td>97.105.19.61</td>\n",
       "      <td>/</td>\n",
       "      <td>1</td>\n",
       "      <td>8.0</td>\n",
       "      <td>Hampton</td>\n",
       "      <td>#hampton</td>\n",
       "      <td>2015-09-22</td>\n",
       "      <td>2016-02-06</td>\n",
       "      <td>1</td>\n",
       "      <td>Full Stack PHP</td>\n",
       "    </tr>\n",
       "    <tr>\n",
       "      <th>2018-01-26</th>\n",
       "      <td>2018-01-26</td>\n",
       "      <td>09:56:02</td>\n",
       "      <td>97.105.19.61</td>\n",
       "      <td>java-ii</td>\n",
       "      <td>1</td>\n",
       "      <td>8.0</td>\n",
       "      <td>Hampton</td>\n",
       "      <td>#hampton</td>\n",
       "      <td>2015-09-22</td>\n",
       "      <td>2016-02-06</td>\n",
       "      <td>1</td>\n",
       "      <td>Full Stack PHP</td>\n",
       "    </tr>\n",
       "    <tr>\n",
       "      <th>2018-01-26</th>\n",
       "      <td>2018-01-26</td>\n",
       "      <td>09:56:05</td>\n",
       "      <td>97.105.19.61</td>\n",
       "      <td>java-ii/object-oriented-programming</td>\n",
       "      <td>1</td>\n",
       "      <td>8.0</td>\n",
       "      <td>Hampton</td>\n",
       "      <td>#hampton</td>\n",
       "      <td>2015-09-22</td>\n",
       "      <td>2016-02-06</td>\n",
       "      <td>1</td>\n",
       "      <td>Full Stack PHP</td>\n",
       "    </tr>\n",
       "    <tr>\n",
       "      <th>2018-01-26</th>\n",
       "      <td>2018-01-26</td>\n",
       "      <td>09:56:06</td>\n",
       "      <td>97.105.19.61</td>\n",
       "      <td>slides/object_oriented_programming</td>\n",
       "      <td>1</td>\n",
       "      <td>8.0</td>\n",
       "      <td>Hampton</td>\n",
       "      <td>#hampton</td>\n",
       "      <td>2015-09-22</td>\n",
       "      <td>2016-02-06</td>\n",
       "      <td>1</td>\n",
       "      <td>Full Stack PHP</td>\n",
       "    </tr>\n",
       "    <tr>\n",
       "      <th>2018-01-26</th>\n",
       "      <td>2018-01-26</td>\n",
       "      <td>09:56:24</td>\n",
       "      <td>97.105.19.61</td>\n",
       "      <td>javascript-i/conditionals</td>\n",
       "      <td>2</td>\n",
       "      <td>22.0</td>\n",
       "      <td>Teddy</td>\n",
       "      <td>#teddy</td>\n",
       "      <td>2018-01-08</td>\n",
       "      <td>2018-05-17</td>\n",
       "      <td>2</td>\n",
       "      <td>Full Stack Java</td>\n",
       "    </tr>\n",
       "  </tbody>\n",
       "</table>\n",
       "</div>"
      ],
      "text/plain": [
       "                 date      time            ip  \\\n",
       "date                                            \n",
       "2018-01-26 2018-01-26  09:55:03  97.105.19.61   \n",
       "2018-01-26 2018-01-26  09:56:02  97.105.19.61   \n",
       "2018-01-26 2018-01-26  09:56:05  97.105.19.61   \n",
       "2018-01-26 2018-01-26  09:56:06  97.105.19.61   \n",
       "2018-01-26 2018-01-26  09:56:24  97.105.19.61   \n",
       "\n",
       "                                           path  user_id  cohort_id  \\\n",
       "date                                                                  \n",
       "2018-01-26                                    /        1        8.0   \n",
       "2018-01-26                              java-ii        1        8.0   \n",
       "2018-01-26  java-ii/object-oriented-programming        1        8.0   \n",
       "2018-01-26   slides/object_oriented_programming        1        8.0   \n",
       "2018-01-26            javascript-i/conditionals        2       22.0   \n",
       "\n",
       "           cohort_name     slack  start_date    end_date  program_id  \\\n",
       "date                                                                   \n",
       "2018-01-26     Hampton  #hampton  2015-09-22  2016-02-06           1   \n",
       "2018-01-26     Hampton  #hampton  2015-09-22  2016-02-06           1   \n",
       "2018-01-26     Hampton  #hampton  2015-09-22  2016-02-06           1   \n",
       "2018-01-26     Hampton  #hampton  2015-09-22  2016-02-06           1   \n",
       "2018-01-26       Teddy    #teddy  2018-01-08  2018-05-17           2   \n",
       "\n",
       "                    program  \n",
       "date                         \n",
       "2018-01-26   Full Stack PHP  \n",
       "2018-01-26   Full Stack PHP  \n",
       "2018-01-26   Full Stack PHP  \n",
       "2018-01-26   Full Stack PHP  \n",
       "2018-01-26  Full Stack Java  "
      ]
     },
     "execution_count": 5,
     "metadata": {},
     "output_type": "execute_result"
    }
   ],
   "source": [
    "df.head()"
   ]
  },
  {
   "cell_type": "code",
   "execution_count": null,
   "id": "c1968939",
   "metadata": {
    "scrolled": true
   },
   "outputs": [],
   "source": []
  },
  {
   "cell_type": "code",
   "execution_count": 6,
   "id": "a183600b",
   "metadata": {},
   "outputs": [
    {
     "name": "stdout",
     "output_type": "stream",
     "text": [
      "<class 'pandas.core.frame.DataFrame'>\n",
      "DatetimeIndex: 847329 entries, 2018-01-26 to 2021-04-21\n",
      "Data columns (total 12 columns):\n",
      " #   Column       Non-Null Count   Dtype         \n",
      "---  ------       --------------   -----         \n",
      " 0   date         847329 non-null  datetime64[ns]\n",
      " 1   time         847329 non-null  object        \n",
      " 2   ip           847329 non-null  object        \n",
      " 3   path         847329 non-null  object        \n",
      " 4   user_id      847329 non-null  int64         \n",
      " 5   cohort_id    847329 non-null  float64       \n",
      " 6   cohort_name  847329 non-null  object        \n",
      " 7   slack        847329 non-null  object        \n",
      " 8   start_date   847329 non-null  object        \n",
      " 9   end_date     847329 non-null  object        \n",
      " 10  program_id   847329 non-null  int64         \n",
      " 11  program      847329 non-null  object        \n",
      "dtypes: datetime64[ns](1), float64(1), int64(2), object(8)\n",
      "memory usage: 84.0+ MB\n"
     ]
    }
   ],
   "source": [
    "df.info()"
   ]
  },
  {
   "cell_type": "code",
   "execution_count": 7,
   "id": "7a23d36a",
   "metadata": {},
   "outputs": [],
   "source": [
    "# Drop deleted_at column\n",
    "\n",
    "\n",
    "#df = df.drop(columns= 'deleted_at', inplace = True)\n",
    "#df.head()"
   ]
  },
  {
   "cell_type": "markdown",
   "id": "590e046f",
   "metadata": {},
   "source": [
    "## Detecting Anomalies in Discrete Variables\n",
    "\n",
    "1. Which lesson appears to attract the most traffic consistently across cohorts (per program)?\n",
    "\n",
    "---\n",
    "\n",
    "#### Okay so how do I best approach this problem?\n",
    "\n",
    "1. Create and separate the datasets of Web Development and Data Science programs.\n",
    "    - 1 == WD\n",
    "    - 2 == WD\n",
    "    - 3 == DS\n",
    "    - 4 == WD\n",
    "    \n",
    "2. Remove the popular logistic pages in the curriculum. I.E. '/' = main page, 'toc' = Table of Contents, et.c\n",
    "3. Use .value_counts() on path to see the most accessed pages.\n",
    "4. Store the top 10 page names with page counts as a variable."
   ]
  },
  {
   "cell_type": "code",
   "execution_count": 8,
   "id": "526a44be",
   "metadata": {},
   "outputs": [
    {
     "data": {
      "text/plain": [
       "/                                                               45854\n",
       "javascript-i                                                    18203\n",
       "toc                                                             17591\n",
       "search/search_index.json                                        17534\n",
       "java-iii                                                        13166\n",
       "                                                                ...  \n",
       "content/examples/javascript/primitive-types.html                    1\n",
       "content/examples/javascript/conditionals.html                       1\n",
       "2-storytelling/1-overview/www.qlik.com                              1\n",
       "syntax-types-and-variables                                          1\n",
       "appendix/professional-development/post-interview-review-form        1\n",
       "Name: path, Length: 2224, dtype: int64"
      ]
     },
     "execution_count": 8,
     "metadata": {},
     "output_type": "execute_result"
    }
   ],
   "source": [
    "df.path.value_counts()"
   ]
  },
  {
   "cell_type": "code",
   "execution_count": 9,
   "id": "35718e47",
   "metadata": {
    "scrolled": true
   },
   "outputs": [
    {
     "data": {
      "text/plain": [
       "/                                                                            0.054116\n",
       "javascript-i                                                                 0.021483\n",
       "toc                                                                          0.020761\n",
       "search/search_index.json                                                     0.020693\n",
       "java-iii                                                                     0.015538\n",
       "html-css                                                                     0.015492\n",
       "java-ii                                                                      0.014371\n",
       "spring                                                                       0.014024\n",
       "jquery                                                                       0.013030\n",
       "mysql                                                                        0.012523\n",
       "java-i                                                                       0.012353\n",
       "javascript-ii                                                                0.012149\n",
       "appendix                                                                     0.009516\n",
       "javascript-i/introduction/working-with-data-types-operators-and-variables    0.008646\n",
       "mysql/tables                                                                 0.008380\n",
       "javascript-i/functions                                                       0.008344\n",
       "javascript-i/javascript-with-html                                            0.008319\n",
       "html-css/elements                                                            0.007937\n",
       "mysql/databases                                                              0.007853\n",
       "java-iii/jsp-and-jstl                                                        0.007790\n",
       "Name: path, dtype: float64"
      ]
     },
     "execution_count": 9,
     "metadata": {},
     "output_type": "execute_result"
    }
   ],
   "source": [
    "df.path.value_counts(normalize=True).head(20)"
   ]
  },
  {
   "cell_type": "code",
   "execution_count": 10,
   "id": "d36dd610",
   "metadata": {},
   "outputs": [
    {
     "data": {
      "text/plain": [
       "2224"
      ]
     },
     "execution_count": 10,
     "metadata": {},
     "output_type": "execute_result"
    }
   ],
   "source": [
    "# how many unique paths we have in the dataset?\n",
    "df.path.nunique()"
   ]
  },
  {
   "cell_type": "code",
   "execution_count": 11,
   "id": "101e6138",
   "metadata": {},
   "outputs": [
    {
     "data": {
      "text/plain": [
       "date            1182\n",
       "time           72331\n",
       "ip              5200\n",
       "path            2224\n",
       "user_id          911\n",
       "cohort_id         47\n",
       "cohort_name       47\n",
       "slack             46\n",
       "start_date        44\n",
       "end_date          45\n",
       "program_id         4\n",
       "program            4\n",
       "dtype: int64"
      ]
     },
     "execution_count": 11,
     "metadata": {},
     "output_type": "execute_result"
    }
   ],
   "source": [
    "df.nunique()"
   ]
  },
  {
   "cell_type": "markdown",
   "id": "3b6665a4",
   "metadata": {},
   "source": [
    "### Top 10 accessed pages across programs"
   ]
  },
  {
   "cell_type": "code",
   "execution_count": 12,
   "id": "06d7e37b",
   "metadata": {},
   "outputs": [
    {
     "data": {
      "text/plain": [
       "/                1681\n",
       "index.html       1011\n",
       "javascript-i      736\n",
       "html-css          542\n",
       "spring            501\n",
       "java-iii          479\n",
       "java-ii           454\n",
       "java-i            444\n",
       "javascript-ii     429\n",
       "appendix          409\n",
       "Name: path, dtype: int64"
      ]
     },
     "execution_count": 12,
     "metadata": {},
     "output_type": "execute_result"
    }
   ],
   "source": [
    "df.loc[df.program_id==1].path.value_counts().nlargest(10)"
   ]
  },
  {
   "cell_type": "code",
   "execution_count": 13,
   "id": "8fbb16ae",
   "metadata": {},
   "outputs": [
    {
     "data": {
      "text/plain": [
       "/                           35814\n",
       "javascript-i                17457\n",
       "toc                         17428\n",
       "search/search_index.json    15212\n",
       "java-iii                    12683\n",
       "html-css                    12569\n",
       "java-ii                     11719\n",
       "spring                      11376\n",
       "jquery                      10693\n",
       "mysql                       10318\n",
       "Name: path, dtype: int64"
      ]
     },
     "execution_count": 13,
     "metadata": {},
     "output_type": "execute_result"
    }
   ],
   "source": [
    "df.loc[df.program_id==2].path.value_counts().nlargest(10)"
   ]
  },
  {
   "cell_type": "code",
   "execution_count": 14,
   "id": "87d10542",
   "metadata": {},
   "outputs": [
    {
     "data": {
      "text/plain": [
       "/                                           8358\n",
       "search/search_index.json                    2203\n",
       "classification/overview                     1785\n",
       "1-fundamentals/modern-data-scientist.jpg    1655\n",
       "1-fundamentals/AI-ML-DL-timeline.jpg        1651\n",
       "1-fundamentals/1.1-intro-to-data-science    1633\n",
       "classification/scale_features_or_not.svg    1590\n",
       "fundamentals/AI-ML-DL-timeline.jpg          1443\n",
       "fundamentals/modern-data-scientist.jpg      1438\n",
       "sql/mysql-overview                          1424\n",
       "Name: path, dtype: int64"
      ]
     },
     "execution_count": 14,
     "metadata": {},
     "output_type": "execute_result"
    }
   ],
   "source": [
    "df.loc[df.program_id==3].path.value_counts().nlargest(10)"
   ]
  },
  {
   "cell_type": "code",
   "execution_count": 15,
   "id": "110afa6b",
   "metadata": {},
   "outputs": [
    {
     "data": {
      "text/plain": [
       "content/html-css                               2\n",
       "/                                              1\n",
       "content/html-css/gitbook/images/favicon.ico    1\n",
       "content/html-css/introduction.html             1\n",
       "Name: path, dtype: int64"
      ]
     },
     "execution_count": 15,
     "metadata": {},
     "output_type": "execute_result"
    }
   ],
   "source": [
    "df.loc[df.program_id==4].path.value_counts().nlargest(10)"
   ]
  },
  {
   "cell_type": "markdown",
   "id": "d8ccf5b8",
   "metadata": {},
   "source": [
    "## Web Development up first"
   ]
  },
  {
   "cell_type": "code",
   "execution_count": 16,
   "id": "02650726",
   "metadata": {},
   "outputs": [],
   "source": [
    "# Remove staff from the analysis.\n",
    "df.loc[~(df.cohort_name == 'Staff')]\n",
    "\n",
    "# Step 1.\n",
    "# Web Devlopment Cohorts\n",
    "wd_cohorts = df.loc[df.program_id.isin([1, 2, 4])]\n",
    "\n",
    "# Data Science Cohorts\n",
    "ds_cohorts = df.loc[df.program_id == 3]"
   ]
  },
  {
   "cell_type": "code",
   "execution_count": 17,
   "id": "135a8ecc",
   "metadata": {},
   "outputs": [
    {
     "name": "stderr",
     "output_type": "stream",
     "text": [
      "/var/folders/xr/rf33rdr91vd7xt659vgf8qkm0000gn/T/ipykernel_4575/1308730922.py:9: UserWarning: Pandas doesn't allow columns to be created via a new attribute name - see https://pandas.pydata.org/pandas-docs/stable/indexing.html#attribute-access\n",
      "  wd_cohorts.page_viewed = wd_cohorts.path.replace('content/', '', regex=True)\n"
     ]
    }
   ],
   "source": [
    "# Step 2.\n",
    "# Create a variable to store pages to filter out.\n",
    "remove_pages = [ 'index.html', 'search/search_index.json', 'mkdocs/search_index.json','/', 'toc', 'appendix',]\n",
    "\n",
    "# Clean page_viewed to remove logistic pages: Searches, Table of Contents, Appendix\n",
    "wd_cohorts = wd_cohorts.loc[~wd_cohorts.path.isin(remove_pages)]\n",
    "\n",
    "# Replace content main page with empty string.\n",
    "wd_cohorts.page_viewed = wd_cohorts.path.replace('content/', '', regex=True)"
   ]
  },
  {
   "cell_type": "code",
   "execution_count": 26,
   "id": "ad94bcf5",
   "metadata": {},
   "outputs": [
    {
     "data": {
      "text/html": [
       "<div>\n",
       "<style scoped>\n",
       "    .dataframe tbody tr th:only-of-type {\n",
       "        vertical-align: middle;\n",
       "    }\n",
       "\n",
       "    .dataframe tbody tr th {\n",
       "        vertical-align: top;\n",
       "    }\n",
       "\n",
       "    .dataframe thead th {\n",
       "        text-align: right;\n",
       "    }\n",
       "</style>\n",
       "<table border=\"1\" class=\"dataframe\">\n",
       "  <thead>\n",
       "    <tr style=\"text-align: right;\">\n",
       "      <th></th>\n",
       "      <th>date</th>\n",
       "      <th>time</th>\n",
       "      <th>ip</th>\n",
       "      <th>path</th>\n",
       "      <th>user_id</th>\n",
       "      <th>cohort_id</th>\n",
       "      <th>cohort_name</th>\n",
       "      <th>slack</th>\n",
       "      <th>start_date</th>\n",
       "      <th>end_date</th>\n",
       "      <th>program_id</th>\n",
       "      <th>program</th>\n",
       "    </tr>\n",
       "    <tr>\n",
       "      <th>date</th>\n",
       "      <th></th>\n",
       "      <th></th>\n",
       "      <th></th>\n",
       "      <th></th>\n",
       "      <th></th>\n",
       "      <th></th>\n",
       "      <th></th>\n",
       "      <th></th>\n",
       "      <th></th>\n",
       "      <th></th>\n",
       "      <th></th>\n",
       "      <th></th>\n",
       "    </tr>\n",
       "  </thead>\n",
       "  <tbody>\n",
       "    <tr>\n",
       "      <th>2018-01-26</th>\n",
       "      <td>2018-01-26</td>\n",
       "      <td>09:56:02</td>\n",
       "      <td>97.105.19.61</td>\n",
       "      <td>java-ii</td>\n",
       "      <td>1</td>\n",
       "      <td>8.0</td>\n",
       "      <td>Hampton</td>\n",
       "      <td>#hampton</td>\n",
       "      <td>2015-09-22</td>\n",
       "      <td>2016-02-06</td>\n",
       "      <td>1</td>\n",
       "      <td>Full Stack PHP</td>\n",
       "    </tr>\n",
       "    <tr>\n",
       "      <th>2018-01-26</th>\n",
       "      <td>2018-01-26</td>\n",
       "      <td>09:56:05</td>\n",
       "      <td>97.105.19.61</td>\n",
       "      <td>java-ii/object-oriented-programming</td>\n",
       "      <td>1</td>\n",
       "      <td>8.0</td>\n",
       "      <td>Hampton</td>\n",
       "      <td>#hampton</td>\n",
       "      <td>2015-09-22</td>\n",
       "      <td>2016-02-06</td>\n",
       "      <td>1</td>\n",
       "      <td>Full Stack PHP</td>\n",
       "    </tr>\n",
       "    <tr>\n",
       "      <th>2018-01-26</th>\n",
       "      <td>2018-01-26</td>\n",
       "      <td>09:56:06</td>\n",
       "      <td>97.105.19.61</td>\n",
       "      <td>slides/object_oriented_programming</td>\n",
       "      <td>1</td>\n",
       "      <td>8.0</td>\n",
       "      <td>Hampton</td>\n",
       "      <td>#hampton</td>\n",
       "      <td>2015-09-22</td>\n",
       "      <td>2016-02-06</td>\n",
       "      <td>1</td>\n",
       "      <td>Full Stack PHP</td>\n",
       "    </tr>\n",
       "    <tr>\n",
       "      <th>2018-01-26</th>\n",
       "      <td>2018-01-26</td>\n",
       "      <td>09:56:24</td>\n",
       "      <td>97.105.19.61</td>\n",
       "      <td>javascript-i/conditionals</td>\n",
       "      <td>2</td>\n",
       "      <td>22.0</td>\n",
       "      <td>Teddy</td>\n",
       "      <td>#teddy</td>\n",
       "      <td>2018-01-08</td>\n",
       "      <td>2018-05-17</td>\n",
       "      <td>2</td>\n",
       "      <td>Full Stack Java</td>\n",
       "    </tr>\n",
       "    <tr>\n",
       "      <th>2018-01-26</th>\n",
       "      <td>2018-01-26</td>\n",
       "      <td>09:56:41</td>\n",
       "      <td>97.105.19.61</td>\n",
       "      <td>javascript-i/loops</td>\n",
       "      <td>2</td>\n",
       "      <td>22.0</td>\n",
       "      <td>Teddy</td>\n",
       "      <td>#teddy</td>\n",
       "      <td>2018-01-08</td>\n",
       "      <td>2018-05-17</td>\n",
       "      <td>2</td>\n",
       "      <td>Full Stack Java</td>\n",
       "    </tr>\n",
       "  </tbody>\n",
       "</table>\n",
       "</div>"
      ],
      "text/plain": [
       "                 date      time            ip  \\\n",
       "date                                            \n",
       "2018-01-26 2018-01-26  09:56:02  97.105.19.61   \n",
       "2018-01-26 2018-01-26  09:56:05  97.105.19.61   \n",
       "2018-01-26 2018-01-26  09:56:06  97.105.19.61   \n",
       "2018-01-26 2018-01-26  09:56:24  97.105.19.61   \n",
       "2018-01-26 2018-01-26  09:56:41  97.105.19.61   \n",
       "\n",
       "                                           path  user_id  cohort_id  \\\n",
       "date                                                                  \n",
       "2018-01-26                              java-ii        1        8.0   \n",
       "2018-01-26  java-ii/object-oriented-programming        1        8.0   \n",
       "2018-01-26   slides/object_oriented_programming        1        8.0   \n",
       "2018-01-26            javascript-i/conditionals        2       22.0   \n",
       "2018-01-26                   javascript-i/loops        2       22.0   \n",
       "\n",
       "           cohort_name     slack  start_date    end_date  program_id  \\\n",
       "date                                                                   \n",
       "2018-01-26     Hampton  #hampton  2015-09-22  2016-02-06           1   \n",
       "2018-01-26     Hampton  #hampton  2015-09-22  2016-02-06           1   \n",
       "2018-01-26     Hampton  #hampton  2015-09-22  2016-02-06           1   \n",
       "2018-01-26       Teddy    #teddy  2018-01-08  2018-05-17           2   \n",
       "2018-01-26       Teddy    #teddy  2018-01-08  2018-05-17           2   \n",
       "\n",
       "                    program  \n",
       "date                         \n",
       "2018-01-26   Full Stack PHP  \n",
       "2018-01-26   Full Stack PHP  \n",
       "2018-01-26   Full Stack PHP  \n",
       "2018-01-26  Full Stack Java  \n",
       "2018-01-26  Full Stack Java  "
      ]
     },
     "execution_count": 26,
     "metadata": {},
     "output_type": "execute_result"
    }
   ],
   "source": [
    "wd_cohorts.head()"
   ]
  },
  {
   "cell_type": "code",
   "execution_count": 19,
   "id": "4dfe433d",
   "metadata": {},
   "outputs": [
    {
     "name": "stdout",
     "output_type": "stream",
     "text": [
      "javascript-i                                                                 18193\n",
      "java-iii                                                                     13162\n",
      "html-css                                                                     13111\n",
      "java-ii                                                                      12173\n",
      "spring                                                                       11877\n",
      "jquery                                                                       11037\n",
      "mysql                                                                        10602\n",
      "java-i                                                                       10460\n",
      "javascript-ii                                                                10290\n",
      "javascript-i/introduction/working-with-data-types-operators-and-variables     7326\n",
      "Name: path, dtype: int64\n"
     ]
    }
   ],
   "source": [
    "# Step 3 `.value_counts()`\n",
    "wd_top_10_pages = wd_cohorts.path.value_counts().nlargest(10)\n",
    "print(wd_top_10_pages)\n",
    "wd_top_10_pages = wd_top_10_pages.index.to_list()"
   ]
  },
  {
   "cell_type": "markdown",
   "id": "a23e9a49",
   "metadata": {},
   "source": [
    "## Data Science up next"
   ]
  },
  {
   "cell_type": "code",
   "execution_count": 27,
   "id": "ebee0dad",
   "metadata": {},
   "outputs": [],
   "source": [
    "# Step 2.\n",
    "# Create a variable to store pages to filter out.\n",
    "remove_pages = ['/', 'toc', 'appendix', 'index.html', 'search/search_index.json', 'mkdocs/search_index.json']\n",
    "\n",
    "# Clean page_viewed to remove logistic pages: Searches, Table of Contents, Appendix\n",
    "ds_cohorts = ds_cohorts.loc[~ds_cohorts.path.isin(remove_pages)]\n",
    "\n",
    "# Replace content main page with empty string.\n",
    "ds_cohorts.path = ds_cohorts.path.replace('content/', '', regex=True)"
   ]
  },
  {
   "cell_type": "code",
   "execution_count": 28,
   "id": "7cee3219",
   "metadata": {},
   "outputs": [
    {
     "data": {
      "text/html": [
       "<div>\n",
       "<style scoped>\n",
       "    .dataframe tbody tr th:only-of-type {\n",
       "        vertical-align: middle;\n",
       "    }\n",
       "\n",
       "    .dataframe tbody tr th {\n",
       "        vertical-align: top;\n",
       "    }\n",
       "\n",
       "    .dataframe thead th {\n",
       "        text-align: right;\n",
       "    }\n",
       "</style>\n",
       "<table border=\"1\" class=\"dataframe\">\n",
       "  <thead>\n",
       "    <tr style=\"text-align: right;\">\n",
       "      <th></th>\n",
       "      <th>date</th>\n",
       "      <th>time</th>\n",
       "      <th>ip</th>\n",
       "      <th>path</th>\n",
       "      <th>user_id</th>\n",
       "      <th>cohort_id</th>\n",
       "      <th>cohort_name</th>\n",
       "      <th>slack</th>\n",
       "      <th>start_date</th>\n",
       "      <th>end_date</th>\n",
       "      <th>program_id</th>\n",
       "      <th>program</th>\n",
       "    </tr>\n",
       "    <tr>\n",
       "      <th>date</th>\n",
       "      <th></th>\n",
       "      <th></th>\n",
       "      <th></th>\n",
       "      <th></th>\n",
       "      <th></th>\n",
       "      <th></th>\n",
       "      <th></th>\n",
       "      <th></th>\n",
       "      <th></th>\n",
       "      <th></th>\n",
       "      <th></th>\n",
       "      <th></th>\n",
       "    </tr>\n",
       "  </thead>\n",
       "  <tbody>\n",
       "    <tr>\n",
       "      <th>2019-08-20</th>\n",
       "      <td>2019-08-20</td>\n",
       "      <td>09:40:28</td>\n",
       "      <td>97.105.19.58</td>\n",
       "      <td>3-sql/1-mysql-overview</td>\n",
       "      <td>470</td>\n",
       "      <td>34.0</td>\n",
       "      <td>Bayes</td>\n",
       "      <td>#</td>\n",
       "      <td>2019-08-19</td>\n",
       "      <td>2020-01-30</td>\n",
       "      <td>3</td>\n",
       "      <td>Data Science</td>\n",
       "    </tr>\n",
       "    <tr>\n",
       "      <th>2019-08-20</th>\n",
       "      <td>2019-08-20</td>\n",
       "      <td>09:40:30</td>\n",
       "      <td>97.105.19.58</td>\n",
       "      <td>2-storytelling/bad-charts</td>\n",
       "      <td>467</td>\n",
       "      <td>34.0</td>\n",
       "      <td>Bayes</td>\n",
       "      <td>#</td>\n",
       "      <td>2019-08-19</td>\n",
       "      <td>2020-01-30</td>\n",
       "      <td>3</td>\n",
       "      <td>Data Science</td>\n",
       "    </tr>\n",
       "    <tr>\n",
       "      <th>2019-08-20</th>\n",
       "      <td>2019-08-20</td>\n",
       "      <td>09:40:30</td>\n",
       "      <td>97.105.19.58</td>\n",
       "      <td>2-storytelling/misleading1_baseball.jpg</td>\n",
       "      <td>467</td>\n",
       "      <td>34.0</td>\n",
       "      <td>Bayes</td>\n",
       "      <td>#</td>\n",
       "      <td>2019-08-19</td>\n",
       "      <td>2020-01-30</td>\n",
       "      <td>3</td>\n",
       "      <td>Data Science</td>\n",
       "    </tr>\n",
       "    <tr>\n",
       "      <th>2019-08-20</th>\n",
       "      <td>2019-08-20</td>\n",
       "      <td>09:40:30</td>\n",
       "      <td>97.105.19.58</td>\n",
       "      <td>2-storytelling/misleading1_fox.jpg</td>\n",
       "      <td>467</td>\n",
       "      <td>34.0</td>\n",
       "      <td>Bayes</td>\n",
       "      <td>#</td>\n",
       "      <td>2019-08-19</td>\n",
       "      <td>2020-01-30</td>\n",
       "      <td>3</td>\n",
       "      <td>Data Science</td>\n",
       "    </tr>\n",
       "    <tr>\n",
       "      <th>2019-08-20</th>\n",
       "      <td>2019-08-20</td>\n",
       "      <td>09:40:30</td>\n",
       "      <td>97.105.19.58</td>\n",
       "      <td>2-storytelling/misleading3_deaths.jpg</td>\n",
       "      <td>467</td>\n",
       "      <td>34.0</td>\n",
       "      <td>Bayes</td>\n",
       "      <td>#</td>\n",
       "      <td>2019-08-19</td>\n",
       "      <td>2020-01-30</td>\n",
       "      <td>3</td>\n",
       "      <td>Data Science</td>\n",
       "    </tr>\n",
       "  </tbody>\n",
       "</table>\n",
       "</div>"
      ],
      "text/plain": [
       "                 date      time            ip  \\\n",
       "date                                            \n",
       "2019-08-20 2019-08-20  09:40:28  97.105.19.58   \n",
       "2019-08-20 2019-08-20  09:40:30  97.105.19.58   \n",
       "2019-08-20 2019-08-20  09:40:30  97.105.19.58   \n",
       "2019-08-20 2019-08-20  09:40:30  97.105.19.58   \n",
       "2019-08-20 2019-08-20  09:40:30  97.105.19.58   \n",
       "\n",
       "                                               path  user_id  cohort_id  \\\n",
       "date                                                                      \n",
       "2019-08-20                   3-sql/1-mysql-overview      470       34.0   \n",
       "2019-08-20                2-storytelling/bad-charts      467       34.0   \n",
       "2019-08-20  2-storytelling/misleading1_baseball.jpg      467       34.0   \n",
       "2019-08-20       2-storytelling/misleading1_fox.jpg      467       34.0   \n",
       "2019-08-20    2-storytelling/misleading3_deaths.jpg      467       34.0   \n",
       "\n",
       "           cohort_name slack  start_date    end_date  program_id       program  \n",
       "date                                                                            \n",
       "2019-08-20       Bayes     #  2019-08-19  2020-01-30           3  Data Science  \n",
       "2019-08-20       Bayes     #  2019-08-19  2020-01-30           3  Data Science  \n",
       "2019-08-20       Bayes     #  2019-08-19  2020-01-30           3  Data Science  \n",
       "2019-08-20       Bayes     #  2019-08-19  2020-01-30           3  Data Science  \n",
       "2019-08-20       Bayes     #  2019-08-19  2020-01-30           3  Data Science  "
      ]
     },
     "execution_count": 28,
     "metadata": {},
     "output_type": "execute_result"
    }
   ],
   "source": [
    "ds_cohorts.head()"
   ]
  },
  {
   "cell_type": "code",
   "execution_count": 29,
   "id": "05825352",
   "metadata": {},
   "outputs": [
    {
     "name": "stdout",
     "output_type": "stream",
     "text": [
      "classification/overview                     1785\n",
      "1-fundamentals/modern-data-scientist.jpg    1655\n",
      "1-fundamentals/AI-ML-DL-timeline.jpg        1651\n",
      "1-fundamentals/1.1-intro-to-data-science    1633\n",
      "classification/scale_features_or_not.svg    1590\n",
      "fundamentals/AI-ML-DL-timeline.jpg          1443\n",
      "fundamentals/modern-data-scientist.jpg      1438\n",
      "sql/mysql-overview                          1424\n",
      "fundamentals/intro-to-data-science          1413\n",
      "6-regression/1-overview                     1124\n",
      "Name: path, dtype: int64\n"
     ]
    }
   ],
   "source": [
    "# Step 3 `.value_counts()`\n",
    "ds_top_10_pages = ds_cohorts.path.value_counts().nlargest(10)\n",
    "print(ds_top_10_pages)\n",
    "ds_top_10_pages = ds_top_10_pages.index.to_list()"
   ]
  },
  {
   "cell_type": "markdown",
   "id": "bad784f1",
   "metadata": {},
   "source": [
    "# Takeaways for Question 1.\n",
    "\n",
    "- Data Science cohorts access <b>classification/overview</b>  the most.\n",
    "- Web Development cohorts access <b>javascript-i</b> the most."
   ]
  },
  {
   "cell_type": "code",
   "execution_count": null,
   "id": "57142c0e",
   "metadata": {},
   "outputs": [],
   "source": []
  },
  {
   "cell_type": "code",
   "execution_count": null,
   "id": "d4c2427a",
   "metadata": {},
   "outputs": [],
   "source": []
  },
  {
   "cell_type": "code",
   "execution_count": null,
   "id": "5eda59d7",
   "metadata": {},
   "outputs": [],
   "source": []
  }
 ],
 "metadata": {
  "kernelspec": {
   "display_name": "Python 3 (ipykernel)",
   "language": "python",
   "name": "python3"
  },
  "language_info": {
   "codemirror_mode": {
    "name": "ipython",
    "version": 3
   },
   "file_extension": ".py",
   "mimetype": "text/x-python",
   "name": "python",
   "nbconvert_exporter": "python",
   "pygments_lexer": "ipython3",
   "version": "3.9.12"
  }
 },
 "nbformat": 4,
 "nbformat_minor": 5
}
