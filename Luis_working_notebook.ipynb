{
 "cells": [
  {
   "cell_type": "code",
   "execution_count": 43,
   "id": "752b864e",
   "metadata": {},
   "outputs": [],
   "source": [
    "import matplotlib.pyplot as plt\n",
    "import numpy as np\n",
    "import pandas as pd\n",
    "import seaborn as sns\n",
    "from sklearn import metrics\n",
    "import os\n",
    "import env"
   ]
  },
  {
   "cell_type": "code",
   "execution_count": 44,
   "id": "dab2a6de",
   "metadata": {},
   "outputs": [],
   "source": [
    "# Getting conncection to mySQL database, and acquiring data\n",
    "def get_connection(db, user=env.user, host=env.host, password=env.password):\n",
    "    '''\n",
    "    This function gets conncection to mySQL database\n",
    "    '''\n",
    "    return f'mysql+pymysql://{user}:{password}@{host}/{db}'\n",
    "\n",
    "# Loading raw data from Curriculum_Log database\n",
    "def new_data():\n",
    "    '''\n",
    "    This function reads the curriculum data from the mySQL database into a df.\n",
    "    '''\n",
    "    # Create SQL query.\n",
    "    sql_query = '''\n",
    "    SELECT * FROM logs LEFT JOIN cohorts ON logs.user_id = cohorts.id\n",
    "    '''\n",
    "    # Read in DataFrame from Codeup db.\n",
    "    df = pd.read_sql(sql_query, get_connection('curriculum_logs'))\n",
    "    \n",
    "    return df\n",
    "\n",
    "def get_data():\n",
    "    '''\n",
    "    This function reads in curriculum data from curriculum_log database, writes data to\n",
    "    a csv file if a local file does not exist, and returns a df.\n",
    "    '''\n",
    "    if os.path.isfile('curriculum.csv'):\n",
    "        \n",
    "        # If csv file exists, read in data from csv file.\n",
    "        df = pd.read_csv('curriculum.csv', index_col=0)\n",
    "        \n",
    "    else:\n",
    "        \n",
    "        # Read fresh data from db into a DataFrame.\n",
    "        df = new_data()\n",
    "        \n",
    "        # Write DataFrame to a csv file.\n",
    "        df.to_csv('curriculum.csv')\n",
    "        \n",
    "    return df"
   ]
  },
  {
   "cell_type": "code",
   "execution_count": 45,
   "id": "c1968939",
   "metadata": {
    "scrolled": true
   },
   "outputs": [
    {
     "data": {
      "text/html": [
       "<div>\n",
       "<style scoped>\n",
       "    .dataframe tbody tr th:only-of-type {\n",
       "        vertical-align: middle;\n",
       "    }\n",
       "\n",
       "    .dataframe tbody tr th {\n",
       "        vertical-align: top;\n",
       "    }\n",
       "\n",
       "    .dataframe thead th {\n",
       "        text-align: right;\n",
       "    }\n",
       "</style>\n",
       "<table border=\"1\" class=\"dataframe\">\n",
       "  <thead>\n",
       "    <tr style=\"text-align: right;\">\n",
       "      <th></th>\n",
       "      <th>date</th>\n",
       "      <th>time</th>\n",
       "      <th>path</th>\n",
       "      <th>user_id</th>\n",
       "      <th>cohort_id</th>\n",
       "      <th>ip</th>\n",
       "      <th>id</th>\n",
       "      <th>name</th>\n",
       "      <th>slack</th>\n",
       "      <th>start_date</th>\n",
       "      <th>end_date</th>\n",
       "      <th>created_at</th>\n",
       "      <th>updated_at</th>\n",
       "      <th>deleted_at</th>\n",
       "      <th>program_id</th>\n",
       "    </tr>\n",
       "  </thead>\n",
       "  <tbody>\n",
       "    <tr>\n",
       "      <th>0</th>\n",
       "      <td>2018-01-26</td>\n",
       "      <td>09:55:03</td>\n",
       "      <td>/</td>\n",
       "      <td>1</td>\n",
       "      <td>8.0</td>\n",
       "      <td>97.105.19.61</td>\n",
       "      <td>1.0</td>\n",
       "      <td>Arches</td>\n",
       "      <td>#arches</td>\n",
       "      <td>2014-02-04</td>\n",
       "      <td>2014-04-22</td>\n",
       "      <td>2016-06-14 19:52:26</td>\n",
       "      <td>2016-06-14 19:52:26</td>\n",
       "      <td>None</td>\n",
       "      <td>1.0</td>\n",
       "    </tr>\n",
       "    <tr>\n",
       "      <th>1</th>\n",
       "      <td>2018-01-26</td>\n",
       "      <td>09:56:02</td>\n",
       "      <td>java-ii</td>\n",
       "      <td>1</td>\n",
       "      <td>8.0</td>\n",
       "      <td>97.105.19.61</td>\n",
       "      <td>1.0</td>\n",
       "      <td>Arches</td>\n",
       "      <td>#arches</td>\n",
       "      <td>2014-02-04</td>\n",
       "      <td>2014-04-22</td>\n",
       "      <td>2016-06-14 19:52:26</td>\n",
       "      <td>2016-06-14 19:52:26</td>\n",
       "      <td>None</td>\n",
       "      <td>1.0</td>\n",
       "    </tr>\n",
       "    <tr>\n",
       "      <th>2</th>\n",
       "      <td>2018-01-26</td>\n",
       "      <td>09:56:05</td>\n",
       "      <td>java-ii/object-oriented-programming</td>\n",
       "      <td>1</td>\n",
       "      <td>8.0</td>\n",
       "      <td>97.105.19.61</td>\n",
       "      <td>1.0</td>\n",
       "      <td>Arches</td>\n",
       "      <td>#arches</td>\n",
       "      <td>2014-02-04</td>\n",
       "      <td>2014-04-22</td>\n",
       "      <td>2016-06-14 19:52:26</td>\n",
       "      <td>2016-06-14 19:52:26</td>\n",
       "      <td>None</td>\n",
       "      <td>1.0</td>\n",
       "    </tr>\n",
       "    <tr>\n",
       "      <th>3</th>\n",
       "      <td>2018-01-26</td>\n",
       "      <td>09:56:06</td>\n",
       "      <td>slides/object_oriented_programming</td>\n",
       "      <td>1</td>\n",
       "      <td>8.0</td>\n",
       "      <td>97.105.19.61</td>\n",
       "      <td>1.0</td>\n",
       "      <td>Arches</td>\n",
       "      <td>#arches</td>\n",
       "      <td>2014-02-04</td>\n",
       "      <td>2014-04-22</td>\n",
       "      <td>2016-06-14 19:52:26</td>\n",
       "      <td>2016-06-14 19:52:26</td>\n",
       "      <td>None</td>\n",
       "      <td>1.0</td>\n",
       "    </tr>\n",
       "    <tr>\n",
       "      <th>4</th>\n",
       "      <td>2018-01-26</td>\n",
       "      <td>09:56:24</td>\n",
       "      <td>javascript-i/conditionals</td>\n",
       "      <td>2</td>\n",
       "      <td>22.0</td>\n",
       "      <td>97.105.19.61</td>\n",
       "      <td>2.0</td>\n",
       "      <td>Badlands</td>\n",
       "      <td>#badlands</td>\n",
       "      <td>2014-06-04</td>\n",
       "      <td>2014-08-22</td>\n",
       "      <td>2016-06-14 19:52:26</td>\n",
       "      <td>2016-06-14 19:52:26</td>\n",
       "      <td>None</td>\n",
       "      <td>1.0</td>\n",
       "    </tr>\n",
       "  </tbody>\n",
       "</table>\n",
       "</div>"
      ],
      "text/plain": [
       "         date      time                                 path  user_id  \\\n",
       "0  2018-01-26  09:55:03                                    /        1   \n",
       "1  2018-01-26  09:56:02                              java-ii        1   \n",
       "2  2018-01-26  09:56:05  java-ii/object-oriented-programming        1   \n",
       "3  2018-01-26  09:56:06   slides/object_oriented_programming        1   \n",
       "4  2018-01-26  09:56:24            javascript-i/conditionals        2   \n",
       "\n",
       "   cohort_id            ip   id      name      slack  start_date    end_date  \\\n",
       "0        8.0  97.105.19.61  1.0    Arches    #arches  2014-02-04  2014-04-22   \n",
       "1        8.0  97.105.19.61  1.0    Arches    #arches  2014-02-04  2014-04-22   \n",
       "2        8.0  97.105.19.61  1.0    Arches    #arches  2014-02-04  2014-04-22   \n",
       "3        8.0  97.105.19.61  1.0    Arches    #arches  2014-02-04  2014-04-22   \n",
       "4       22.0  97.105.19.61  2.0  Badlands  #badlands  2014-06-04  2014-08-22   \n",
       "\n",
       "            created_at           updated_at deleted_at  program_id  \n",
       "0  2016-06-14 19:52:26  2016-06-14 19:52:26       None         1.0  \n",
       "1  2016-06-14 19:52:26  2016-06-14 19:52:26       None         1.0  \n",
       "2  2016-06-14 19:52:26  2016-06-14 19:52:26       None         1.0  \n",
       "3  2016-06-14 19:52:26  2016-06-14 19:52:26       None         1.0  \n",
       "4  2016-06-14 19:52:26  2016-06-14 19:52:26       None         1.0  "
      ]
     },
     "execution_count": 45,
     "metadata": {},
     "output_type": "execute_result"
    }
   ],
   "source": [
    "url = f'mysql+pymysql://{env.user}:{env.password}@{env.host}/curriculum_logs'\n",
    "query = \"\"\"SELECT * FROM logs LEFT JOIN cohorts ON logs.user_id = cohorts.id\"\"\"\n",
    "df = pd.read_sql(query, url)\n",
    "# df.to_csv(cirriculum.csv, index=False)\n",
    "df.head()"
   ]
  },
  {
   "cell_type": "code",
   "execution_count": 46,
   "id": "bfee55e5",
   "metadata": {},
   "outputs": [
    {
     "name": "stdout",
     "output_type": "stream",
     "text": [
      "<class 'pandas.core.frame.DataFrame'>\n",
      "RangeIndex: 900223 entries, 0 to 900222\n",
      "Data columns (total 15 columns):\n",
      " #   Column      Non-Null Count   Dtype  \n",
      "---  ------      --------------   -----  \n",
      " 0   date        900223 non-null  object \n",
      " 1   time        900223 non-null  object \n",
      " 2   path        900222 non-null  object \n",
      " 3   user_id     900223 non-null  int64  \n",
      " 4   cohort_id   847330 non-null  float64\n",
      " 5   ip          900223 non-null  object \n",
      " 6   id          73739 non-null   float64\n",
      " 7   name        73739 non-null   object \n",
      " 8   slack       73739 non-null   object \n",
      " 9   start_date  73739 non-null   object \n",
      " 10  end_date    73739 non-null   object \n",
      " 11  created_at  73739 non-null   object \n",
      " 12  updated_at  73739 non-null   object \n",
      " 13  deleted_at  0 non-null       object \n",
      " 14  program_id  73739 non-null   float64\n",
      "dtypes: float64(3), int64(1), object(11)\n",
      "memory usage: 103.0+ MB\n"
     ]
    }
   ],
   "source": [
    "df.info()"
   ]
  },
  {
   "cell_type": "code",
   "execution_count": 47,
   "id": "c6a48789",
   "metadata": {},
   "outputs": [],
   "source": [
    "# Drop deleted_at column\n",
    "\n",
    "\n",
    "#df = df.drop(columns= 'deleted_at', inplace = True)\n",
    "#df.head()"
   ]
  },
  {
   "cell_type": "markdown",
   "id": "590e046f",
   "metadata": {},
   "source": [
    "## Detecting Anomalies in Discrete Variables\n",
    "\n",
    "1. Which lesson appears to attract the most traffic consistently across cohorts (per program)?\n",
    "\n",
    "---\n",
    "\n",
    "#### Okay so how do I best approach this problem?\n",
    "\n",
    "1. Create and separate the datasets of Web Development and Data Science programs.\n",
    "    - 1 == WD\n",
    "    - 2 == WD\n",
    "    - 3 == DS\n",
    "    - 4 == WD\n",
    "    \n",
    "2. Remove the popular logistic pages in the curriculum. I.E. '/' = main page, 'toc' = Table of Contents, et.c\n",
    "3. Use .value_counts() on path to see the most accessed pages.\n",
    "4. Store the top 10 page names with page counts as a variable."
   ]
  },
  {
   "cell_type": "code",
   "execution_count": 48,
   "id": "526a44be",
   "metadata": {},
   "outputs": [
    {
     "data": {
      "text/plain": [
       "/                                                               50313\n",
       "search/search_index.json                                        19519\n",
       "javascript-i                                                    18983\n",
       "toc                                                             18297\n",
       "java-iii                                                        13733\n",
       "                                                                ...  \n",
       "javascript/loops                                                    1\n",
       "content/control-structures-ii                                       1\n",
       "javascript-ii/promisesdfghjkjhgfs                                   1\n",
       "app                                                                 1\n",
       "appendix/professional-development/post-interview-review-form        1\n",
       "Name: path, Length: 2313, dtype: int64"
      ]
     },
     "execution_count": 48,
     "metadata": {},
     "output_type": "execute_result"
    }
   ],
   "source": [
    "df.path.value_counts()"
   ]
  },
  {
   "cell_type": "code",
   "execution_count": 49,
   "id": "35718e47",
   "metadata": {},
   "outputs": [
    {
     "data": {
      "text/plain": [
       "/                                                                            0.055890\n",
       "search/search_index.json                                                     0.021682\n",
       "javascript-i                                                                 0.021087\n",
       "toc                                                                          0.020325\n",
       "java-iii                                                                     0.015255\n",
       "html-css                                                                     0.015146\n",
       "java-ii                                                                      0.014091\n",
       "spring                                                                       0.013912\n",
       "jquery                                                                       0.012802\n",
       "mysql                                                                        0.012256\n",
       "java-i                                                                       0.012069\n",
       "javascript-ii                                                                0.011919\n",
       "appendix                                                                     0.009229\n",
       "javascript-i/introduction/working-with-data-types-operators-and-variables    0.008489\n",
       "mysql/tables                                                                 0.008171\n",
       "javascript-i/javascript-with-html                                            0.008165\n",
       "javascript-i/functions                                                       0.008162\n",
       "html-css/elements                                                            0.007858\n",
       "mysql/databases                                                              0.007709\n",
       "java-iii/jsp-and-jstl                                                        0.007638\n",
       "Name: path, dtype: float64"
      ]
     },
     "execution_count": 49,
     "metadata": {},
     "output_type": "execute_result"
    }
   ],
   "source": [
    "df.path.value_counts(normalize=True).head(20)"
   ]
  },
  {
   "cell_type": "code",
   "execution_count": 7,
   "id": "d36dd610",
   "metadata": {},
   "outputs": [
    {
     "data": {
      "text/plain": [
       "2313"
      ]
     },
     "execution_count": 7,
     "metadata": {},
     "output_type": "execute_result"
    }
   ],
   "source": [
    "# how many unique paths we have in the dataset?\n",
    "df.path.nunique()"
   ]
  },
  {
   "cell_type": "code",
   "execution_count": 8,
   "id": "101e6138",
   "metadata": {},
   "outputs": [
    {
     "data": {
      "text/plain": [
       "date           1182\n",
       "time          73167\n",
       "path           2313\n",
       "user_id         981\n",
       "cohort_id        47\n",
       "ip             5531\n",
       "id               53\n",
       "name             53\n",
       "slack            52\n",
       "start_date       49\n",
       "end_date         50\n",
       "created_at       41\n",
       "updated_at       41\n",
       "deleted_at        0\n",
       "program_id        4\n",
       "dtype: int64"
      ]
     },
     "execution_count": 8,
     "metadata": {},
     "output_type": "execute_result"
    }
   ],
   "source": [
    "df.nunique()"
   ]
  },
  {
   "cell_type": "code",
   "execution_count": 22,
   "id": "06d7e37b",
   "metadata": {},
   "outputs": [
    {
     "data": {
      "text/plain": [
       "/                                           3513\n",
       "javascript-i                                 605\n",
       "classification/overview                      584\n",
       "sql/mysql-overview                           554\n",
       "java-iii                                     499\n",
       "6-regression/1-overview                      489\n",
       "spring                                       477\n",
       "java-ii                                      461\n",
       "search/search_index.json                     447\n",
       "classification/scale_features_or_not.svg     441\n",
       "Name: path, dtype: int64"
      ]
     },
     "execution_count": 22,
     "metadata": {},
     "output_type": "execute_result"
    }
   ],
   "source": [
    "df.loc[df.program_id==1].path.value_counts().nlargest(10)"
   ]
  },
  {
   "cell_type": "code",
   "execution_count": 23,
   "id": "8fbb16ae",
   "metadata": {},
   "outputs": [
    {
     "data": {
      "text/plain": [
       "index.html      1520\n",
       "/               1353\n",
       "spring           825\n",
       "javascript-i     759\n",
       "java-iii         687\n",
       "java-ii          594\n",
       "html-css         555\n",
       "appendix         522\n",
       "mysql            484\n",
       "java-i           464\n",
       "Name: path, dtype: int64"
      ]
     },
     "execution_count": 23,
     "metadata": {},
     "output_type": "execute_result"
    }
   ],
   "source": [
    "df.loc[df.program_id==2].path.value_counts().nlargest(10)"
   ]
  },
  {
   "cell_type": "code",
   "execution_count": 24,
   "id": "dfb4f31a",
   "metadata": {},
   "outputs": [
    {
     "data": {
      "text/plain": [
       "appendix                                                                     112\n",
       "mkdocs/search_index.json                                                     110\n",
       "javascript-i                                                                  76\n",
       "javascript-i/loops                                                            51\n",
       "jquery                                                                        45\n",
       "javascript-i/arrays                                                           42\n",
       "javascript-i/conditionals                                                     41\n",
       "javascript-i/javascript-with-html                                             40\n",
       "javascript-i/introduction/working-with-data-types-operators-and-variables     39\n",
       "/                                                                             39\n",
       "Name: path, dtype: int64"
      ]
     },
     "execution_count": 24,
     "metadata": {},
     "output_type": "execute_result"
    }
   ],
   "source": [
    "df.loc[df.program_id==3].path.value_counts().nlargest(10)"
   ]
  },
  {
   "cell_type": "code",
   "execution_count": 25,
   "id": "e5050281",
   "metadata": {},
   "outputs": [
    {
     "data": {
      "text/plain": [
       "/                                              151\n",
       "spring                                          68\n",
       "javascript-i                                    46\n",
       "jquery                                          42\n",
       "java-i                                          38\n",
       "java-ii                                         36\n",
       "javascript-ii                                   35\n",
       "mysql                                           28\n",
       "appendix                                        22\n",
       "spring/fundamentals/security/authentication     20\n",
       "Name: path, dtype: int64"
      ]
     },
     "execution_count": 25,
     "metadata": {},
     "output_type": "execute_result"
    }
   ],
   "source": [
    "df.loc[df.program_id==4].path.value_counts().nlargest(10)"
   ]
  },
  {
   "cell_type": "code",
   "execution_count": 41,
   "id": "4648b889",
   "metadata": {},
   "outputs": [
    {
     "ename": "AttributeError",
     "evalue": "'NoneType' object has no attribute 'loc'",
     "output_type": "error",
     "traceback": [
      "\u001b[0;31m---------------------------------------------------------------------------\u001b[0m",
      "\u001b[0;31mAttributeError\u001b[0m                            Traceback (most recent call last)",
      "Input \u001b[0;32mIn [41]\u001b[0m, in \u001b[0;36m<cell line: 2>\u001b[0;34m()\u001b[0m\n\u001b[1;32m      1\u001b[0m \u001b[38;5;66;03m# Remove staff from the analysis.\u001b[39;00m\n\u001b[0;32m----> 2\u001b[0m \u001b[43mdf\u001b[49m\u001b[38;5;241;43m.\u001b[39;49m\u001b[43mloc\u001b[49m[\u001b[38;5;241m~\u001b[39m(df\u001b[38;5;241m.\u001b[39mname \u001b[38;5;241m==\u001b[39m \u001b[38;5;124m'\u001b[39m\u001b[38;5;124mStaff\u001b[39m\u001b[38;5;124m'\u001b[39m)]\n\u001b[1;32m      4\u001b[0m \u001b[38;5;66;03m# Step 1.\u001b[39;00m\n\u001b[1;32m      5\u001b[0m \u001b[38;5;66;03m# Web Devlopment Cohorts\u001b[39;00m\n\u001b[1;32m      6\u001b[0m wd_cohorts \u001b[38;5;241m=\u001b[39m df\u001b[38;5;241m.\u001b[39mloc[df\u001b[38;5;241m.\u001b[39mprogram_id\u001b[38;5;241m.\u001b[39misin([\u001b[38;5;241m1\u001b[39m, \u001b[38;5;241m2\u001b[39m, \u001b[38;5;241m4\u001b[39m])]\n",
      "\u001b[0;31mAttributeError\u001b[0m: 'NoneType' object has no attribute 'loc'"
     ]
    }
   ],
   "source": [
    "# Remove staff from the analysis.\n",
    "df.loc[~(df.name == 'Staff')]\n",
    "\n",
    "# Step 1.\n",
    "# Web Devlopment Cohorts\n",
    "wd_cohorts = df.loc[df.program_id.isin([1, 2, 4])]\n",
    "\n",
    "# Data Science Cohorts\n",
    "ds_cohorts = df.loc[df.program_id == 3]"
   ]
  },
  {
   "cell_type": "code",
   "execution_count": null,
   "id": "4f68261e",
   "metadata": {},
   "outputs": [],
   "source": []
  }
 ],
 "metadata": {
  "kernelspec": {
   "display_name": "Python 3 (ipykernel)",
   "language": "python",
   "name": "python3"
  },
  "language_info": {
   "codemirror_mode": {
    "name": "ipython",
    "version": 3
   },
   "file_extension": ".py",
   "mimetype": "text/x-python",
   "name": "python",
   "nbconvert_exporter": "python",
   "pygments_lexer": "ipython3",
   "version": "3.9.12"
  }
 },
 "nbformat": 4,
 "nbformat_minor": 5
}
