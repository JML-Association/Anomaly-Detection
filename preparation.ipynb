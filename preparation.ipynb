{
 "cells": [
  {
   "cell_type": "markdown",
   "id": "45775203",
   "metadata": {},
   "source": [
    "# Data Preparation"
   ]
  },
  {
   "cell_type": "code",
   "execution_count": 1,
   "id": "1f452bfc",
   "metadata": {},
   "outputs": [],
   "source": [
    "# import essential libraries\n",
    "import pandas as pd\n",
    "import numpy as np\n",
    "\n",
    "# import local acquire file\n",
    "import acquire"
   ]
  },
  {
   "cell_type": "code",
   "execution_count": 2,
   "id": "e7ee2cf2",
   "metadata": {},
   "outputs": [],
   "source": [
    "df = acquire.get_data()"
   ]
  },
  {
   "cell_type": "markdown",
   "id": "685a8c71",
   "metadata": {},
   "source": [
    "### 1. Set date to index"
   ]
  },
  {
   "cell_type": "code",
   "execution_count": 17,
   "id": "c8c9c7c1",
   "metadata": {},
   "outputs": [
    {
     "name": "stderr",
     "output_type": "stream",
     "text": [
      "/var/folders/m8/nlpfy4_x01qb766dcjnc2d4r0000gn/T/ipykernel_86498/2235551068.py:2: SettingWithCopyWarning: \n",
      "A value is trying to be set on a copy of a slice from a DataFrame.\n",
      "Try using .loc[row_indexer,col_indexer] = value instead\n",
      "\n",
      "See the caveats in the documentation: https://pandas.pydata.org/pandas-docs/stable/user_guide/indexing.html#returning-a-view-versus-a-copy\n",
      "  df.date = pd.to_datetime(df.date)\n"
     ]
    }
   ],
   "source": [
    "# Set date columns as datatime as index\n",
    "df.date = pd.to_datetime(df.date)\n",
    "df = df.set_index(df.date)"
   ]
  },
  {
   "cell_type": "markdown",
   "id": "30f5ffa9",
   "metadata": {},
   "source": [
    "### 2. Drop nulls"
   ]
  },
  {
   "cell_type": "code",
   "execution_count": 9,
   "id": "ec3b281d",
   "metadata": {},
   "outputs": [],
   "source": [
    "df = df.dropna()"
   ]
  },
  {
   "cell_type": "markdown",
   "id": "f7b0c4c0",
   "metadata": {},
   "source": [
    "### 3. Encode program id"
   ]
  },
  {
   "cell_type": "code",
   "execution_count": 18,
   "id": "4dd10023",
   "metadata": {},
   "outputs": [
    {
     "data": {
      "text/html": [
       "<div>\n",
       "<style scoped>\n",
       "    .dataframe tbody tr th:only-of-type {\n",
       "        vertical-align: middle;\n",
       "    }\n",
       "\n",
       "    .dataframe tbody tr th {\n",
       "        vertical-align: top;\n",
       "    }\n",
       "\n",
       "    .dataframe thead th {\n",
       "        text-align: right;\n",
       "    }\n",
       "</style>\n",
       "<table border=\"1\" class=\"dataframe\">\n",
       "  <thead>\n",
       "    <tr style=\"text-align: right;\">\n",
       "      <th></th>\n",
       "      <th>date</th>\n",
       "      <th>time</th>\n",
       "      <th>ip</th>\n",
       "      <th>path</th>\n",
       "      <th>user_id</th>\n",
       "      <th>cohort_id</th>\n",
       "      <th>cohort_name</th>\n",
       "      <th>slack</th>\n",
       "      <th>start_date</th>\n",
       "      <th>end_date</th>\n",
       "      <th>program_id</th>\n",
       "      <th>program</th>\n",
       "    </tr>\n",
       "    <tr>\n",
       "      <th>date</th>\n",
       "      <th></th>\n",
       "      <th></th>\n",
       "      <th></th>\n",
       "      <th></th>\n",
       "      <th></th>\n",
       "      <th></th>\n",
       "      <th></th>\n",
       "      <th></th>\n",
       "      <th></th>\n",
       "      <th></th>\n",
       "      <th></th>\n",
       "      <th></th>\n",
       "    </tr>\n",
       "  </thead>\n",
       "  <tbody>\n",
       "    <tr>\n",
       "      <th>2018-01-26</th>\n",
       "      <td>2018-01-26</td>\n",
       "      <td>09:55:03</td>\n",
       "      <td>97.105.19.61</td>\n",
       "      <td>/</td>\n",
       "      <td>1</td>\n",
       "      <td>8.0</td>\n",
       "      <td>Hampton</td>\n",
       "      <td>#hampton</td>\n",
       "      <td>2015-09-22</td>\n",
       "      <td>2016-02-06</td>\n",
       "      <td>1</td>\n",
       "      <td>Full Stack PHP</td>\n",
       "    </tr>\n",
       "    <tr>\n",
       "      <th>2018-01-26</th>\n",
       "      <td>2018-01-26</td>\n",
       "      <td>09:56:02</td>\n",
       "      <td>97.105.19.61</td>\n",
       "      <td>java-ii</td>\n",
       "      <td>1</td>\n",
       "      <td>8.0</td>\n",
       "      <td>Hampton</td>\n",
       "      <td>#hampton</td>\n",
       "      <td>2015-09-22</td>\n",
       "      <td>2016-02-06</td>\n",
       "      <td>1</td>\n",
       "      <td>Full Stack PHP</td>\n",
       "    </tr>\n",
       "    <tr>\n",
       "      <th>2018-01-26</th>\n",
       "      <td>2018-01-26</td>\n",
       "      <td>09:56:05</td>\n",
       "      <td>97.105.19.61</td>\n",
       "      <td>java-ii/object-oriented-programming</td>\n",
       "      <td>1</td>\n",
       "      <td>8.0</td>\n",
       "      <td>Hampton</td>\n",
       "      <td>#hampton</td>\n",
       "      <td>2015-09-22</td>\n",
       "      <td>2016-02-06</td>\n",
       "      <td>1</td>\n",
       "      <td>Full Stack PHP</td>\n",
       "    </tr>\n",
       "    <tr>\n",
       "      <th>2018-01-26</th>\n",
       "      <td>2018-01-26</td>\n",
       "      <td>09:56:06</td>\n",
       "      <td>97.105.19.61</td>\n",
       "      <td>slides/object_oriented_programming</td>\n",
       "      <td>1</td>\n",
       "      <td>8.0</td>\n",
       "      <td>Hampton</td>\n",
       "      <td>#hampton</td>\n",
       "      <td>2015-09-22</td>\n",
       "      <td>2016-02-06</td>\n",
       "      <td>1</td>\n",
       "      <td>Full Stack PHP</td>\n",
       "    </tr>\n",
       "    <tr>\n",
       "      <th>2018-01-26</th>\n",
       "      <td>2018-01-26</td>\n",
       "      <td>09:56:24</td>\n",
       "      <td>97.105.19.61</td>\n",
       "      <td>javascript-i/conditionals</td>\n",
       "      <td>2</td>\n",
       "      <td>22.0</td>\n",
       "      <td>Teddy</td>\n",
       "      <td>#teddy</td>\n",
       "      <td>2018-01-08</td>\n",
       "      <td>2018-05-17</td>\n",
       "      <td>2</td>\n",
       "      <td>Full Stack Java</td>\n",
       "    </tr>\n",
       "  </tbody>\n",
       "</table>\n",
       "</div>"
      ],
      "text/plain": [
       "                 date      time            ip  \\\n",
       "date                                            \n",
       "2018-01-26 2018-01-26  09:55:03  97.105.19.61   \n",
       "2018-01-26 2018-01-26  09:56:02  97.105.19.61   \n",
       "2018-01-26 2018-01-26  09:56:05  97.105.19.61   \n",
       "2018-01-26 2018-01-26  09:56:06  97.105.19.61   \n",
       "2018-01-26 2018-01-26  09:56:24  97.105.19.61   \n",
       "\n",
       "                                           path  user_id  cohort_id  \\\n",
       "date                                                                  \n",
       "2018-01-26                                    /        1        8.0   \n",
       "2018-01-26                              java-ii        1        8.0   \n",
       "2018-01-26  java-ii/object-oriented-programming        1        8.0   \n",
       "2018-01-26   slides/object_oriented_programming        1        8.0   \n",
       "2018-01-26            javascript-i/conditionals        2       22.0   \n",
       "\n",
       "           cohort_name     slack  start_date    end_date  program_id  \\\n",
       "date                                                                   \n",
       "2018-01-26     Hampton  #hampton  2015-09-22  2016-02-06           1   \n",
       "2018-01-26     Hampton  #hampton  2015-09-22  2016-02-06           1   \n",
       "2018-01-26     Hampton  #hampton  2015-09-22  2016-02-06           1   \n",
       "2018-01-26     Hampton  #hampton  2015-09-22  2016-02-06           1   \n",
       "2018-01-26       Teddy    #teddy  2018-01-08  2018-05-17           2   \n",
       "\n",
       "                    program  \n",
       "date                         \n",
       "2018-01-26   Full Stack PHP  \n",
       "2018-01-26   Full Stack PHP  \n",
       "2018-01-26   Full Stack PHP  \n",
       "2018-01-26   Full Stack PHP  \n",
       "2018-01-26  Full Stack Java  "
      ]
     },
     "execution_count": 18,
     "metadata": {},
     "output_type": "execute_result"
    }
   ],
   "source": [
    "df.head()"
   ]
  },
  {
   "cell_type": "code",
   "execution_count": 12,
   "id": "9536b2dc",
   "metadata": {},
   "outputs": [
    {
     "data": {
      "text/plain": [
       "program_id  cohort_name\n",
       "1           Lassen          9587\n",
       "            Arches          8890\n",
       "            Olympic         4954\n",
       "            Kings           2845\n",
       "            Hampton         1712\n",
       "            Quincy          1237\n",
       "            Glacier          598\n",
       "            Joshua           302\n",
       "            Ike              253\n",
       "            Badlands          93\n",
       "            Franklin          72\n",
       "            Denali             4\n",
       "            Everglades         1\n",
       "2           Staff          84031\n",
       "            Ceres          40730\n",
       "            Zion           38096\n",
       "            Jupiter        37109\n",
       "            Fortuna        36902\n",
       "            Voyageurs      35636\n",
       "            Ganymede       33844\n",
       "            Apex           33568\n",
       "            Deimos         32888\n",
       "            Teddy          30926\n",
       "            Hyperion       29855\n",
       "            Betelgeuse     29356\n",
       "            Ulysses        28534\n",
       "            Europa         28033\n",
       "            Xanadu         27749\n",
       "            Wrangell       25586\n",
       "            Andromeda      25359\n",
       "            Kalypso        23691\n",
       "            Yosemite       20743\n",
       "            Bash           17713\n",
       "            Luna           16623\n",
       "            Marco          16397\n",
       "            Sequoia         7444\n",
       "            Neptune         7276\n",
       "            Pinnacles       2158\n",
       "            Oberon          1672\n",
       "            Niagara          755\n",
       "            Mammoth          691\n",
       "3           Darden         32015\n",
       "            Bayes          26538\n",
       "            Curie          21581\n",
       "            Easley         14715\n",
       "            Florence        8562\n",
       "4           Apollo             5\n",
       "Name: cohort_name, dtype: int64"
      ]
     },
     "execution_count": 12,
     "metadata": {},
     "output_type": "execute_result"
    }
   ],
   "source": [
    "df.groupby('program_id').cohort_name.value_counts()"
   ]
  },
  {
   "cell_type": "markdown",
   "id": "6d08756e",
   "metadata": {},
   "source": [
    "#### Infer the program name by cohort name\n",
    "1 == full stack php\n",
    "\n",
    "2 == full stack java\n",
    "\n",
    "3 == data science\n",
    "\n",
    "4 == front end"
   ]
  },
  {
   "cell_type": "code",
   "execution_count": 13,
   "id": "dee8c816",
   "metadata": {},
   "outputs": [
    {
     "name": "stderr",
     "output_type": "stream",
     "text": [
      "/var/folders/m8/nlpfy4_x01qb766dcjnc2d4r0000gn/T/ipykernel_86498/203237091.py:1: SettingWithCopyWarning: \n",
      "A value is trying to be set on a copy of a slice from a DataFrame.\n",
      "Try using .loc[row_indexer,col_indexer] = value instead\n",
      "\n",
      "See the caveats in the documentation: https://pandas.pydata.org/pandas-docs/stable/user_guide/indexing.html#returning-a-view-versus-a-copy\n",
      "  df['program'] = df.program_id.map({1: 'Full Stack PHP', 2: 'Full Stack Java', 3: 'Data Science', 4: 'Front End'})\n"
     ]
    }
   ],
   "source": [
    "# Encode program id\n",
    "df['program'] = df.program_id.map({1: 'Full Stack PHP', 2: 'Full Stack Java', 3: 'Data Science', 4: 'Front End'})"
   ]
  },
  {
   "cell_type": "code",
   "execution_count": 15,
   "id": "286d36ed",
   "metadata": {},
   "outputs": [
    {
     "data": {
      "text/plain": [
       "2    713365\n",
       "3    103411\n",
       "1     30548\n",
       "4         5\n",
       "Name: program_id, dtype: int64"
      ]
     },
     "execution_count": 15,
     "metadata": {},
     "output_type": "execute_result"
    }
   ],
   "source": [
    "# Checking if program_id value count matches program encode value counts\n",
    "df.program_id.value_counts()"
   ]
  },
  {
   "cell_type": "code",
   "execution_count": 16,
   "id": "4c046068",
   "metadata": {},
   "outputs": [
    {
     "data": {
      "text/plain": [
       "Full Stack Java    713365\n",
       "Data Science       103411\n",
       "Full Stack PHP      30548\n",
       "Front End               5\n",
       "Name: program, dtype: int64"
      ]
     },
     "execution_count": 16,
     "metadata": {},
     "output_type": "execute_result"
    }
   ],
   "source": [
    "df.program.value_counts()"
   ]
  },
  {
   "cell_type": "markdown",
   "id": "e914866b",
   "metadata": {},
   "source": [
    "***"
   ]
  },
  {
   "cell_type": "code",
   "execution_count": 4,
   "id": "fc8808cf",
   "metadata": {},
   "outputs": [],
   "source": [
    "# Putting above stepts into function and import prepare function we wrote above\n",
    "import prepare"
   ]
  },
  {
   "cell_type": "code",
   "execution_count": 5,
   "id": "8e2f11eb",
   "metadata": {},
   "outputs": [],
   "source": [
    "# Calling prep functino to test function\n",
    "df = prepare.prep_data(df)"
   ]
  },
  {
   "cell_type": "code",
   "execution_count": 8,
   "id": "d742801d",
   "metadata": {},
   "outputs": [
    {
     "data": {
      "text/html": [
       "<div>\n",
       "<style scoped>\n",
       "    .dataframe tbody tr th:only-of-type {\n",
       "        vertical-align: middle;\n",
       "    }\n",
       "\n",
       "    .dataframe tbody tr th {\n",
       "        vertical-align: top;\n",
       "    }\n",
       "\n",
       "    .dataframe thead th {\n",
       "        text-align: right;\n",
       "    }\n",
       "</style>\n",
       "<table border=\"1\" class=\"dataframe\">\n",
       "  <thead>\n",
       "    <tr style=\"text-align: right;\">\n",
       "      <th></th>\n",
       "      <th>date</th>\n",
       "      <th>time</th>\n",
       "      <th>ip</th>\n",
       "      <th>path</th>\n",
       "      <th>user_id</th>\n",
       "      <th>cohort_id</th>\n",
       "      <th>cohort_name</th>\n",
       "      <th>slack</th>\n",
       "      <th>start_date</th>\n",
       "      <th>end_date</th>\n",
       "      <th>program_id</th>\n",
       "      <th>program</th>\n",
       "    </tr>\n",
       "    <tr>\n",
       "      <th>date</th>\n",
       "      <th></th>\n",
       "      <th></th>\n",
       "      <th></th>\n",
       "      <th></th>\n",
       "      <th></th>\n",
       "      <th></th>\n",
       "      <th></th>\n",
       "      <th></th>\n",
       "      <th></th>\n",
       "      <th></th>\n",
       "      <th></th>\n",
       "      <th></th>\n",
       "    </tr>\n",
       "  </thead>\n",
       "  <tbody>\n",
       "    <tr>\n",
       "      <th>2018-01-26</th>\n",
       "      <td>2018-01-26</td>\n",
       "      <td>09:55:03</td>\n",
       "      <td>97.105.19.61</td>\n",
       "      <td>/</td>\n",
       "      <td>1</td>\n",
       "      <td>8.0</td>\n",
       "      <td>Hampton</td>\n",
       "      <td>#hampton</td>\n",
       "      <td>2015-09-22</td>\n",
       "      <td>2016-02-06</td>\n",
       "      <td>1</td>\n",
       "      <td>Full Stack PHP</td>\n",
       "    </tr>\n",
       "    <tr>\n",
       "      <th>2018-01-26</th>\n",
       "      <td>2018-01-26</td>\n",
       "      <td>09:56:02</td>\n",
       "      <td>97.105.19.61</td>\n",
       "      <td>java-ii</td>\n",
       "      <td>1</td>\n",
       "      <td>8.0</td>\n",
       "      <td>Hampton</td>\n",
       "      <td>#hampton</td>\n",
       "      <td>2015-09-22</td>\n",
       "      <td>2016-02-06</td>\n",
       "      <td>1</td>\n",
       "      <td>Full Stack PHP</td>\n",
       "    </tr>\n",
       "    <tr>\n",
       "      <th>2018-01-26</th>\n",
       "      <td>2018-01-26</td>\n",
       "      <td>09:56:05</td>\n",
       "      <td>97.105.19.61</td>\n",
       "      <td>java-ii/object-oriented-programming</td>\n",
       "      <td>1</td>\n",
       "      <td>8.0</td>\n",
       "      <td>Hampton</td>\n",
       "      <td>#hampton</td>\n",
       "      <td>2015-09-22</td>\n",
       "      <td>2016-02-06</td>\n",
       "      <td>1</td>\n",
       "      <td>Full Stack PHP</td>\n",
       "    </tr>\n",
       "    <tr>\n",
       "      <th>2018-01-26</th>\n",
       "      <td>2018-01-26</td>\n",
       "      <td>09:56:06</td>\n",
       "      <td>97.105.19.61</td>\n",
       "      <td>slides/object_oriented_programming</td>\n",
       "      <td>1</td>\n",
       "      <td>8.0</td>\n",
       "      <td>Hampton</td>\n",
       "      <td>#hampton</td>\n",
       "      <td>2015-09-22</td>\n",
       "      <td>2016-02-06</td>\n",
       "      <td>1</td>\n",
       "      <td>Full Stack PHP</td>\n",
       "    </tr>\n",
       "    <tr>\n",
       "      <th>2018-01-26</th>\n",
       "      <td>2018-01-26</td>\n",
       "      <td>09:56:24</td>\n",
       "      <td>97.105.19.61</td>\n",
       "      <td>javascript-i/conditionals</td>\n",
       "      <td>2</td>\n",
       "      <td>22.0</td>\n",
       "      <td>Teddy</td>\n",
       "      <td>#teddy</td>\n",
       "      <td>2018-01-08</td>\n",
       "      <td>2018-05-17</td>\n",
       "      <td>2</td>\n",
       "      <td>Full Stack Java</td>\n",
       "    </tr>\n",
       "  </tbody>\n",
       "</table>\n",
       "</div>"
      ],
      "text/plain": [
       "                 date      time            ip  \\\n",
       "date                                            \n",
       "2018-01-26 2018-01-26  09:55:03  97.105.19.61   \n",
       "2018-01-26 2018-01-26  09:56:02  97.105.19.61   \n",
       "2018-01-26 2018-01-26  09:56:05  97.105.19.61   \n",
       "2018-01-26 2018-01-26  09:56:06  97.105.19.61   \n",
       "2018-01-26 2018-01-26  09:56:24  97.105.19.61   \n",
       "\n",
       "                                           path  user_id  cohort_id  \\\n",
       "date                                                                  \n",
       "2018-01-26                                    /        1        8.0   \n",
       "2018-01-26                              java-ii        1        8.0   \n",
       "2018-01-26  java-ii/object-oriented-programming        1        8.0   \n",
       "2018-01-26   slides/object_oriented_programming        1        8.0   \n",
       "2018-01-26            javascript-i/conditionals        2       22.0   \n",
       "\n",
       "           cohort_name     slack  start_date    end_date  program_id  \\\n",
       "date                                                                   \n",
       "2018-01-26     Hampton  #hampton  2015-09-22  2016-02-06           1   \n",
       "2018-01-26     Hampton  #hampton  2015-09-22  2016-02-06           1   \n",
       "2018-01-26     Hampton  #hampton  2015-09-22  2016-02-06           1   \n",
       "2018-01-26     Hampton  #hampton  2015-09-22  2016-02-06           1   \n",
       "2018-01-26       Teddy    #teddy  2018-01-08  2018-05-17           2   \n",
       "\n",
       "                    program  \n",
       "date                         \n",
       "2018-01-26   Full Stack PHP  \n",
       "2018-01-26   Full Stack PHP  \n",
       "2018-01-26   Full Stack PHP  \n",
       "2018-01-26   Full Stack PHP  \n",
       "2018-01-26  Full Stack Java  "
      ]
     },
     "execution_count": 8,
     "metadata": {},
     "output_type": "execute_result"
    }
   ],
   "source": [
    "df.head()"
   ]
  }
 ],
 "metadata": {
  "kernelspec": {
   "display_name": "Python 3 (ipykernel)",
   "language": "python",
   "name": "python3"
  },
  "language_info": {
   "codemirror_mode": {
    "name": "ipython",
    "version": 3
   },
   "file_extension": ".py",
   "mimetype": "text/x-python",
   "name": "python",
   "nbconvert_exporter": "python",
   "pygments_lexer": "ipython3",
   "version": "3.9.12"
  }
 },
 "nbformat": 4,
 "nbformat_minor": 5
}
