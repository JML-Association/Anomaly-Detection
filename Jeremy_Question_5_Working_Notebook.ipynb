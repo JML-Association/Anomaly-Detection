{
 "cells": [
  {
   "cell_type": "code",
   "execution_count": 1,
   "id": "7dda01a8",
   "metadata": {},
   "outputs": [],
   "source": [
    "import warnings\n",
    "warnings.filterwarnings(\"ignore\")\n",
    "import matplotlib.pyplot as plt\n",
    "\n",
    "import numpy as np\n",
    "import pandas as pd\n",
    "import seaborn as sns\n",
    "import env\n",
    "import acquire\n",
    "import prepare"
   ]
  },
  {
   "cell_type": "markdown",
   "id": "40a9d3b9",
   "metadata": {},
   "source": [
    "# Summary Explanation and Takeaway\n",
    "\n",
    "This notebook seeks to answer question 5: At some point in 2019, the ability for students and alumni to access both curriculums (web dev to ds, ds to web dev) should have been shut off. Do you see any evidence of that happening? Did it happen before?\n",
    "\n",
    "I seperated the Data Science and Web Dev students, then listed the most popular paths viewed for each.\n",
    "I looked at entries where DS students look at WD material and vice versa.\n",
    "\n",
    "This is what I found:\n",
    "\n",
    "### Data Science Takeaway\n",
    "\n",
    "There does not appear to be any access to the Web Dev paths before September 2019, and after December 2019. Which leads me to believe they did not have access during those time periods.\n",
    "\n",
    "### Web Dev Takeaway\n",
    "\n",
    "There appears to be access to the Data Science paths after September 2019. Specifically, from July 2020 to April 2021."
   ]
  },
  {
   "cell_type": "code",
   "execution_count": 2,
   "id": "73624941",
   "metadata": {},
   "outputs": [
    {
     "data": {
      "text/html": [
       "<div>\n",
       "<style scoped>\n",
       "    .dataframe tbody tr th:only-of-type {\n",
       "        vertical-align: middle;\n",
       "    }\n",
       "\n",
       "    .dataframe tbody tr th {\n",
       "        vertical-align: top;\n",
       "    }\n",
       "\n",
       "    .dataframe thead th {\n",
       "        text-align: right;\n",
       "    }\n",
       "</style>\n",
       "<table border=\"1\" class=\"dataframe\">\n",
       "  <thead>\n",
       "    <tr style=\"text-align: right;\">\n",
       "      <th></th>\n",
       "      <th>date</th>\n",
       "      <th>time</th>\n",
       "      <th>ip</th>\n",
       "      <th>path</th>\n",
       "      <th>user_id</th>\n",
       "      <th>cohort_id</th>\n",
       "      <th>cohort_name</th>\n",
       "      <th>slack</th>\n",
       "      <th>start_date</th>\n",
       "      <th>end_date</th>\n",
       "      <th>program_id</th>\n",
       "    </tr>\n",
       "  </thead>\n",
       "  <tbody>\n",
       "    <tr>\n",
       "      <th>0</th>\n",
       "      <td>2018-01-26</td>\n",
       "      <td>09:55:03</td>\n",
       "      <td>97.105.19.61</td>\n",
       "      <td>/</td>\n",
       "      <td>1</td>\n",
       "      <td>8.0</td>\n",
       "      <td>Hampton</td>\n",
       "      <td>#hampton</td>\n",
       "      <td>2015-09-22</td>\n",
       "      <td>2016-02-06</td>\n",
       "      <td>1</td>\n",
       "    </tr>\n",
       "    <tr>\n",
       "      <th>1</th>\n",
       "      <td>2018-01-26</td>\n",
       "      <td>09:56:02</td>\n",
       "      <td>97.105.19.61</td>\n",
       "      <td>java-ii</td>\n",
       "      <td>1</td>\n",
       "      <td>8.0</td>\n",
       "      <td>Hampton</td>\n",
       "      <td>#hampton</td>\n",
       "      <td>2015-09-22</td>\n",
       "      <td>2016-02-06</td>\n",
       "      <td>1</td>\n",
       "    </tr>\n",
       "    <tr>\n",
       "      <th>2</th>\n",
       "      <td>2018-01-26</td>\n",
       "      <td>09:56:05</td>\n",
       "      <td>97.105.19.61</td>\n",
       "      <td>java-ii/object-oriented-programming</td>\n",
       "      <td>1</td>\n",
       "      <td>8.0</td>\n",
       "      <td>Hampton</td>\n",
       "      <td>#hampton</td>\n",
       "      <td>2015-09-22</td>\n",
       "      <td>2016-02-06</td>\n",
       "      <td>1</td>\n",
       "    </tr>\n",
       "    <tr>\n",
       "      <th>3</th>\n",
       "      <td>2018-01-26</td>\n",
       "      <td>09:56:06</td>\n",
       "      <td>97.105.19.61</td>\n",
       "      <td>slides/object_oriented_programming</td>\n",
       "      <td>1</td>\n",
       "      <td>8.0</td>\n",
       "      <td>Hampton</td>\n",
       "      <td>#hampton</td>\n",
       "      <td>2015-09-22</td>\n",
       "      <td>2016-02-06</td>\n",
       "      <td>1</td>\n",
       "    </tr>\n",
       "    <tr>\n",
       "      <th>4</th>\n",
       "      <td>2018-01-26</td>\n",
       "      <td>09:56:24</td>\n",
       "      <td>97.105.19.61</td>\n",
       "      <td>javascript-i/conditionals</td>\n",
       "      <td>2</td>\n",
       "      <td>22.0</td>\n",
       "      <td>Teddy</td>\n",
       "      <td>#teddy</td>\n",
       "      <td>2018-01-08</td>\n",
       "      <td>2018-05-17</td>\n",
       "      <td>2</td>\n",
       "    </tr>\n",
       "  </tbody>\n",
       "</table>\n",
       "</div>"
      ],
      "text/plain": [
       "         date      time            ip                                 path  \\\n",
       "0  2018-01-26  09:55:03  97.105.19.61                                    /   \n",
       "1  2018-01-26  09:56:02  97.105.19.61                              java-ii   \n",
       "2  2018-01-26  09:56:05  97.105.19.61  java-ii/object-oriented-programming   \n",
       "3  2018-01-26  09:56:06  97.105.19.61   slides/object_oriented_programming   \n",
       "4  2018-01-26  09:56:24  97.105.19.61            javascript-i/conditionals   \n",
       "\n",
       "   user_id  cohort_id cohort_name     slack  start_date    end_date  \\\n",
       "0        1        8.0     Hampton  #hampton  2015-09-22  2016-02-06   \n",
       "1        1        8.0     Hampton  #hampton  2015-09-22  2016-02-06   \n",
       "2        1        8.0     Hampton  #hampton  2015-09-22  2016-02-06   \n",
       "3        1        8.0     Hampton  #hampton  2015-09-22  2016-02-06   \n",
       "4        2       22.0       Teddy    #teddy  2018-01-08  2018-05-17   \n",
       "\n",
       "   program_id  \n",
       "0           1  \n",
       "1           1  \n",
       "2           1  \n",
       "3           1  \n",
       "4           2  "
      ]
     },
     "execution_count": 2,
     "metadata": {},
     "output_type": "execute_result"
    }
   ],
   "source": [
    "df = acquire.get_data()\n",
    "df.head()"
   ]
  },
  {
   "cell_type": "code",
   "execution_count": 3,
   "id": "663682cf",
   "metadata": {},
   "outputs": [
    {
     "data": {
      "text/html": [
       "<div>\n",
       "<style scoped>\n",
       "    .dataframe tbody tr th:only-of-type {\n",
       "        vertical-align: middle;\n",
       "    }\n",
       "\n",
       "    .dataframe tbody tr th {\n",
       "        vertical-align: top;\n",
       "    }\n",
       "\n",
       "    .dataframe thead th {\n",
       "        text-align: right;\n",
       "    }\n",
       "</style>\n",
       "<table border=\"1\" class=\"dataframe\">\n",
       "  <thead>\n",
       "    <tr style=\"text-align: right;\">\n",
       "      <th></th>\n",
       "      <th>date</th>\n",
       "      <th>time</th>\n",
       "      <th>ip</th>\n",
       "      <th>path</th>\n",
       "      <th>user_id</th>\n",
       "      <th>cohort_id</th>\n",
       "      <th>cohort_name</th>\n",
       "      <th>slack</th>\n",
       "      <th>start_date</th>\n",
       "      <th>end_date</th>\n",
       "      <th>program_id</th>\n",
       "      <th>program</th>\n",
       "    </tr>\n",
       "    <tr>\n",
       "      <th>date</th>\n",
       "      <th></th>\n",
       "      <th></th>\n",
       "      <th></th>\n",
       "      <th></th>\n",
       "      <th></th>\n",
       "      <th></th>\n",
       "      <th></th>\n",
       "      <th></th>\n",
       "      <th></th>\n",
       "      <th></th>\n",
       "      <th></th>\n",
       "      <th></th>\n",
       "    </tr>\n",
       "  </thead>\n",
       "  <tbody>\n",
       "    <tr>\n",
       "      <th>2018-01-26</th>\n",
       "      <td>2018-01-26</td>\n",
       "      <td>09:55:03</td>\n",
       "      <td>97.105.19.61</td>\n",
       "      <td>/</td>\n",
       "      <td>1</td>\n",
       "      <td>8.0</td>\n",
       "      <td>Hampton</td>\n",
       "      <td>#hampton</td>\n",
       "      <td>2015-09-22</td>\n",
       "      <td>2016-02-06</td>\n",
       "      <td>1</td>\n",
       "      <td>Full Stack PHP</td>\n",
       "    </tr>\n",
       "    <tr>\n",
       "      <th>2018-01-26</th>\n",
       "      <td>2018-01-26</td>\n",
       "      <td>09:56:02</td>\n",
       "      <td>97.105.19.61</td>\n",
       "      <td>java-ii</td>\n",
       "      <td>1</td>\n",
       "      <td>8.0</td>\n",
       "      <td>Hampton</td>\n",
       "      <td>#hampton</td>\n",
       "      <td>2015-09-22</td>\n",
       "      <td>2016-02-06</td>\n",
       "      <td>1</td>\n",
       "      <td>Full Stack PHP</td>\n",
       "    </tr>\n",
       "    <tr>\n",
       "      <th>2018-01-26</th>\n",
       "      <td>2018-01-26</td>\n",
       "      <td>09:56:05</td>\n",
       "      <td>97.105.19.61</td>\n",
       "      <td>java-ii/object-oriented-programming</td>\n",
       "      <td>1</td>\n",
       "      <td>8.0</td>\n",
       "      <td>Hampton</td>\n",
       "      <td>#hampton</td>\n",
       "      <td>2015-09-22</td>\n",
       "      <td>2016-02-06</td>\n",
       "      <td>1</td>\n",
       "      <td>Full Stack PHP</td>\n",
       "    </tr>\n",
       "    <tr>\n",
       "      <th>2018-01-26</th>\n",
       "      <td>2018-01-26</td>\n",
       "      <td>09:56:06</td>\n",
       "      <td>97.105.19.61</td>\n",
       "      <td>slides/object_oriented_programming</td>\n",
       "      <td>1</td>\n",
       "      <td>8.0</td>\n",
       "      <td>Hampton</td>\n",
       "      <td>#hampton</td>\n",
       "      <td>2015-09-22</td>\n",
       "      <td>2016-02-06</td>\n",
       "      <td>1</td>\n",
       "      <td>Full Stack PHP</td>\n",
       "    </tr>\n",
       "    <tr>\n",
       "      <th>2018-01-26</th>\n",
       "      <td>2018-01-26</td>\n",
       "      <td>09:56:24</td>\n",
       "      <td>97.105.19.61</td>\n",
       "      <td>javascript-i/conditionals</td>\n",
       "      <td>2</td>\n",
       "      <td>22.0</td>\n",
       "      <td>Teddy</td>\n",
       "      <td>#teddy</td>\n",
       "      <td>2018-01-08</td>\n",
       "      <td>2018-05-17</td>\n",
       "      <td>2</td>\n",
       "      <td>Full Stack Java</td>\n",
       "    </tr>\n",
       "  </tbody>\n",
       "</table>\n",
       "</div>"
      ],
      "text/plain": [
       "                 date      time            ip  \\\n",
       "date                                            \n",
       "2018-01-26 2018-01-26  09:55:03  97.105.19.61   \n",
       "2018-01-26 2018-01-26  09:56:02  97.105.19.61   \n",
       "2018-01-26 2018-01-26  09:56:05  97.105.19.61   \n",
       "2018-01-26 2018-01-26  09:56:06  97.105.19.61   \n",
       "2018-01-26 2018-01-26  09:56:24  97.105.19.61   \n",
       "\n",
       "                                           path  user_id  cohort_id  \\\n",
       "date                                                                  \n",
       "2018-01-26                                    /        1        8.0   \n",
       "2018-01-26                              java-ii        1        8.0   \n",
       "2018-01-26  java-ii/object-oriented-programming        1        8.0   \n",
       "2018-01-26   slides/object_oriented_programming        1        8.0   \n",
       "2018-01-26            javascript-i/conditionals        2       22.0   \n",
       "\n",
       "           cohort_name     slack  start_date    end_date  program_id  \\\n",
       "date                                                                   \n",
       "2018-01-26     Hampton  #hampton  2015-09-22  2016-02-06           1   \n",
       "2018-01-26     Hampton  #hampton  2015-09-22  2016-02-06           1   \n",
       "2018-01-26     Hampton  #hampton  2015-09-22  2016-02-06           1   \n",
       "2018-01-26     Hampton  #hampton  2015-09-22  2016-02-06           1   \n",
       "2018-01-26       Teddy    #teddy  2018-01-08  2018-05-17           2   \n",
       "\n",
       "                    program  \n",
       "date                         \n",
       "2018-01-26   Full Stack PHP  \n",
       "2018-01-26   Full Stack PHP  \n",
       "2018-01-26   Full Stack PHP  \n",
       "2018-01-26   Full Stack PHP  \n",
       "2018-01-26  Full Stack Java  "
      ]
     },
     "execution_count": 3,
     "metadata": {},
     "output_type": "execute_result"
    }
   ],
   "source": [
    "df = prepare.prep_data(df)\n",
    "df.head()"
   ]
  },
  {
   "cell_type": "code",
   "execution_count": 14,
   "id": "a0bde5d4",
   "metadata": {},
   "outputs": [
    {
     "data": {
      "text/plain": [
       "(847329, 12)"
      ]
     },
     "execution_count": 14,
     "metadata": {},
     "output_type": "execute_result"
    }
   ],
   "source": [
    "df.shape"
   ]
  },
  {
   "cell_type": "markdown",
   "id": "fa6f9ea1",
   "metadata": {},
   "source": [
    "# Question 5\n",
    "\n",
    "## At some point in 2019, the ability for students and alumni to access both curriculums (web dev to ds, ds to web dev) should have been shut off. Do you see any evidence of that happening? Did it happen before?"
   ]
  },
  {
   "cell_type": "code",
   "execution_count": 4,
   "id": "f3456177",
   "metadata": {},
   "outputs": [
    {
     "data": {
      "text/plain": [
       "Full Stack Java    713365\n",
       "Data Science       103411\n",
       "Full Stack PHP      30548\n",
       "Front End               5\n",
       "Name: program, dtype: int64"
      ]
     },
     "execution_count": 4,
     "metadata": {},
     "output_type": "execute_result"
    }
   ],
   "source": [
    "df.program.value_counts()"
   ]
  },
  {
   "cell_type": "code",
   "execution_count": 18,
   "id": "48556bac",
   "metadata": {},
   "outputs": [],
   "source": [
    "# create data science data frame\n",
    "ds = df[df.program_id == 3]"
   ]
  },
  {
   "cell_type": "code",
   "execution_count": 21,
   "id": "602bb320",
   "metadata": {},
   "outputs": [],
   "source": [
    "# create program 1 web dev dataframe\n",
    "wd1 = df[df.program_id == 1]"
   ]
  },
  {
   "cell_type": "code",
   "execution_count": 20,
   "id": "5a2d4569",
   "metadata": {},
   "outputs": [],
   "source": [
    "# create program 2 webdev data frame\n",
    "wd2 = df[df.program_id == 2]"
   ]
  },
  {
   "cell_type": "code",
   "execution_count": 23,
   "id": "b7a77407",
   "metadata": {},
   "outputs": [],
   "source": [
    "# concatenate both web dev data frames into one df\n",
    "wd = pd.concat([wd1, wd2])"
   ]
  },
  {
   "cell_type": "code",
   "execution_count": 25,
   "id": "4021d32d",
   "metadata": {},
   "outputs": [
    {
     "data": {
      "text/plain": [
       "True"
      ]
     },
     "execution_count": 25,
     "metadata": {},
     "output_type": "execute_result"
    }
   ],
   "source": [
    "# verify correct length of new web dev dataframe\n",
    "len(wd) == len(wd1) + len(wd2)"
   ]
  },
  {
   "cell_type": "code",
   "execution_count": 39,
   "id": "f8e56b83",
   "metadata": {},
   "outputs": [
    {
     "data": {
      "text/plain": [
       "/                                                                            37495\n",
       "javascript-i                                                                 18193\n",
       "toc                                                                          17580\n",
       "search/search_index.json                                                     15331\n",
       "java-iii                                                                     13162\n",
       "html-css                                                                     13111\n",
       "java-ii                                                                      12173\n",
       "spring                                                                       11877\n",
       "jquery                                                                       11037\n",
       "mysql                                                                        10602\n",
       "java-i                                                                       10460\n",
       "javascript-ii                                                                10290\n",
       "appendix                                                                      8057\n",
       "javascript-i/introduction/working-with-data-types-operators-and-variables     7326\n",
       "mysql/tables                                                                  7101\n",
       "javascript-i/functions                                                        7070\n",
       "javascript-i/javascript-with-html                                             7049\n",
       "html-css/elements                                                             6722\n",
       "mysql/databases                                                               6654\n",
       "java-iii/jsp-and-jstl                                                         6601\n",
       "Name: path, dtype: int64"
      ]
     },
     "execution_count": 39,
     "metadata": {},
     "output_type": "execute_result"
    }
   ],
   "source": [
    "# most popular web dev paths viewed\n",
    "wd.path.value_counts().head(20)"
   ]
  },
  {
   "cell_type": "markdown",
   "id": "9c578254",
   "metadata": {},
   "source": [
    "## Find proof that DS had access to WD pre-2019"
   ]
  },
  {
   "cell_type": "markdown",
   "id": "ee2fd8e8",
   "metadata": {},
   "source": [
    "This section lists the data science students looking at popular web dev paths to see when/if they had acces."
   ]
  },
  {
   "cell_type": "code",
   "execution_count": 33,
   "id": "4cc7be25",
   "metadata": {},
   "outputs": [
    {
     "data": {
      "text/plain": [
       "date\n",
       "2019-09-25    java-i\n",
       "2019-09-25    java-i\n",
       "2019-09-25    java-i\n",
       "2019-09-25    java-i\n",
       "2019-11-25    java-i\n",
       "2019-11-26    java-i\n",
       "2019-12-03    java-i\n",
       "Name: path, dtype: object"
      ]
     },
     "execution_count": 33,
     "metadata": {},
     "output_type": "execute_result"
    }
   ],
   "source": [
    "ds.path[ds.path== 'java-i']"
   ]
  },
  {
   "cell_type": "code",
   "execution_count": 34,
   "id": "8154a223",
   "metadata": {},
   "outputs": [
    {
     "data": {
      "text/plain": [
       "date\n",
       "2019-09-25    java-ii\n",
       "2019-11-25    java-ii\n",
       "2019-12-03    java-ii\n",
       "2019-12-03    java-ii\n",
       "Name: path, dtype: object"
      ]
     },
     "execution_count": 34,
     "metadata": {},
     "output_type": "execute_result"
    }
   ],
   "source": [
    "ds.path[ds.path== 'java-ii']"
   ]
  },
  {
   "cell_type": "code",
   "execution_count": 35,
   "id": "ac5448eb",
   "metadata": {},
   "outputs": [
    {
     "data": {
      "text/plain": [
       "date\n",
       "2019-09-23    java-iii\n",
       "2019-11-25    java-iii\n",
       "2019-11-25    java-iii\n",
       "2019-12-03    java-iii\n",
       "Name: path, dtype: object"
      ]
     },
     "execution_count": 35,
     "metadata": {},
     "output_type": "execute_result"
    }
   ],
   "source": [
    "ds.path[ds.path== 'java-iii']"
   ]
  },
  {
   "cell_type": "code",
   "execution_count": 36,
   "id": "3fd7b90f",
   "metadata": {},
   "outputs": [
    {
     "data": {
      "text/plain": [
       "date\n",
       "2019-11-25    jquery\n",
       "2019-12-03    jquery\n",
       "2019-12-03    jquery\n",
       "2019-12-04    jquery\n",
       "Name: path, dtype: object"
      ]
     },
     "execution_count": 36,
     "metadata": {},
     "output_type": "execute_result"
    }
   ],
   "source": [
    "ds.path[ds.path== 'jquery']"
   ]
  },
  {
   "cell_type": "code",
   "execution_count": 41,
   "id": "9d414f30",
   "metadata": {},
   "outputs": [
    {
     "data": {
      "text/plain": [
       "date\n",
       "2019-09-25    javascript-i\n",
       "2019-09-25    javascript-i\n",
       "2019-09-25    javascript-i\n",
       "2019-09-25    javascript-i\n",
       "2019-11-25    javascript-i\n",
       "2019-11-26    javascript-i\n",
       "2019-11-26    javascript-i\n",
       "2019-12-03    javascript-i\n",
       "2019-12-03    javascript-i\n",
       "2019-12-14    javascript-i\n",
       "Name: path, dtype: object"
      ]
     },
     "execution_count": 41,
     "metadata": {},
     "output_type": "execute_result"
    }
   ],
   "source": [
    "ds.path[ds.path== 'javascript-i']"
   ]
  },
  {
   "cell_type": "code",
   "execution_count": 44,
   "id": "5c8d35d1",
   "metadata": {},
   "outputs": [
    {
     "data": {
      "text/plain": [
       "date\n",
       "2019-11-25    javascript-ii\n",
       "2019-11-26    javascript-ii\n",
       "2019-12-03    javascript-ii\n",
       "2019-12-03    javascript-ii\n",
       "Name: path, dtype: object"
      ]
     },
     "execution_count": 44,
     "metadata": {},
     "output_type": "execute_result"
    }
   ],
   "source": [
    "ds.path[ds.path== 'javascript-ii']"
   ]
  },
  {
   "cell_type": "code",
   "execution_count": 46,
   "id": "c6723212",
   "metadata": {},
   "outputs": [
    {
     "data": {
      "text/plain": [
       "Series([], Name: path, dtype: object)"
      ]
     },
     "execution_count": 46,
     "metadata": {},
     "output_type": "execute_result"
    }
   ],
   "source": [
    "ds.path[ds.path== 'javascript-iii']"
   ]
  },
  {
   "cell_type": "code",
   "execution_count": 42,
   "id": "15aef7f6",
   "metadata": {},
   "outputs": [
    {
     "data": {
      "text/plain": [
       "date\n",
       "2019-09-25    html-css\n",
       "2019-09-25    html-css\n",
       "2019-09-25    html-css\n",
       "2019-09-27    html-css\n",
       "2019-11-25    html-css\n",
       "2019-11-25    html-css\n",
       "2019-11-26    html-css\n",
       "2019-11-26    html-css\n",
       "2019-11-26    html-css\n",
       "2019-11-26    html-css\n",
       "2019-12-03    html-css\n",
       "2019-12-03    html-css\n",
       "2019-12-04    html-css\n",
       "2019-12-13    html-css\n",
       "2019-12-13    html-css\n",
       "2019-12-14    html-css\n",
       "Name: path, dtype: object"
      ]
     },
     "execution_count": 42,
     "metadata": {},
     "output_type": "execute_result"
    }
   ],
   "source": [
    "ds.path[ds.path== 'html-css']"
   ]
  },
  {
   "cell_type": "code",
   "execution_count": 47,
   "id": "fb9b5003",
   "metadata": {},
   "outputs": [
    {
     "data": {
      "text/plain": [
       "date\n",
       "2019-11-25    spring\n",
       "2019-11-26    spring\n",
       "2019-11-26    spring\n",
       "2019-11-26    spring\n",
       "2019-12-03    spring\n",
       "2020-11-19    spring\n",
       "Name: path, dtype: object"
      ]
     },
     "execution_count": 47,
     "metadata": {},
     "output_type": "execute_result"
    }
   ],
   "source": [
    "ds.path[ds.path== 'spring']"
   ]
  },
  {
   "cell_type": "markdown",
   "id": "90f7239f",
   "metadata": {},
   "source": [
    "### Data Science Takeaway\n",
    "\n",
    "There does not appear to be any access to the Web Dev paths before September 2019, and after December 2019. Which leads me to believe they did not have access during those time periods."
   ]
  },
  {
   "cell_type": "markdown",
   "id": "05fd4a09",
   "metadata": {},
   "source": [
    "## Find proof that WD had access to DS."
   ]
  },
  {
   "cell_type": "code",
   "execution_count": 48,
   "id": "ed4f4bcd",
   "metadata": {},
   "outputs": [
    {
     "data": {
      "text/plain": [
       "/                                                    8358\n",
       "search/search_index.json                             2203\n",
       "classification/overview                              1785\n",
       "1-fundamentals/modern-data-scientist.jpg             1655\n",
       "1-fundamentals/AI-ML-DL-timeline.jpg                 1651\n",
       "1-fundamentals/1.1-intro-to-data-science             1633\n",
       "classification/scale_features_or_not.svg             1590\n",
       "fundamentals/AI-ML-DL-timeline.jpg                   1443\n",
       "fundamentals/modern-data-scientist.jpg               1438\n",
       "sql/mysql-overview                                   1424\n",
       "fundamentals/intro-to-data-science                   1413\n",
       "6-regression/1-overview                              1124\n",
       "anomaly-detection/AnomalyDetectionCartoon.jpeg        829\n",
       "anomaly-detection/overview                            804\n",
       "10-anomaly-detection/AnomalyDetectionCartoon.jpeg     754\n",
       "10-anomaly-detection/1-overview                       751\n",
       "3-sql/1-mysql-overview                                707\n",
       "1-fundamentals/DataToAction_v2.jpg                    675\n",
       "stats/compare-means                                   668\n",
       "python/data-types-and-variables                       667\n",
       "Name: path, dtype: int64"
      ]
     },
     "execution_count": 48,
     "metadata": {},
     "output_type": "execute_result"
    }
   ],
   "source": [
    "# Most popular Data Science paths\n",
    "ds.path.value_counts().head(20)"
   ]
  },
  {
   "cell_type": "markdown",
   "id": "17258a11",
   "metadata": {},
   "source": [
    "This section lists the web dev students looking at popular data science paths to see when/if they had acces."
   ]
  },
  {
   "cell_type": "code",
   "execution_count": 52,
   "id": "4c3e6760",
   "metadata": {},
   "outputs": [
    {
     "data": {
      "text/plain": [
       "date\n",
       "2020-07-22    classification/overview\n",
       "2020-07-22    classification/overview\n",
       "2020-07-22    classification/overview\n",
       "2020-07-22    classification/overview\n",
       "2020-07-22    classification/overview\n",
       "                       ...           \n",
       "2021-04-20    classification/overview\n",
       "2021-04-20    classification/overview\n",
       "2021-04-21    classification/overview\n",
       "2021-04-21    classification/overview\n",
       "2021-04-21    classification/overview\n",
       "Name: path, Length: 852, dtype: object"
      ]
     },
     "execution_count": 52,
     "metadata": {},
     "output_type": "execute_result"
    }
   ],
   "source": [
    "wd.path[wd.path== 'classification/overview']"
   ]
  },
  {
   "cell_type": "code",
   "execution_count": 55,
   "id": "e1d629b6",
   "metadata": {},
   "outputs": [
    {
     "data": {
      "text/plain": [
       "date\n",
       "2020-07-22    fundamentals/intro-to-data-science\n",
       "2020-07-22    fundamentals/intro-to-data-science\n",
       "2020-07-22    fundamentals/intro-to-data-science\n",
       "2020-07-22    fundamentals/intro-to-data-science\n",
       "2020-07-22    fundamentals/intro-to-data-science\n",
       "                             ...                \n",
       "2021-04-20    fundamentals/intro-to-data-science\n",
       "2021-04-20    fundamentals/intro-to-data-science\n",
       "2021-04-21    fundamentals/intro-to-data-science\n",
       "2021-04-21    fundamentals/intro-to-data-science\n",
       "2021-04-21    fundamentals/intro-to-data-science\n",
       "Name: path, Length: 471, dtype: object"
      ]
     },
     "execution_count": 55,
     "metadata": {},
     "output_type": "execute_result"
    }
   ],
   "source": [
    "wd.path[wd.path== 'fundamentals/intro-to-data-science']"
   ]
  },
  {
   "cell_type": "code",
   "execution_count": 57,
   "id": "060a4413",
   "metadata": {},
   "outputs": [
    {
     "data": {
      "text/plain": [
       "date\n",
       "2020-08-26    stats/compare-means\n",
       "2020-08-26    stats/compare-means\n",
       "2020-08-26    stats/compare-means\n",
       "2020-08-26    stats/compare-means\n",
       "2020-08-26    stats/compare-means\n",
       "                     ...         \n",
       "2021-03-10    stats/compare-means\n",
       "2021-03-13    stats/compare-means\n",
       "2021-03-17    stats/compare-means\n",
       "2021-03-22    stats/compare-means\n",
       "2021-04-11    stats/compare-means\n",
       "Name: path, Length: 111, dtype: object"
      ]
     },
     "execution_count": 57,
     "metadata": {},
     "output_type": "execute_result"
    }
   ],
   "source": [
    "wd.path[wd.path== 'stats/compare-means']"
   ]
  },
  {
   "cell_type": "markdown",
   "id": "19066c35",
   "metadata": {},
   "source": [
    "### Web Dev Takeaway\n",
    "\n",
    "There appears to be access to the Data Science paths after September 2019. Specifically, from July 2020 to April 2021."
   ]
  },
  {
   "cell_type": "code",
   "execution_count": null,
   "id": "9b02079e",
   "metadata": {},
   "outputs": [],
   "source": []
  }
 ],
 "metadata": {
  "kernelspec": {
   "display_name": "Python 3 (ipykernel)",
   "language": "python",
   "name": "python3"
  },
  "language_info": {
   "codemirror_mode": {
    "name": "ipython",
    "version": 3
   },
   "file_extension": ".py",
   "mimetype": "text/x-python",
   "name": "python",
   "nbconvert_exporter": "python",
   "pygments_lexer": "ipython3",
   "version": "3.9.12"
  }
 },
 "nbformat": 4,
 "nbformat_minor": 5
}
