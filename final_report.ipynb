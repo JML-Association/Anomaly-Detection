{
 "cells": [
  {
   "cell_type": "markdown",
   "id": "cb4f58e1",
   "metadata": {},
   "source": [
    "# Anomaly Detection"
   ]
  },
  {
   "cell_type": "markdown",
   "id": "ce8ffa6a",
   "metadata": {},
   "source": [
    "Team: **Jeremy Lagunas**, **Meredith Wang**, **Luis Arce**\n",
    "\n",
    "August 2022"
   ]
  },
  {
   "cell_type": "markdown",
   "id": "ee7ad69d",
   "metadata": {},
   "source": [
    "<a href=\"#\"><img align=\"left\" alt=\"Python\" src=\"https://img.shields.io/badge/Python-013243.svg?logo=python&logoColor=white\"></a>\n",
    "<a href=\"#\"><img align=\"left\" alt=\"Pandas\" src=\"https://img.shields.io/badge/Pandas-150458.svg?logo=pandas&logoColor=white\"></a>\n",
    "<a href=\"#\"><img align=\"left\" alt=\"NumPy\" src=\"https://img.shields.io/badge/Numpy-2a4d69.svg?logo=numpy&logoColor=white\"></a>\n",
    "<a href=\"#\"><img align=\"left\" alt=\"Matplotlib\" src=\"https://img.shields.io/badge/Matplotlib-8DF9C1.svg?logo=matplotlib&logoColor=white\"></a>\n",
    "<a href=\"#\"><img align=\"left\" alt=\"seaborn\" src=\"https://img.shields.io/badge/seaborn-65A9A8.svg?logo=pandas&logoColor=white\"></a>\n",
    "<a href=\"#\"><img align=\"left\" alt=\"plotly\" src=\"https://img.shields.io/badge/plotly-adcbe3.svg?logo=plotly&logoColor=white\"></a>\n",
    "<a href=\"#\"><img align=\"left\" alt=\"sklearn\" src=\"https://img.shields.io/badge/sklearn-4b86b4.svg?logo=scikitlearn&logoColor=white\"></a>\n",
    "<a href=\"#\"><img align=\"left\" alt=\"SciPy\" src=\"https://img.shields.io/badge/SciPy-1560bd.svg?logo=scipy&logoColor=white\"></a>"
   ]
  },
  {
   "cell_type": "markdown",
   "id": "1e5fa19d",
   "metadata": {},
   "source": [
    "<h1 align=\"center\">------------ 🏘️ Project Goal ------------</h1>"
   ]
  },
  {
   "cell_type": "markdown",
   "id": "228d5f05",
   "metadata": {},
   "source": [
    "**Codeup** staff bring up some questions to the data science team in email, and our goal is to answer the quesions regaring the security of codeup curriculum through anomaly detection and data analysis."
   ]
  },
  {
   "cell_type": "markdown",
   "id": "69c6a85e",
   "metadata": {},
   "source": [
    "<h1 align=\"center\">------------ 📝 Questions Raised ------------</h1>"
   ]
  },
  {
   "cell_type": "markdown",
   "id": "2c836708",
   "metadata": {},
   "source": [
    "▪️ Which lesson appears to attract the most traffic consistently across cohorts (per program), which lessons are least accessed? (Luis)\n",
    "\n",
    "▪️Is there a cohort that referred to a lesson significantly more than other cohorts seemed to gloss over? (Jeremy)\n",
    "\n",
    "▪️ Are there students who, when active, hardly access the curriculum? If so, what information do you have about these students? (Luis)\n",
    "\n",
    "▪️ Is there any suspicious activity, such as users/machines/etc accessing the curriculum who shouldn’t be? Does it appear that any web-scraping is happening? Are there any suspicious IP addresses? (Meredith)\n",
    "\n",
    "▪️ At some point in 2019, the ability for students and alumni to access both curriculums (web dev to ds, ds to web dev) should have been shut off. Do you see any evidence of that happening? Did it happen before? (Jeremy)\n",
    "\n",
    "▪️ What topics are grads continuing to reference after graduation and into their jobs (for each program)? (Merdith)\n",
    "\n",
    "▪️ Which lessons are least accessed? (Luis)"
   ]
  },
  {
   "cell_type": "markdown",
   "id": "93779917",
   "metadata": {},
   "source": [
    "<h1 align=\"center\">------------ 📚 Data Dictionary ------------</h1>"
   ]
  },
  {
   "cell_type": "markdown",
   "id": "9f669b46",
   "metadata": {},
   "source": [
    "**Variable** |    **Value**    | **Meaning**\n",
    "---|---|---\n",
    "<span style=\"background-color: #ffe0bd\">*date*</span> | datetime | The date of log entry\n",
    "<span style=\"background-color: #ffe0bd\">*time*</span> | datetime | The time of the day of log entry\n",
    "<span style=\"background-color: #ffe0bd\">*path*</span> | string | The path the user is on\n",
    "<span style=\"background-color: #ffe0bd\">*user id*</span> | float | The primary key of log table, indicating each user\n",
    "<span style=\"background-color: #ffe0bd\">*ip*</span> | string | The user's ip address\n",
    "<span style=\"background-color: #ffe0bd\">*cohort name*</span> | string | The name of user's cohort\n",
    "<span style=\"background-color: #ffe0bd\">*slack*</span> | string | The name of the slack chanel that user belongs to\n",
    "<span style=\"background-color: #ffe0bd\">*start date*</span>| datetime | The start date of the cohort\n",
    "<span style=\"background-color: #ffe0bd\">*end date*</span> | datetime | The end date of the cohort\n",
    "<span style=\"background-color: #ffe0bd\">*program id*</span> | datetime | This indicates which program is the user in"
   ]
  },
  {
   "cell_type": "markdown",
   "id": "9f289809",
   "metadata": {},
   "source": [
    "<h1 align=\"center\">------------ 🧮 Wrangle Data ------------</h1>"
   ]
  },
  {
   "cell_type": "markdown",
   "id": "6f1c8b7d",
   "metadata": {},
   "source": [
    "## 1. Data Acquisition\n",
    "▪️ Stored the sensitive data in an **env.py** file in order to get conncetion to the mySQL server and abtain our data.\n",
    "\n",
    "▪️ To acquire the curriculum data for Codeup, we used the **curriculum_log** database in the mySQL server, and joined the following tables to gather data: <samp>`cohort, logs`</samp>\n",
    "\n",
    "▪️ Created **acquire.py** and user-defined function `get_data()` to acquire and cache data."
   ]
  },
  {
   "cell_type": "code",
   "execution_count": 2,
   "id": "33c538e6",
   "metadata": {},
   "outputs": [
    {
     "data": {
      "text/plain": [
       "(847330, 11)"
      ]
     },
     "execution_count": 2,
     "metadata": {},
     "output_type": "execute_result"
    }
   ],
   "source": [
    "# Import essential libraries\n",
    "import warnings\n",
    "warnings.filterwarnings(\"ignore\")\n",
    "\n",
    "import matplotlib.pyplot as plt\n",
    "import seaborn as sns\n",
    "\n",
    "import numpy as np\n",
    "import pandas as pd\n",
    "\n",
    "# Import functions\n",
    "import acquire\n",
    "import prepare\n",
    "\n",
    "# set columnns display format\n",
    "pd.set_option('display.max_columns', None)\n",
    "\n",
    "# Calling the function to make the connection to database, run the query, and store the table in the form of a dataframe\n",
    "messy_df = acquire.get_data()\n",
    "\n",
    "# Check the shape of our messy dataframe\n",
    "messy_df.shape"
   ]
  },
  {
   "cell_type": "markdown",
   "id": "f61664eb",
   "metadata": {},
   "source": [
    "## 2. Data Preparation - Data Cleaning 🧹 \n",
    "▪️ **Missing Values (NaN):**\n",
    "    \n",
    "- All the null values are <span style=\"color: blue\"> **dropped** </span>\n",
    "\n",
    "- We feel comfortable dropping null values because there's only 1 row of missing value\n",
    "\n",
    "▪️ **Data Conversion**\n",
    "- Convert `date` to datatime object\n",
    "\n",
    "- Set date as index of the dataframe\n",
    "\n",
    "▪️ **Data Encoding**\n",
    "- Created new column `program` corresponding to `program_id`"
   ]
  },
  {
   "cell_type": "code",
   "execution_count": 3,
   "id": "fe60a874",
   "metadata": {},
   "outputs": [
    {
     "data": {
      "text/plain": [
       "(847329, 12)"
      ]
     },
     "execution_count": 3,
     "metadata": {},
     "output_type": "execute_result"
    }
   ],
   "source": [
    "# Cleaning the data using function from prepare.py\n",
    "df = prepare.prep_data(messy_df)\n",
    "\n",
    "# Checking the shape of our cleaned dataframe\n",
    "df.shape"
   ]
  },
  {
   "cell_type": "markdown",
   "id": "1797067f",
   "metadata": {},
   "source": [
    "<h1 align=\"center\">------------ 📊 Data Context ------------</h1>"
   ]
  },
  {
   "cell_type": "markdown",
   "id": "0b828080",
   "metadata": {},
   "source": [
    "<h1 align=\"center\">------------ 👩🏻‍💻 Exploratory Analysis ------------</h1>"
   ]
  },
  {
   "cell_type": "markdown",
   "id": "ab0fa9c7",
   "metadata": {},
   "source": [
    "1. **Which lesson appears to attract the most traffic consistently across cohorts (per program), which lessons are least accessed?**(Luis)\n",
    "\n",
    "2. **Is there a cohort that referred to a lesson significantly more than other cohorts seemed to gloss over?** (Jeremy)\n",
    "\n",
    "3. **Are there students who, when active, hardly access the curriculum? If so, what information do you have about these students?** (Luis)\n",
    "\n",
    "4. **Is there any suspicious activity, such as users/machines/etc accessing the curriculum who shouldn’t be? Does it appear that any web-scraping is happening? Are there any suspicious IP addresses?**(Meredith)\n",
    "\n",
    "5. **At some point in 2019, the ability for students and alumni to access both curriculums (web dev to ds, ds to web dev) should have been shut off. Do you see any evidence of that happening? Did it happen before?**(Jeremy)\n",
    "\n",
    "6. **What topics are grads continuing to reference after graduation and into their jobs (for each program)?**(Merdith)"
   ]
  },
  {
   "cell_type": "markdown",
   "id": "cc8ca0ea",
   "metadata": {},
   "source": [
    "## Question 1: Which lesson appears to attract the most traffic consistently across cohorts (per program), which lessons are least accessed?"
   ]
  },
  {
   "cell_type": "markdown",
   "id": "ec41d03e",
   "metadata": {},
   "source": [
    "### Approach\n",
    "1. Create and separate the datasets of Web Development and Data Science programs.\n",
    "2. Remove the popular logistic pages in the curriculum. I.E. '/' = main page, 'toc' = Table of Contents, et.c\n",
    "3. Use .value_counts() on path to see the most accessed pages.\n",
    "4. Store the top 10 page names with page counts as a variable."
   ]
  },
  {
   "cell_type": "markdown",
   "id": "cf406614",
   "metadata": {},
   "source": [
    "### Top 10 accessed pages across programs"
   ]
  },
  {
   "cell_type": "code",
   "execution_count": 4,
   "id": "18ee5aa1",
   "metadata": {
    "scrolled": true
   },
   "outputs": [
    {
     "data": {
      "text/plain": [
       "/                1681\n",
       "index.html       1011\n",
       "javascript-i      736\n",
       "html-css          542\n",
       "spring            501\n",
       "java-iii          479\n",
       "java-ii           454\n",
       "java-i            444\n",
       "javascript-ii     429\n",
       "appendix          409\n",
       "Name: path, dtype: int64"
      ]
     },
     "execution_count": 4,
     "metadata": {},
     "output_type": "execute_result"
    }
   ],
   "source": [
    "df.loc[df.program_id==1].path.value_counts().nlargest(10)"
   ]
  },
  {
   "cell_type": "code",
   "execution_count": 5,
   "id": "60d966ff",
   "metadata": {},
   "outputs": [
    {
     "data": {
      "text/plain": [
       "/                           35814\n",
       "javascript-i                17457\n",
       "toc                         17428\n",
       "search/search_index.json    15212\n",
       "java-iii                    12683\n",
       "html-css                    12569\n",
       "java-ii                     11719\n",
       "spring                      11376\n",
       "jquery                      10693\n",
       "mysql                       10318\n",
       "Name: path, dtype: int64"
      ]
     },
     "execution_count": 5,
     "metadata": {},
     "output_type": "execute_result"
    }
   ],
   "source": [
    "df.loc[df.program_id==2].path.value_counts().nlargest(10)"
   ]
  },
  {
   "cell_type": "code",
   "execution_count": 6,
   "id": "86113abe",
   "metadata": {},
   "outputs": [
    {
     "data": {
      "text/plain": [
       "/                                           8358\n",
       "search/search_index.json                    2203\n",
       "classification/overview                     1785\n",
       "1-fundamentals/modern-data-scientist.jpg    1655\n",
       "1-fundamentals/AI-ML-DL-timeline.jpg        1651\n",
       "1-fundamentals/1.1-intro-to-data-science    1633\n",
       "classification/scale_features_or_not.svg    1590\n",
       "fundamentals/AI-ML-DL-timeline.jpg          1443\n",
       "fundamentals/modern-data-scientist.jpg      1438\n",
       "sql/mysql-overview                          1424\n",
       "Name: path, dtype: int64"
      ]
     },
     "execution_count": 6,
     "metadata": {},
     "output_type": "execute_result"
    }
   ],
   "source": [
    "df.loc[df.program_id==3].path.value_counts().nlargest(10)"
   ]
  },
  {
   "cell_type": "code",
   "execution_count": 7,
   "id": "fff3de59",
   "metadata": {},
   "outputs": [
    {
     "data": {
      "text/plain": [
       "content/html-css                               2\n",
       "/                                              1\n",
       "content/html-css/gitbook/images/favicon.ico    1\n",
       "content/html-css/introduction.html             1\n",
       "Name: path, dtype: int64"
      ]
     },
     "execution_count": 7,
     "metadata": {},
     "output_type": "execute_result"
    }
   ],
   "source": [
    "df.loc[df.program_id==4].path.value_counts().nlargest(10)"
   ]
  },
  {
   "cell_type": "markdown",
   "id": "138adb37",
   "metadata": {},
   "source": [
    "### Web Development Program"
   ]
  },
  {
   "cell_type": "code",
   "execution_count": 8,
   "id": "11d2102e",
   "metadata": {},
   "outputs": [],
   "source": [
    "# Remove staff from the analysis.\n",
    "df.loc[~(df.cohort_name == 'Staff')]\n",
    "\n",
    "# Step 1.\n",
    "# Web Devlopment Cohorts\n",
    "wd_cohorts = df.loc[df.program_id.isin([1, 2, 4])]\n",
    "\n",
    "# Data Science Cohorts\n",
    "ds_cohorts = df.loc[df.program_id == 3]"
   ]
  },
  {
   "cell_type": "code",
   "execution_count": 9,
   "id": "8fed0192",
   "metadata": {},
   "outputs": [],
   "source": [
    "# Step 2.\n",
    "# Create a variable to store pages to filter out.\n",
    "remove_pages = [ 'index.html', 'search/search_index.json', 'mkdocs/search_index.json','/', 'toc', 'appendix',]\n",
    "\n",
    "# Clean page_viewed to remove logistic pages: Searches, Table of Contents, Appendix\n",
    "wd_cohorts = wd_cohorts.loc[~wd_cohorts.path.isin(remove_pages)]\n",
    "\n",
    "# Replace content main page with empty string.\n",
    "wd_cohorts.page_viewed = wd_cohorts.path.replace('content/', '', regex=True)"
   ]
  },
  {
   "cell_type": "code",
   "execution_count": 10,
   "id": "5d07fc06",
   "metadata": {},
   "outputs": [
    {
     "name": "stdout",
     "output_type": "stream",
     "text": [
      "javascript-i                                                                 18193\n",
      "java-iii                                                                     13162\n",
      "html-css                                                                     13111\n",
      "java-ii                                                                      12173\n",
      "spring                                                                       11877\n",
      "jquery                                                                       11037\n",
      "mysql                                                                        10602\n",
      "java-i                                                                       10460\n",
      "javascript-ii                                                                10290\n",
      "javascript-i/introduction/working-with-data-types-operators-and-variables     7326\n",
      "Name: path, dtype: int64\n"
     ]
    }
   ],
   "source": [
    "# Step 3 `.value_counts()`\n",
    "wd_top_10_pages = wd_cohorts.path.value_counts().nlargest(10)\n",
    "print(wd_top_10_pages)\n",
    "wd_top_10_pages = wd_top_10_pages.index.to_list()"
   ]
  },
  {
   "cell_type": "markdown",
   "id": "41cf9c65",
   "metadata": {},
   "source": [
    "### Data Science"
   ]
  },
  {
   "cell_type": "code",
   "execution_count": 11,
   "id": "92699701",
   "metadata": {},
   "outputs": [],
   "source": [
    "# Step 1.\n",
    "# Create a variable to store pages to filter out.\n",
    "remove_pages = ['/', 'toc', 'appendix', 'index.html', 'search/search_index.json', 'mkdocs/search_index.json']\n",
    "\n",
    "# Clean page_viewed to remove logistic pages: Searches, Table of Contents, Appendix\n",
    "ds_cohorts = ds_cohorts.loc[~ds_cohorts.path.isin(remove_pages)]\n",
    "\n",
    "# Replace content main page with empty string.\n",
    "ds_cohorts.path = ds_cohorts.path.replace('content/', '', regex=True)"
   ]
  },
  {
   "cell_type": "code",
   "execution_count": 12,
   "id": "51829656",
   "metadata": {},
   "outputs": [
    {
     "name": "stdout",
     "output_type": "stream",
     "text": [
      "classification/overview                     1785\n",
      "1-fundamentals/modern-data-scientist.jpg    1655\n",
      "1-fundamentals/AI-ML-DL-timeline.jpg        1651\n",
      "1-fundamentals/1.1-intro-to-data-science    1633\n",
      "classification/scale_features_or_not.svg    1590\n",
      "fundamentals/AI-ML-DL-timeline.jpg          1443\n",
      "fundamentals/modern-data-scientist.jpg      1438\n",
      "sql/mysql-overview                          1424\n",
      "fundamentals/intro-to-data-science          1413\n",
      "6-regression/1-overview                     1124\n",
      "Name: path, dtype: int64\n"
     ]
    }
   ],
   "source": [
    "# Step 2 `.value_counts()`\n",
    "ds_top_10_pages = ds_cohorts.path.value_counts().nlargest(10)\n",
    "print(ds_top_10_pages)\n",
    "ds_top_10_pages = ds_top_10_pages.index.to_list()"
   ]
  },
  {
   "cell_type": "markdown",
   "id": "6d7ddbee",
   "metadata": {},
   "source": [
    "# Takeaways for Question 1.\n",
    "\n",
    "- Data Science cohorts access <b>classification/overview</b>  the most.\n",
    "- Web Development cohorts access <b>javascript-i</b> the most."
   ]
  },
  {
   "cell_type": "markdown",
   "id": "6cf202e2",
   "metadata": {},
   "source": [
    "***"
   ]
  },
  {
   "cell_type": "markdown",
   "id": "df9d0767",
   "metadata": {},
   "source": [
    "## Question 2: Is there a cohort that referred to a lesson significantly more than other cohorts seemed to gloss over?"
   ]
  },
  {
   "cell_type": "code",
   "execution_count": 14,
   "id": "6a5d6ada",
   "metadata": {},
   "outputs": [
    {
     "data": {
      "text/plain": [
       "14.0    9587\n",
       "1.0     8890\n",
       "17.0    4954\n",
       "13.0    2845\n",
       "8.0     1712\n",
       "19.0    1237\n",
       "7.0      598\n",
       "12.0     302\n",
       "11.0     253\n",
       "2.0       93\n",
       "6.0       72\n",
       "4.0        4\n",
       "5.0        1\n",
       "Name: cohort_id, dtype: int64"
      ]
     },
     "execution_count": 14,
     "metadata": {},
     "output_type": "execute_result"
    }
   ],
   "source": [
    "# create a variable which contains data only for program 1\n",
    "program_1 = df[df['program_id'] == 1.0]\n",
    "# Which cohorts are in program 1?\n",
    "program_1.cohort_id.value_counts()"
   ]
  },
  {
   "cell_type": "code",
   "execution_count": 15,
   "id": "d8425eff",
   "metadata": {},
   "outputs": [],
   "source": [
    "def match_finder(x, y):\n",
    "    '''\n",
    "    This function takes in two lists and compares them. \n",
    "    If one of the items in the first list is in the second list, it will print it.\n",
    "    If there are no matches it will print 'no match'\n",
    "    '''\n",
    "    for i in x:\n",
    "        if i in y:\n",
    "            print(i)\n",
    "    else:\n",
    "        print('no match')"
   ]
  },
  {
   "cell_type": "code",
   "execution_count": 16,
   "id": "fe08453d",
   "metadata": {},
   "outputs": [],
   "source": [
    "# Creates the most and least viewed paths for each cohort in program 1. \n",
    "\n",
    "# cohort 14\n",
    "cohort_14_most = list(program_1[program_1['cohort_id'] == 14.0].path.value_counts().index[0:10])\n",
    "cohort_14_least = list(program_1[program_1['cohort_id'] == 14.0].path.value_counts().loc[lambda x: x <=5].index)\n",
    "\n",
    "# cohort 1\n",
    "cohort_1_most = list(program_1[program_1['cohort_id'] == 1.0].path.value_counts().index[0:10])\n",
    "cohort_1_least = list(program_1[program_1['cohort_id'] == 1.0].path.value_counts().loc[lambda x: x <=5].index)\n",
    "\n",
    "# cohort 17\n",
    "cohort_17_most = list(program_1[program_1['cohort_id'] == 17.0].path.value_counts().index[0:10])\n",
    "cohort_17_least = list(program_1[program_1['cohort_id'] == 17.0].path.value_counts().loc[lambda x: x <=5].index)\n",
    "\n",
    "# cohort 13\n",
    "cohort_13_most = list(program_1[program_1['cohort_id'] == 13.0].path.value_counts().index[0:10])\n",
    "cohort_13_least = list(program_1[program_1['cohort_id'] == 13.0].path.value_counts().loc[lambda x: x <=5].index)\n",
    "\n",
    "# cohort 8\n",
    "cohort_8_most = list(program_1[program_1['cohort_id'] == 18.0].path.value_counts().index[0:10])\n",
    "cohort_8_least = list(program_1[program_1['cohort_id'] == 18.0].path.value_counts().loc[lambda x: x <=5].index)\n",
    "\n",
    "# cohort 19\n",
    "cohort_19_most = list(program_1[program_1['cohort_id'] == 19.0].path.value_counts().index[0:10])\n",
    "cohort_19_least = list(program_1[program_1['cohort_id'] == 19.0].path.value_counts().loc[lambda x: x <=5].index)\n",
    "\n",
    "# cohort 7\n",
    "cohort_7_most = list(program_1[program_1['cohort_id'] == 7.0].path.value_counts().index[0:10])\n",
    "cohort_7_least = list(program_1[program_1['cohort_id'] == 7.0].path.value_counts().loc[lambda x: x <=5].index)\n",
    "\n",
    "# cohort 12\n",
    "cohort_12_most = list(program_1[program_1['cohort_id'] == 12.0].path.value_counts().index[0:10])\n",
    "cohort_12_least = list(program_1[program_1['cohort_id'] == 12.0].path.value_counts().loc[lambda x: x <=5].index)\n",
    "\n",
    "# cohort 11\n",
    "cohort_11_most = list(program_1[program_1['cohort_id'] == 11.0].path.value_counts().index[0:10])\n",
    "cohort_11_least = list(program_1[program_1['cohort_id'] == 11.0].path.value_counts().loc[lambda x: x <=5].index)"
   ]
  },
  {
   "cell_type": "markdown",
   "id": "cdd40be8",
   "metadata": {},
   "source": [
    "COHORT 14 comparison"
   ]
  },
  {
   "cell_type": "markdown",
   "id": "8a854201",
   "metadata": {},
   "source": [
    "## Question 3"
   ]
  },
  {
   "cell_type": "markdown",
   "id": "519ce217",
   "metadata": {},
   "source": [
    "***"
   ]
  },
  {
   "cell_type": "markdown",
   "id": "e565294e",
   "metadata": {},
   "source": [
    "## Question 4: Is there any suspicious activity, such as users/machines/etc accessing the curriculum who shouldn’t be? Does it appear that any web-scraping is happening? Are there any suspicious IP addresses?"
   ]
  },
  {
   "cell_type": "code",
   "execution_count": null,
   "id": "26b8ea5f",
   "metadata": {},
   "outputs": [],
   "source": []
  },
  {
   "cell_type": "markdown",
   "id": "ede05a4a",
   "metadata": {},
   "source": [
    "***"
   ]
  },
  {
   "cell_type": "markdown",
   "id": "6374c160",
   "metadata": {},
   "source": [
    "## Question 5: At some point in 2019, the ability for students and alumni to access both curriculums (web dev to ds, ds to web dev) should have been shut off. Do you see any evidence of that happening? Did it happen before?"
   ]
  },
  {
   "cell_type": "code",
   "execution_count": null,
   "id": "803c67ea",
   "metadata": {},
   "outputs": [],
   "source": []
  },
  {
   "cell_type": "markdown",
   "id": "b85750ce",
   "metadata": {},
   "source": [
    "***"
   ]
  },
  {
   "cell_type": "markdown",
   "id": "aff5821a",
   "metadata": {},
   "source": [
    "## Question 6: What topics are grads continuing to reference after graduation and into their jobs (for each program)?"
   ]
  },
  {
   "cell_type": "code",
   "execution_count": null,
   "id": "839e14b2",
   "metadata": {},
   "outputs": [],
   "source": []
  },
  {
   "cell_type": "markdown",
   "id": "43ff608a",
   "metadata": {},
   "source": [
    "***"
   ]
  },
  {
   "cell_type": "markdown",
   "id": "c3cc661b",
   "metadata": {},
   "source": [
    "## Question 7: Which lessons are least accessed?"
   ]
  },
  {
   "cell_type": "code",
   "execution_count": null,
   "id": "4f0ff861",
   "metadata": {},
   "outputs": [],
   "source": []
  }
 ],
 "metadata": {
  "kernelspec": {
   "display_name": "Python 3 (ipykernel)",
   "language": "python",
   "name": "python3"
  },
  "language_info": {
   "codemirror_mode": {
    "name": "ipython",
    "version": 3
   },
   "file_extension": ".py",
   "mimetype": "text/x-python",
   "name": "python",
   "nbconvert_exporter": "python",
   "pygments_lexer": "ipython3",
   "version": "3.9.12"
  }
 },
 "nbformat": 4,
 "nbformat_minor": 5
}
