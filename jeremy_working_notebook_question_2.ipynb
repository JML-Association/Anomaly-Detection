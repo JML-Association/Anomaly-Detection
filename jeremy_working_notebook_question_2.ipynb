{
 "cells": [
  {
   "cell_type": "code",
   "execution_count": 3,
   "id": "48af8fd5",
   "metadata": {},
   "outputs": [],
   "source": [
    "import warnings\n",
    "warnings.filterwarnings(\"ignore\")\n",
    "import matplotlib.pyplot as plt\n",
    "\n",
    "import numpy as np\n",
    "import pandas as pd\n",
    "import seaborn as sns\n",
    "import env\n",
    "import acquire\n",
    "import prepare"
   ]
  },
  {
   "cell_type": "markdown",
   "id": "18bf8164",
   "metadata": {},
   "source": [
    "## Summary Explanation\n",
    "\n",
    "This Notebook seeks to answer question 2: Is there a cohort that referred to a lesson significantly more than other cohorts seemed to gloss over?\n",
    "\n",
    "I looked at Programs 1, 2, 3 and seperately and did not look at Program 4 due to the small amount of data available. \n",
    "\n",
    "Programs 2 and 3 did not have any qualifying scenarios to report.\n",
    "\n",
    "There are 2 charts to show where Program 1 has something that seems to answer Question 2."
   ]
  },
  {
   "cell_type": "code",
   "execution_count": 2,
   "id": "7e00e3c1",
   "metadata": {},
   "outputs": [],
   "source": [
    "df = acquire.get_data()"
   ]
  },
  {
   "cell_type": "code",
   "execution_count": 172,
   "id": "e0a38065",
   "metadata": {},
   "outputs": [
    {
     "data": {
      "text/html": [
       "<div>\n",
       "<style scoped>\n",
       "    .dataframe tbody tr th:only-of-type {\n",
       "        vertical-align: middle;\n",
       "    }\n",
       "\n",
       "    .dataframe tbody tr th {\n",
       "        vertical-align: top;\n",
       "    }\n",
       "\n",
       "    .dataframe thead th {\n",
       "        text-align: right;\n",
       "    }\n",
       "</style>\n",
       "<table border=\"1\" class=\"dataframe\">\n",
       "  <thead>\n",
       "    <tr style=\"text-align: right;\">\n",
       "      <th></th>\n",
       "      <th>date</th>\n",
       "      <th>time</th>\n",
       "      <th>ip</th>\n",
       "      <th>path</th>\n",
       "      <th>user_id</th>\n",
       "      <th>cohort_id</th>\n",
       "      <th>cohort_name</th>\n",
       "      <th>slack</th>\n",
       "      <th>start_date</th>\n",
       "      <th>end_date</th>\n",
       "      <th>program_id</th>\n",
       "      <th>program</th>\n",
       "    </tr>\n",
       "    <tr>\n",
       "      <th>date</th>\n",
       "      <th></th>\n",
       "      <th></th>\n",
       "      <th></th>\n",
       "      <th></th>\n",
       "      <th></th>\n",
       "      <th></th>\n",
       "      <th></th>\n",
       "      <th></th>\n",
       "      <th></th>\n",
       "      <th></th>\n",
       "      <th></th>\n",
       "      <th></th>\n",
       "    </tr>\n",
       "  </thead>\n",
       "  <tbody>\n",
       "    <tr>\n",
       "      <th>2018-01-26</th>\n",
       "      <td>2018-01-26</td>\n",
       "      <td>09:55:03</td>\n",
       "      <td>97.105.19.61</td>\n",
       "      <td>/</td>\n",
       "      <td>1</td>\n",
       "      <td>8.0</td>\n",
       "      <td>Hampton</td>\n",
       "      <td>#hampton</td>\n",
       "      <td>2015-09-22</td>\n",
       "      <td>2016-02-06</td>\n",
       "      <td>1</td>\n",
       "      <td>Full Stack PHP</td>\n",
       "    </tr>\n",
       "    <tr>\n",
       "      <th>2018-01-26</th>\n",
       "      <td>2018-01-26</td>\n",
       "      <td>09:56:02</td>\n",
       "      <td>97.105.19.61</td>\n",
       "      <td>java-ii</td>\n",
       "      <td>1</td>\n",
       "      <td>8.0</td>\n",
       "      <td>Hampton</td>\n",
       "      <td>#hampton</td>\n",
       "      <td>2015-09-22</td>\n",
       "      <td>2016-02-06</td>\n",
       "      <td>1</td>\n",
       "      <td>Full Stack PHP</td>\n",
       "    </tr>\n",
       "    <tr>\n",
       "      <th>2018-01-26</th>\n",
       "      <td>2018-01-26</td>\n",
       "      <td>09:56:05</td>\n",
       "      <td>97.105.19.61</td>\n",
       "      <td>java-ii/object-oriented-programming</td>\n",
       "      <td>1</td>\n",
       "      <td>8.0</td>\n",
       "      <td>Hampton</td>\n",
       "      <td>#hampton</td>\n",
       "      <td>2015-09-22</td>\n",
       "      <td>2016-02-06</td>\n",
       "      <td>1</td>\n",
       "      <td>Full Stack PHP</td>\n",
       "    </tr>\n",
       "    <tr>\n",
       "      <th>2018-01-26</th>\n",
       "      <td>2018-01-26</td>\n",
       "      <td>09:56:06</td>\n",
       "      <td>97.105.19.61</td>\n",
       "      <td>slides/object_oriented_programming</td>\n",
       "      <td>1</td>\n",
       "      <td>8.0</td>\n",
       "      <td>Hampton</td>\n",
       "      <td>#hampton</td>\n",
       "      <td>2015-09-22</td>\n",
       "      <td>2016-02-06</td>\n",
       "      <td>1</td>\n",
       "      <td>Full Stack PHP</td>\n",
       "    </tr>\n",
       "    <tr>\n",
       "      <th>2018-01-26</th>\n",
       "      <td>2018-01-26</td>\n",
       "      <td>09:56:24</td>\n",
       "      <td>97.105.19.61</td>\n",
       "      <td>javascript-i/conditionals</td>\n",
       "      <td>2</td>\n",
       "      <td>22.0</td>\n",
       "      <td>Teddy</td>\n",
       "      <td>#teddy</td>\n",
       "      <td>2018-01-08</td>\n",
       "      <td>2018-05-17</td>\n",
       "      <td>2</td>\n",
       "      <td>Full Stack Java</td>\n",
       "    </tr>\n",
       "  </tbody>\n",
       "</table>\n",
       "</div>"
      ],
      "text/plain": [
       "                 date      time            ip  \\\n",
       "date                                            \n",
       "2018-01-26 2018-01-26  09:55:03  97.105.19.61   \n",
       "2018-01-26 2018-01-26  09:56:02  97.105.19.61   \n",
       "2018-01-26 2018-01-26  09:56:05  97.105.19.61   \n",
       "2018-01-26 2018-01-26  09:56:06  97.105.19.61   \n",
       "2018-01-26 2018-01-26  09:56:24  97.105.19.61   \n",
       "\n",
       "                                           path  user_id  cohort_id  \\\n",
       "date                                                                  \n",
       "2018-01-26                                    /        1        8.0   \n",
       "2018-01-26                              java-ii        1        8.0   \n",
       "2018-01-26  java-ii/object-oriented-programming        1        8.0   \n",
       "2018-01-26   slides/object_oriented_programming        1        8.0   \n",
       "2018-01-26            javascript-i/conditionals        2       22.0   \n",
       "\n",
       "           cohort_name     slack  start_date    end_date  program_id  \\\n",
       "date                                                                   \n",
       "2018-01-26     Hampton  #hampton  2015-09-22  2016-02-06           1   \n",
       "2018-01-26     Hampton  #hampton  2015-09-22  2016-02-06           1   \n",
       "2018-01-26     Hampton  #hampton  2015-09-22  2016-02-06           1   \n",
       "2018-01-26     Hampton  #hampton  2015-09-22  2016-02-06           1   \n",
       "2018-01-26       Teddy    #teddy  2018-01-08  2018-05-17           2   \n",
       "\n",
       "                    program  \n",
       "date                         \n",
       "2018-01-26   Full Stack PHP  \n",
       "2018-01-26   Full Stack PHP  \n",
       "2018-01-26   Full Stack PHP  \n",
       "2018-01-26   Full Stack PHP  \n",
       "2018-01-26  Full Stack Java  "
      ]
     },
     "execution_count": 172,
     "metadata": {},
     "output_type": "execute_result"
    }
   ],
   "source": [
    "df.head()"
   ]
  },
  {
   "cell_type": "code",
   "execution_count": 6,
   "id": "d0fdcdaf",
   "metadata": {},
   "outputs": [],
   "source": [
    "df = prepare.prep_data(df)"
   ]
  },
  {
   "cell_type": "code",
   "execution_count": 7,
   "id": "bc0cc243",
   "metadata": {},
   "outputs": [
    {
     "data": {
      "text/html": [
       "<div>\n",
       "<style scoped>\n",
       "    .dataframe tbody tr th:only-of-type {\n",
       "        vertical-align: middle;\n",
       "    }\n",
       "\n",
       "    .dataframe tbody tr th {\n",
       "        vertical-align: top;\n",
       "    }\n",
       "\n",
       "    .dataframe thead th {\n",
       "        text-align: right;\n",
       "    }\n",
       "</style>\n",
       "<table border=\"1\" class=\"dataframe\">\n",
       "  <thead>\n",
       "    <tr style=\"text-align: right;\">\n",
       "      <th></th>\n",
       "      <th>date</th>\n",
       "      <th>time</th>\n",
       "      <th>ip</th>\n",
       "      <th>path</th>\n",
       "      <th>user_id</th>\n",
       "      <th>cohort_id</th>\n",
       "      <th>cohort_name</th>\n",
       "      <th>slack</th>\n",
       "      <th>start_date</th>\n",
       "      <th>end_date</th>\n",
       "      <th>program_id</th>\n",
       "      <th>program</th>\n",
       "    </tr>\n",
       "    <tr>\n",
       "      <th>date</th>\n",
       "      <th></th>\n",
       "      <th></th>\n",
       "      <th></th>\n",
       "      <th></th>\n",
       "      <th></th>\n",
       "      <th></th>\n",
       "      <th></th>\n",
       "      <th></th>\n",
       "      <th></th>\n",
       "      <th></th>\n",
       "      <th></th>\n",
       "      <th></th>\n",
       "    </tr>\n",
       "  </thead>\n",
       "  <tbody>\n",
       "    <tr>\n",
       "      <th>2018-01-26</th>\n",
       "      <td>2018-01-26</td>\n",
       "      <td>09:55:03</td>\n",
       "      <td>97.105.19.61</td>\n",
       "      <td>/</td>\n",
       "      <td>1</td>\n",
       "      <td>8.0</td>\n",
       "      <td>Hampton</td>\n",
       "      <td>#hampton</td>\n",
       "      <td>2015-09-22</td>\n",
       "      <td>2016-02-06</td>\n",
       "      <td>1</td>\n",
       "      <td>Full Stack PHP</td>\n",
       "    </tr>\n",
       "    <tr>\n",
       "      <th>2018-01-26</th>\n",
       "      <td>2018-01-26</td>\n",
       "      <td>09:56:02</td>\n",
       "      <td>97.105.19.61</td>\n",
       "      <td>java-ii</td>\n",
       "      <td>1</td>\n",
       "      <td>8.0</td>\n",
       "      <td>Hampton</td>\n",
       "      <td>#hampton</td>\n",
       "      <td>2015-09-22</td>\n",
       "      <td>2016-02-06</td>\n",
       "      <td>1</td>\n",
       "      <td>Full Stack PHP</td>\n",
       "    </tr>\n",
       "    <tr>\n",
       "      <th>2018-01-26</th>\n",
       "      <td>2018-01-26</td>\n",
       "      <td>09:56:05</td>\n",
       "      <td>97.105.19.61</td>\n",
       "      <td>java-ii/object-oriented-programming</td>\n",
       "      <td>1</td>\n",
       "      <td>8.0</td>\n",
       "      <td>Hampton</td>\n",
       "      <td>#hampton</td>\n",
       "      <td>2015-09-22</td>\n",
       "      <td>2016-02-06</td>\n",
       "      <td>1</td>\n",
       "      <td>Full Stack PHP</td>\n",
       "    </tr>\n",
       "    <tr>\n",
       "      <th>2018-01-26</th>\n",
       "      <td>2018-01-26</td>\n",
       "      <td>09:56:06</td>\n",
       "      <td>97.105.19.61</td>\n",
       "      <td>slides/object_oriented_programming</td>\n",
       "      <td>1</td>\n",
       "      <td>8.0</td>\n",
       "      <td>Hampton</td>\n",
       "      <td>#hampton</td>\n",
       "      <td>2015-09-22</td>\n",
       "      <td>2016-02-06</td>\n",
       "      <td>1</td>\n",
       "      <td>Full Stack PHP</td>\n",
       "    </tr>\n",
       "    <tr>\n",
       "      <th>2018-01-26</th>\n",
       "      <td>2018-01-26</td>\n",
       "      <td>09:56:24</td>\n",
       "      <td>97.105.19.61</td>\n",
       "      <td>javascript-i/conditionals</td>\n",
       "      <td>2</td>\n",
       "      <td>22.0</td>\n",
       "      <td>Teddy</td>\n",
       "      <td>#teddy</td>\n",
       "      <td>2018-01-08</td>\n",
       "      <td>2018-05-17</td>\n",
       "      <td>2</td>\n",
       "      <td>Full Stack Java</td>\n",
       "    </tr>\n",
       "  </tbody>\n",
       "</table>\n",
       "</div>"
      ],
      "text/plain": [
       "                 date      time            ip  \\\n",
       "date                                            \n",
       "2018-01-26 2018-01-26  09:55:03  97.105.19.61   \n",
       "2018-01-26 2018-01-26  09:56:02  97.105.19.61   \n",
       "2018-01-26 2018-01-26  09:56:05  97.105.19.61   \n",
       "2018-01-26 2018-01-26  09:56:06  97.105.19.61   \n",
       "2018-01-26 2018-01-26  09:56:24  97.105.19.61   \n",
       "\n",
       "                                           path  user_id  cohort_id  \\\n",
       "date                                                                  \n",
       "2018-01-26                                    /        1        8.0   \n",
       "2018-01-26                              java-ii        1        8.0   \n",
       "2018-01-26  java-ii/object-oriented-programming        1        8.0   \n",
       "2018-01-26   slides/object_oriented_programming        1        8.0   \n",
       "2018-01-26            javascript-i/conditionals        2       22.0   \n",
       "\n",
       "           cohort_name     slack  start_date    end_date  program_id  \\\n",
       "date                                                                   \n",
       "2018-01-26     Hampton  #hampton  2015-09-22  2016-02-06           1   \n",
       "2018-01-26     Hampton  #hampton  2015-09-22  2016-02-06           1   \n",
       "2018-01-26     Hampton  #hampton  2015-09-22  2016-02-06           1   \n",
       "2018-01-26     Hampton  #hampton  2015-09-22  2016-02-06           1   \n",
       "2018-01-26       Teddy    #teddy  2018-01-08  2018-05-17           2   \n",
       "\n",
       "                    program  \n",
       "date                         \n",
       "2018-01-26   Full Stack PHP  \n",
       "2018-01-26   Full Stack PHP  \n",
       "2018-01-26   Full Stack PHP  \n",
       "2018-01-26   Full Stack PHP  \n",
       "2018-01-26  Full Stack Java  "
      ]
     },
     "execution_count": 7,
     "metadata": {},
     "output_type": "execute_result"
    }
   ],
   "source": [
    "df.head()"
   ]
  },
  {
   "cell_type": "code",
   "execution_count": 8,
   "id": "143fd190",
   "metadata": {},
   "outputs": [
    {
     "data": {
      "text/html": [
       "<div>\n",
       "<style scoped>\n",
       "    .dataframe tbody tr th:only-of-type {\n",
       "        vertical-align: middle;\n",
       "    }\n",
       "\n",
       "    .dataframe tbody tr th {\n",
       "        vertical-align: top;\n",
       "    }\n",
       "\n",
       "    .dataframe thead th {\n",
       "        text-align: right;\n",
       "    }\n",
       "</style>\n",
       "<table border=\"1\" class=\"dataframe\">\n",
       "  <thead>\n",
       "    <tr style=\"text-align: right;\">\n",
       "      <th></th>\n",
       "      <th>date</th>\n",
       "      <th>time</th>\n",
       "      <th>ip</th>\n",
       "      <th>path</th>\n",
       "      <th>user_id</th>\n",
       "      <th>cohort_id</th>\n",
       "      <th>cohort_name</th>\n",
       "      <th>slack</th>\n",
       "      <th>start_date</th>\n",
       "      <th>end_date</th>\n",
       "      <th>program_id</th>\n",
       "      <th>program</th>\n",
       "    </tr>\n",
       "    <tr>\n",
       "      <th>date</th>\n",
       "      <th></th>\n",
       "      <th></th>\n",
       "      <th></th>\n",
       "      <th></th>\n",
       "      <th></th>\n",
       "      <th></th>\n",
       "      <th></th>\n",
       "      <th></th>\n",
       "      <th></th>\n",
       "      <th></th>\n",
       "      <th></th>\n",
       "      <th></th>\n",
       "    </tr>\n",
       "  </thead>\n",
       "  <tbody>\n",
       "  </tbody>\n",
       "</table>\n",
       "</div>"
      ],
      "text/plain": [
       "Empty DataFrame\n",
       "Columns: [date, time, ip, path, user_id, cohort_id, cohort_name, slack, start_date, end_date, program_id, program]\n",
       "Index: []"
      ]
     },
     "execution_count": 8,
     "metadata": {},
     "output_type": "execute_result"
    }
   ],
   "source": [
    "df[df.program_id.isna()]"
   ]
  },
  {
   "cell_type": "code",
   "execution_count": 9,
   "id": "ce663e51",
   "metadata": {},
   "outputs": [
    {
     "data": {
      "text/plain": [
       "(847329, 12)"
      ]
     },
     "execution_count": 9,
     "metadata": {},
     "output_type": "execute_result"
    }
   ],
   "source": [
    "df.shape"
   ]
  },
  {
   "cell_type": "code",
   "execution_count": 11,
   "id": "f8d54ff2",
   "metadata": {},
   "outputs": [
    {
     "name": "stdout",
     "output_type": "stream",
     "text": [
      "<class 'pandas.core.frame.DataFrame'>\n",
      "DatetimeIndex: 847329 entries, 2018-01-26 to 2021-04-21\n",
      "Data columns (total 12 columns):\n",
      " #   Column       Non-Null Count   Dtype         \n",
      "---  ------       --------------   -----         \n",
      " 0   date         847329 non-null  datetime64[ns]\n",
      " 1   time         847329 non-null  object        \n",
      " 2   ip           847329 non-null  object        \n",
      " 3   path         847329 non-null  object        \n",
      " 4   user_id      847329 non-null  int64         \n",
      " 5   cohort_id    847329 non-null  float64       \n",
      " 6   cohort_name  847329 non-null  object        \n",
      " 7   slack        847329 non-null  object        \n",
      " 8   start_date   847329 non-null  object        \n",
      " 9   end_date     847329 non-null  object        \n",
      " 10  program_id   847329 non-null  int64         \n",
      " 11  program      847329 non-null  object        \n",
      "dtypes: datetime64[ns](1), float64(1), int64(2), object(8)\n",
      "memory usage: 84.0+ MB\n"
     ]
    }
   ],
   "source": [
    "df.info()"
   ]
  },
  {
   "cell_type": "code",
   "execution_count": 12,
   "id": "5605f4ab",
   "metadata": {},
   "outputs": [
    {
     "data": {
      "text/plain": [
       "2    713365\n",
       "3    103411\n",
       "1     30548\n",
       "4         5\n",
       "Name: program_id, dtype: int64"
      ]
     },
     "execution_count": 12,
     "metadata": {},
     "output_type": "execute_result"
    }
   ],
   "source": [
    "# How many programs are in this DF\n",
    "df.program_id.value_counts()"
   ]
  },
  {
   "cell_type": "markdown",
   "id": "80a215b2",
   "metadata": {},
   "source": [
    "There appears to be very little data for program 4. I will not evauate that program."
   ]
  },
  {
   "cell_type": "markdown",
   "id": "7408b32d",
   "metadata": {},
   "source": [
    "# Question 2. \n",
    "## Is there a cohort that referred to a lesson significantly more than other cohorts seemed to gloss over?"
   ]
  },
  {
   "cell_type": "markdown",
   "id": "419f700c",
   "metadata": {},
   "source": [
    "### Program 1(Full stack PHP)"
   ]
  },
  {
   "cell_type": "code",
   "execution_count": 13,
   "id": "3a216317",
   "metadata": {},
   "outputs": [],
   "source": [
    "# create a variable which contains data only for program 1\n",
    "program_1 = df[df['program_id'] == 1.0]"
   ]
  },
  {
   "cell_type": "code",
   "execution_count": 277,
   "id": "98784b62",
   "metadata": {},
   "outputs": [
    {
     "data": {
      "text/html": [
       "<div>\n",
       "<style scoped>\n",
       "    .dataframe tbody tr th:only-of-type {\n",
       "        vertical-align: middle;\n",
       "    }\n",
       "\n",
       "    .dataframe tbody tr th {\n",
       "        vertical-align: top;\n",
       "    }\n",
       "\n",
       "    .dataframe thead th {\n",
       "        text-align: right;\n",
       "    }\n",
       "</style>\n",
       "<table border=\"1\" class=\"dataframe\">\n",
       "  <thead>\n",
       "    <tr style=\"text-align: right;\">\n",
       "      <th></th>\n",
       "      <th>date</th>\n",
       "      <th>time</th>\n",
       "      <th>ip</th>\n",
       "      <th>path</th>\n",
       "      <th>user_id</th>\n",
       "      <th>cohort_id</th>\n",
       "      <th>cohort_name</th>\n",
       "      <th>slack</th>\n",
       "      <th>start_date</th>\n",
       "      <th>end_date</th>\n",
       "      <th>program_id</th>\n",
       "      <th>program</th>\n",
       "    </tr>\n",
       "    <tr>\n",
       "      <th>date</th>\n",
       "      <th></th>\n",
       "      <th></th>\n",
       "      <th></th>\n",
       "      <th></th>\n",
       "      <th></th>\n",
       "      <th></th>\n",
       "      <th></th>\n",
       "      <th></th>\n",
       "      <th></th>\n",
       "      <th></th>\n",
       "      <th></th>\n",
       "      <th></th>\n",
       "    </tr>\n",
       "  </thead>\n",
       "  <tbody>\n",
       "    <tr>\n",
       "      <th>2018-01-26</th>\n",
       "      <td>2018-01-26</td>\n",
       "      <td>09:55:03</td>\n",
       "      <td>97.105.19.61</td>\n",
       "      <td>/</td>\n",
       "      <td>1</td>\n",
       "      <td>8.0</td>\n",
       "      <td>Hampton</td>\n",
       "      <td>#hampton</td>\n",
       "      <td>2015-09-22</td>\n",
       "      <td>2016-02-06</td>\n",
       "      <td>1</td>\n",
       "      <td>Full Stack PHP</td>\n",
       "    </tr>\n",
       "    <tr>\n",
       "      <th>2018-01-26</th>\n",
       "      <td>2018-01-26</td>\n",
       "      <td>09:56:02</td>\n",
       "      <td>97.105.19.61</td>\n",
       "      <td>java-ii</td>\n",
       "      <td>1</td>\n",
       "      <td>8.0</td>\n",
       "      <td>Hampton</td>\n",
       "      <td>#hampton</td>\n",
       "      <td>2015-09-22</td>\n",
       "      <td>2016-02-06</td>\n",
       "      <td>1</td>\n",
       "      <td>Full Stack PHP</td>\n",
       "    </tr>\n",
       "    <tr>\n",
       "      <th>2018-01-26</th>\n",
       "      <td>2018-01-26</td>\n",
       "      <td>09:56:05</td>\n",
       "      <td>97.105.19.61</td>\n",
       "      <td>java-ii/object-oriented-programming</td>\n",
       "      <td>1</td>\n",
       "      <td>8.0</td>\n",
       "      <td>Hampton</td>\n",
       "      <td>#hampton</td>\n",
       "      <td>2015-09-22</td>\n",
       "      <td>2016-02-06</td>\n",
       "      <td>1</td>\n",
       "      <td>Full Stack PHP</td>\n",
       "    </tr>\n",
       "    <tr>\n",
       "      <th>2018-01-26</th>\n",
       "      <td>2018-01-26</td>\n",
       "      <td>09:56:06</td>\n",
       "      <td>97.105.19.61</td>\n",
       "      <td>slides/object_oriented_programming</td>\n",
       "      <td>1</td>\n",
       "      <td>8.0</td>\n",
       "      <td>Hampton</td>\n",
       "      <td>#hampton</td>\n",
       "      <td>2015-09-22</td>\n",
       "      <td>2016-02-06</td>\n",
       "      <td>1</td>\n",
       "      <td>Full Stack PHP</td>\n",
       "    </tr>\n",
       "    <tr>\n",
       "      <th>2018-01-26</th>\n",
       "      <td>2018-01-26</td>\n",
       "      <td>10:14:47</td>\n",
       "      <td>97.105.19.61</td>\n",
       "      <td>/</td>\n",
       "      <td>11</td>\n",
       "      <td>1.0</td>\n",
       "      <td>Arches</td>\n",
       "      <td>#arches</td>\n",
       "      <td>2014-02-04</td>\n",
       "      <td>2014-04-22</td>\n",
       "      <td>1</td>\n",
       "      <td>Full Stack PHP</td>\n",
       "    </tr>\n",
       "  </tbody>\n",
       "</table>\n",
       "</div>"
      ],
      "text/plain": [
       "                 date      time            ip  \\\n",
       "date                                            \n",
       "2018-01-26 2018-01-26  09:55:03  97.105.19.61   \n",
       "2018-01-26 2018-01-26  09:56:02  97.105.19.61   \n",
       "2018-01-26 2018-01-26  09:56:05  97.105.19.61   \n",
       "2018-01-26 2018-01-26  09:56:06  97.105.19.61   \n",
       "2018-01-26 2018-01-26  10:14:47  97.105.19.61   \n",
       "\n",
       "                                           path  user_id  cohort_id  \\\n",
       "date                                                                  \n",
       "2018-01-26                                    /        1        8.0   \n",
       "2018-01-26                              java-ii        1        8.0   \n",
       "2018-01-26  java-ii/object-oriented-programming        1        8.0   \n",
       "2018-01-26   slides/object_oriented_programming        1        8.0   \n",
       "2018-01-26                                    /       11        1.0   \n",
       "\n",
       "           cohort_name     slack  start_date    end_date  program_id  \\\n",
       "date                                                                   \n",
       "2018-01-26     Hampton  #hampton  2015-09-22  2016-02-06           1   \n",
       "2018-01-26     Hampton  #hampton  2015-09-22  2016-02-06           1   \n",
       "2018-01-26     Hampton  #hampton  2015-09-22  2016-02-06           1   \n",
       "2018-01-26     Hampton  #hampton  2015-09-22  2016-02-06           1   \n",
       "2018-01-26      Arches   #arches  2014-02-04  2014-04-22           1   \n",
       "\n",
       "                   program  \n",
       "date                        \n",
       "2018-01-26  Full Stack PHP  \n",
       "2018-01-26  Full Stack PHP  \n",
       "2018-01-26  Full Stack PHP  \n",
       "2018-01-26  Full Stack PHP  \n",
       "2018-01-26  Full Stack PHP  "
      ]
     },
     "execution_count": 277,
     "metadata": {},
     "output_type": "execute_result"
    }
   ],
   "source": [
    "program_1.head()"
   ]
  },
  {
   "cell_type": "code",
   "execution_count": 16,
   "id": "8e675b09",
   "metadata": {},
   "outputs": [
    {
     "data": {
      "text/plain": [
       "14.0    9587\n",
       "1.0     8890\n",
       "17.0    4954\n",
       "13.0    2845\n",
       "8.0     1712\n",
       "19.0    1237\n",
       "7.0      598\n",
       "12.0     302\n",
       "11.0     253\n",
       "2.0       93\n",
       "6.0       72\n",
       "4.0        4\n",
       "5.0        1\n",
       "Name: cohort_id, dtype: int64"
      ]
     },
     "execution_count": 16,
     "metadata": {},
     "output_type": "execute_result"
    }
   ],
   "source": [
    "# Which cohorts are in program 1?\n",
    "program_1.cohort_id.value_counts()"
   ]
  },
  {
   "cell_type": "code",
   "execution_count": 28,
   "id": "b42f43bd",
   "metadata": {},
   "outputs": [],
   "source": [
    "# This function takes in two lists and compares them. \n",
    "# If one of the items in the first list is in the second list, it will print it.\n",
    "# If there are no matches it will print 'no match'\n",
    "def match_finder(x, y):\n",
    "    for i in x:\n",
    "        if i in y:\n",
    "            print(i)\n",
    "    else:\n",
    "        print('no match')"
   ]
  },
  {
   "cell_type": "code",
   "execution_count": 49,
   "id": "2e671eee",
   "metadata": {},
   "outputs": [],
   "source": [
    "# Creates the most and least viewed paths for each cohort in program 1. \n",
    "\n",
    "# cohort 14\n",
    "cohort_14_most = list(program_1[program_1['cohort_id'] == 14.0].path.value_counts().index[0:10])\n",
    "cohort_14_least = list(program_1[program_1['cohort_id'] == 14.0].path.value_counts().loc[lambda x: x <=5].index)\n",
    "\n",
    "# cohort 1\n",
    "cohort_1_most = list(program_1[program_1['cohort_id'] == 1.0].path.value_counts().index[0:10])\n",
    "cohort_1_least = list(program_1[program_1['cohort_id'] == 1.0].path.value_counts().loc[lambda x: x <=5].index)\n",
    "\n",
    "# cohort 17\n",
    "cohort_17_most = list(program_1[program_1['cohort_id'] == 17.0].path.value_counts().index[0:10])\n",
    "cohort_17_least = list(program_1[program_1['cohort_id'] == 17.0].path.value_counts().loc[lambda x: x <=5].index)\n",
    "\n",
    "# cohort 13\n",
    "cohort_13_most = list(program_1[program_1['cohort_id'] == 13.0].path.value_counts().index[0:10])\n",
    "cohort_13_least = list(program_1[program_1['cohort_id'] == 13.0].path.value_counts().loc[lambda x: x <=5].index)\n",
    "\n",
    "# cohort 8\n",
    "cohort_8_most = list(program_1[program_1['cohort_id'] == 18.0].path.value_counts().index[0:10])\n",
    "cohort_8_least = list(program_1[program_1['cohort_id'] == 18.0].path.value_counts().loc[lambda x: x <=5].index)\n",
    "\n",
    "# cohort 19\n",
    "cohort_19_most = list(program_1[program_1['cohort_id'] == 19.0].path.value_counts().index[0:10])\n",
    "cohort_19_least = list(program_1[program_1['cohort_id'] == 19.0].path.value_counts().loc[lambda x: x <=5].index)\n",
    "\n",
    "# cohort 7\n",
    "cohort_7_most = list(program_1[program_1['cohort_id'] == 7.0].path.value_counts().index[0:10])\n",
    "cohort_7_least = list(program_1[program_1['cohort_id'] == 7.0].path.value_counts().loc[lambda x: x <=5].index)\n",
    "\n",
    "# cohort 12\n",
    "cohort_12_most = list(program_1[program_1['cohort_id'] == 12.0].path.value_counts().index[0:10])\n",
    "cohort_12_least = list(program_1[program_1['cohort_id'] == 12.0].path.value_counts().loc[lambda x: x <=5].index)\n",
    "\n",
    "# cohort 11\n",
    "cohort_11_most = list(program_1[program_1['cohort_id'] == 11.0].path.value_counts().index[0:10])\n",
    "cohort_11_least = list(program_1[program_1['cohort_id'] == 11.0].path.value_counts().loc[lambda x: x <=5].index)"
   ]
  },
  {
   "cell_type": "markdown",
   "id": "c1baf75a",
   "metadata": {},
   "source": [
    "COHORT 14 comparison"
   ]
  },
  {
   "cell_type": "code",
   "execution_count": 54,
   "id": "1e5eca81",
   "metadata": {},
   "outputs": [
    {
     "name": "stdout",
     "output_type": "stream",
     "text": [
      "index.html\n",
      "no match\n"
     ]
    }
   ],
   "source": [
    "match_finder(cohort_14_most, cohort_1_least)"
   ]
  },
  {
   "cell_type": "code",
   "execution_count": 51,
   "id": "36d2c89c",
   "metadata": {},
   "outputs": [
    {
     "name": "stdout",
     "output_type": "stream",
     "text": [
      "spring/fundamentals/repositories\n",
      "no match\n"
     ]
    }
   ],
   "source": [
    "match_finder(cohort_14_most, cohort_17_least)"
   ]
  },
  {
   "cell_type": "code",
   "execution_count": 52,
   "id": "6208b77d",
   "metadata": {},
   "outputs": [
    {
     "name": "stdout",
     "output_type": "stream",
     "text": [
      "spring\n",
      "appendix\n",
      "no match\n"
     ]
    }
   ],
   "source": [
    "match_finder(cohort_14_most, cohort_13_least)"
   ]
  },
  {
   "cell_type": "code",
   "execution_count": 55,
   "id": "151f870d",
   "metadata": {},
   "outputs": [
    {
     "name": "stdout",
     "output_type": "stream",
     "text": [
      "spring\n",
      "appendix\n",
      "no match\n"
     ]
    }
   ],
   "source": [
    "match_finder(cohort_14_most, cohort_13_least)"
   ]
  },
  {
   "cell_type": "code",
   "execution_count": 56,
   "id": "bd05fbc5",
   "metadata": {},
   "outputs": [
    {
     "name": "stdout",
     "output_type": "stream",
     "text": [
      "no match\n"
     ]
    }
   ],
   "source": [
    "match_finder(cohort_14_most, cohort_8_least)"
   ]
  },
  {
   "cell_type": "code",
   "execution_count": 57,
   "id": "71b0b79f",
   "metadata": {},
   "outputs": [
    {
     "name": "stdout",
     "output_type": "stream",
     "text": [
      "java-iii\n",
      "no match\n"
     ]
    }
   ],
   "source": [
    "match_finder(cohort_14_most, cohort_19_least)"
   ]
  },
  {
   "cell_type": "code",
   "execution_count": 58,
   "id": "78765c88",
   "metadata": {},
   "outputs": [
    {
     "name": "stdout",
     "output_type": "stream",
     "text": [
      "spring\n",
      "appendix\n",
      "no match\n"
     ]
    }
   ],
   "source": [
    "match_finder(cohort_14_most, cohort_7_least)"
   ]
  },
  {
   "cell_type": "code",
   "execution_count": 59,
   "id": "06000f4a",
   "metadata": {},
   "outputs": [
    {
     "name": "stdout",
     "output_type": "stream",
     "text": [
      "javascript-i\n",
      "java-iii\n",
      "html-css\n",
      "java-ii\n",
      "java-i\n",
      "no match\n"
     ]
    }
   ],
   "source": [
    "match_finder(cohort_14_most, cohort_12_least)"
   ]
  },
  {
   "cell_type": "code",
   "execution_count": 60,
   "id": "3592ccc1",
   "metadata": {},
   "outputs": [
    {
     "name": "stdout",
     "output_type": "stream",
     "text": [
      "java-iii\n",
      "spring\n",
      "appendix\n",
      "java-ii\n",
      "java-i\n",
      "no match\n"
     ]
    }
   ],
   "source": [
    "match_finder(cohort_14_most, cohort_11_least)"
   ]
  },
  {
   "cell_type": "code",
   "execution_count": 48,
   "id": "6b2d933e",
   "metadata": {},
   "outputs": [
    {
     "data": {
      "text/plain": [
       "index.html                          877\n",
       "javascript-i                        233\n",
       "java-iii                            224\n",
       "spring                              222\n",
       "html-css                            174\n",
       "appendix                            170\n",
       "java-ii                             160\n",
       "java-i                              138\n",
       "/                                   125\n",
       "spring/fundamentals/repositories    115\n",
       "Name: path, dtype: int64"
      ]
     },
     "execution_count": 48,
     "metadata": {},
     "output_type": "execute_result"
    }
   ],
   "source": [
    "program_1[program_1['cohort_id'] == 14.0].path.value_counts().head(10)"
   ]
  },
  {
   "cell_type": "markdown",
   "id": "22648f04",
   "metadata": {},
   "source": [
    "No specific lesson found."
   ]
  },
  {
   "cell_type": "markdown",
   "id": "e0e1c0b5",
   "metadata": {},
   "source": [
    "COHORT 1 comparison"
   ]
  },
  {
   "cell_type": "code",
   "execution_count": 64,
   "id": "a9641e63",
   "metadata": {},
   "outputs": [
    {
     "name": "stdout",
     "output_type": "stream",
     "text": [
      "no match\n"
     ]
    }
   ],
   "source": [
    "match_finder(cohort_1_most, cohort_14_least)"
   ]
  },
  {
   "cell_type": "code",
   "execution_count": 65,
   "id": "12d7314c",
   "metadata": {},
   "outputs": [
    {
     "name": "stdout",
     "output_type": "stream",
     "text": [
      "no match\n"
     ]
    }
   ],
   "source": [
    "match_finder(cohort_1_most, cohort_17_least)"
   ]
  },
  {
   "cell_type": "code",
   "execution_count": 66,
   "id": "352aa924",
   "metadata": {},
   "outputs": [
    {
     "name": "stdout",
     "output_type": "stream",
     "text": [
      "spring\n",
      "appendix\n",
      "jquery\n",
      "no match\n"
     ]
    }
   ],
   "source": [
    "match_finder(cohort_1_most, cohort_13_least)"
   ]
  },
  {
   "cell_type": "code",
   "execution_count": 67,
   "id": "811699db",
   "metadata": {},
   "outputs": [
    {
     "name": "stdout",
     "output_type": "stream",
     "text": [
      "no match\n"
     ]
    }
   ],
   "source": [
    "match_finder(cohort_1_most, cohort_8_least)"
   ]
  },
  {
   "cell_type": "code",
   "execution_count": 68,
   "id": "29332b67",
   "metadata": {},
   "outputs": [
    {
     "name": "stdout",
     "output_type": "stream",
     "text": [
      "java-iii\n",
      "jquery\n",
      "no match\n"
     ]
    }
   ],
   "source": [
    "match_finder(cohort_1_most, cohort_19_least)"
   ]
  },
  {
   "cell_type": "code",
   "execution_count": 69,
   "id": "658047d7",
   "metadata": {},
   "outputs": [
    {
     "name": "stdout",
     "output_type": "stream",
     "text": [
      "spring\n",
      "appendix\n",
      "jquery\n",
      "no match\n"
     ]
    }
   ],
   "source": [
    "match_finder(cohort_1_most, cohort_7_least)"
   ]
  },
  {
   "cell_type": "code",
   "execution_count": 70,
   "id": "09a98b9d",
   "metadata": {},
   "outputs": [
    {
     "name": "stdout",
     "output_type": "stream",
     "text": [
      "javascript-i\n",
      "html-css\n",
      "java-ii\n",
      "java-iii\n",
      "java-i\n",
      "no match\n"
     ]
    }
   ],
   "source": [
    "match_finder(cohort_1_most, cohort_12_least)"
   ]
  },
  {
   "cell_type": "code",
   "execution_count": 71,
   "id": "f1c2e4db",
   "metadata": {},
   "outputs": [
    {
     "name": "stdout",
     "output_type": "stream",
     "text": [
      "javascript-ii\n",
      "spring\n",
      "java-ii\n",
      "java-iii\n",
      "appendix\n",
      "jquery\n",
      "java-i\n",
      "no match\n"
     ]
    }
   ],
   "source": [
    "match_finder(cohort_1_most, cohort_11_least)"
   ]
  },
  {
   "cell_type": "markdown",
   "id": "858bf457",
   "metadata": {},
   "source": [
    "cohort 1 looked at jquery much more than cohorts 13, 19, 7, and 11"
   ]
  },
  {
   "cell_type": "code",
   "execution_count": 72,
   "id": "4d1a9fec",
   "metadata": {},
   "outputs": [
    {
     "data": {
      "text/plain": [
       "/                626\n",
       "javascript-i     294\n",
       "html-css         215\n",
       "javascript-ii    204\n",
       "spring           192\n",
       "java-ii          167\n",
       "java-iii         153\n",
       "appendix         133\n",
       "jquery           133\n",
       "java-i           132\n",
       "Name: path, dtype: int64"
      ]
     },
     "execution_count": 72,
     "metadata": {},
     "output_type": "execute_result"
    }
   ],
   "source": [
    "program_1[program_1['cohort_id'] == 1.0].path.value_counts().head(10)"
   ]
  },
  {
   "cell_type": "code",
   "execution_count": 84,
   "id": "6197518c",
   "metadata": {},
   "outputs": [
    {
     "data": {
      "text/plain": [
       "1"
      ]
     },
     "execution_count": 84,
     "metadata": {},
     "output_type": "execute_result"
    }
   ],
   "source": [
    "program_1[program_1['cohort_id'] == 19.0].path.value_counts().jquery"
   ]
  },
  {
   "cell_type": "code",
   "execution_count": 122,
   "id": "9ef70a5d",
   "metadata": {},
   "outputs": [
    {
     "data": {
      "image/png": "[encoded data removed]",
      "text/plain": [
       "<Figure size 720x360 with 1 Axes>"
      ]
     },
     "metadata": {
      "needs_background": "light"
     },
     "output_type": "display_data"
    }
   ],
   "source": [
    "# bar chart comparing jquery \n",
    "x = ['1', '11', '7', '13', '19']\n",
    "y = [133, 4, 3, 2, 1]\n",
    "\n",
    "fig = plt.figure(figsize = (10, 5))\n",
    "plt.bar(x, y, color ='maroon', width = 0.4)\n",
    " \n",
    "plt.xlabel(\"Cohorts\")\n",
    "plt.ylabel(\"No. of views\")\n",
    "plt.title(\"Cohort 17 Jquery View Comparison\")\n",
    "plt.show()"
   ]
  },
  {
   "cell_type": "markdown",
   "id": "c95e08d1",
   "metadata": {},
   "source": [
    "COHORT 17 comparison"
   ]
  },
  {
   "cell_type": "code",
   "execution_count": 87,
   "id": "d8a88e27",
   "metadata": {},
   "outputs": [
    {
     "name": "stdout",
     "output_type": "stream",
     "text": [
      "no match\n"
     ]
    }
   ],
   "source": [
    "match_finder(cohort_17_most, cohort_14_least)"
   ]
  },
  {
   "cell_type": "code",
   "execution_count": 88,
   "id": "2883ce9b",
   "metadata": {},
   "outputs": [
    {
     "name": "stdout",
     "output_type": "stream",
     "text": [
      "no match\n"
     ]
    }
   ],
   "source": [
    "match_finder(cohort_17_most, cohort_1_least)"
   ]
  },
  {
   "cell_type": "code",
   "execution_count": 89,
   "id": "034cb715",
   "metadata": {},
   "outputs": [
    {
     "name": "stdout",
     "output_type": "stream",
     "text": [
      "jquery\n",
      "java-i/methods\n",
      "javascript-i/introduction/working-with-data-types-operators-and-variables\n",
      "javascript-i/javascript-with-html\n",
      "no match\n"
     ]
    }
   ],
   "source": [
    "match_finder(cohort_17_most, cohort_13_least)"
   ]
  },
  {
   "cell_type": "code",
   "execution_count": 90,
   "id": "b38d5bbb",
   "metadata": {},
   "outputs": [
    {
     "name": "stdout",
     "output_type": "stream",
     "text": [
      "no match\n"
     ]
    }
   ],
   "source": [
    "match_finder(cohort_17_most, cohort_8_least)"
   ]
  },
  {
   "cell_type": "code",
   "execution_count": 92,
   "id": "c5a2b805",
   "metadata": {},
   "outputs": [
    {
     "name": "stdout",
     "output_type": "stream",
     "text": [
      "jquery\n",
      "java-i/methods\n",
      "javascript-i/introduction/working-with-data-types-operators-and-variables\n",
      "javascript-i/javascript-with-html\n",
      "no match\n"
     ]
    }
   ],
   "source": [
    "match_finder(cohort_17_most, cohort_19_least)"
   ]
  },
  {
   "cell_type": "code",
   "execution_count": 93,
   "id": "35f15ba8",
   "metadata": {},
   "outputs": [
    {
     "name": "stdout",
     "output_type": "stream",
     "text": [
      "jquery\n",
      "javascript-i/bom-and-dom/bom\n",
      "no match\n"
     ]
    }
   ],
   "source": [
    "match_finder(cohort_17_most, cohort_7_least)"
   ]
  },
  {
   "cell_type": "code",
   "execution_count": 94,
   "id": "958e2556",
   "metadata": {},
   "outputs": [
    {
     "name": "stdout",
     "output_type": "stream",
     "text": [
      "javascript-i\n",
      "java-i\n",
      "java-i/methods\n",
      "html-css\n",
      "java-i/console-io\n",
      "no match\n"
     ]
    }
   ],
   "source": [
    "match_finder(cohort_17_most, cohort_12_least)"
   ]
  },
  {
   "cell_type": "code",
   "execution_count": 95,
   "id": "22b8f362",
   "metadata": {},
   "outputs": [
    {
     "name": "stdout",
     "output_type": "stream",
     "text": [
      "java-i\n",
      "jquery\n",
      "javascript-i/introduction/working-with-data-types-operators-and-variables\n",
      "javascript-i/javascript-with-html\n",
      "javascript-i/bom-and-dom/bom\n",
      "no match\n"
     ]
    }
   ],
   "source": [
    "match_finder(cohort_17_most, cohort_11_least)"
   ]
  },
  {
   "cell_type": "markdown",
   "id": "b789e902",
   "metadata": {},
   "source": [
    "cohort 1 looked at jquery and java-1/methods much more than cohorts 13, 19, 7, and 12."
   ]
  },
  {
   "cell_type": "code",
   "execution_count": 99,
   "id": "faaf0ea0",
   "metadata": {},
   "outputs": [
    {
     "data": {
      "text/plain": [
       "/                                                                            249\n",
       "javascript-i                                                                 128\n",
       "java-i                                                                        76\n",
       "jquery                                                                        71\n",
       "java-i/methods                                                                69\n",
       "html-css                                                                      69\n",
       "javascript-i/introduction/working-with-data-types-operators-and-variables     65\n",
       "javascript-i/javascript-with-html                                             63\n",
       "javascript-i/bom-and-dom/bom                                                  60\n",
       "java-i/console-io                                                             60\n",
       "Name: path, dtype: int64"
      ]
     },
     "execution_count": 99,
     "metadata": {},
     "output_type": "execute_result"
    }
   ],
   "source": [
    "program_1[program_1['cohort_id'] == 17.0].path.value_counts().head(10)"
   ]
  },
  {
   "cell_type": "code",
   "execution_count": 114,
   "id": "0885ded3",
   "metadata": {},
   "outputs": [
    {
     "data": {
      "text/plain": [
       "array([False, False, False, False, False, False, False, False, False,\n",
       "       False, False, False, False, False, False, False, False, False,\n",
       "       False, False, False, False, False, False, False, False, False,\n",
       "       False, False, False, False, False, False, False, False, False,\n",
       "       False, False, False, False, False, False, False, False, False,\n",
       "       False, False, False, False, False, False, False, False, False,\n",
       "       False, False, False, False, False, False, False, False, False,\n",
       "       False, False, False, False, False, False, False, False, False,\n",
       "       False, False, False, False, False, False, False, False, False,\n",
       "       False, False, False, False, False, False, False, False, False,\n",
       "       False, False, False, False, False, False, False, False, False,\n",
       "       False, False, False, False, False, False, False, False, False,\n",
       "       False, False, False, False, False, False, False, False, False,\n",
       "       False, False, False, False, False, False, False, False, False,\n",
       "       False, False, False, False, False, False, False, False, False,\n",
       "       False, False, False, False, False, False, False, False, False,\n",
       "       False, False, False, False, False, False, False, False, False,\n",
       "       False, False, False, False, False, False, False, False, False,\n",
       "       False, False, False, False, False, False, False, False, False,\n",
       "       False, False, False, False, False, False, False, False, False,\n",
       "       False, False, False, False, False, False, False, False, False,\n",
       "       False, False, False, False, False, False, False, False, False,\n",
       "       False, False, False, False, False,  True, False, False, False,\n",
       "       False, False, False, False, False, False, False, False, False,\n",
       "       False, False, False, False, False, False, False, False, False,\n",
       "       False, False, False, False, False, False, False, False, False,\n",
       "       False, False, False, False, False, False, False, False, False,\n",
       "       False, False, False, False, False, False, False, False, False,\n",
       "       False, False, False, False, False, False, False, False, False,\n",
       "       False, False, False, False, False, False, False, False, False,\n",
       "       False, False, False, False, False, False, False, False, False,\n",
       "       False, False, False, False, False, False, False, False, False,\n",
       "       False, False, False, False, False, False, False, False, False,\n",
       "       False, False, False, False, False, False, False, False, False,\n",
       "       False, False, False, False, False, False, False, False, False,\n",
       "       False, False, False, False, False, False, False, False, False,\n",
       "       False, False, False, False, False, False, False, False, False,\n",
       "       False, False, False, False, False, False, False, False, False,\n",
       "       False, False, False, False, False, False])"
      ]
     },
     "execution_count": 114,
     "metadata": {},
     "output_type": "execute_result"
    }
   ],
   "source": [
    "(program_1[program_1['cohort_id'] == 13.0].path.value_counts().index == 'java-i/methods')"
   ]
  },
  {
   "cell_type": "code",
   "execution_count": 120,
   "id": "006185b1",
   "metadata": {},
   "outputs": [
    {
     "data": {
      "text/plain": [
       "3"
      ]
     },
     "execution_count": 120,
     "metadata": {},
     "output_type": "execute_result"
    }
   ],
   "source": [
    "program_1[program_1['cohort_id'] == 7.0].path.value_counts().jquery"
   ]
  },
  {
   "cell_type": "code",
   "execution_count": 121,
   "id": "6dff0989",
   "metadata": {},
   "outputs": [
    {
     "data": {
      "text/plain": [
       "java-i/methods    1\n",
       "Name: path, dtype: int64"
      ]
     },
     "execution_count": 121,
     "metadata": {},
     "output_type": "execute_result"
    }
   ],
   "source": [
    "program_1[program_1['cohort_id'] == 12.0].path.value_counts()[(program_1[program_1['cohort_id'] == 12.0].path.value_counts().index == 'java-i/methods')]"
   ]
  },
  {
   "cell_type": "code",
   "execution_count": 130,
   "id": "95e5d51f",
   "metadata": {},
   "outputs": [
    {
     "data": {
      "image/png": "[encoded data removed]",
      "text/plain": [
       "<Figure size 1080x576 with 1 Axes>"
      ]
     },
     "metadata": {
      "needs_background": "light"
     },
     "output_type": "display_data"
    }
   ],
   "source": [
    "# bar chart comparing cohort 17 and others \n",
    "x = ['17-jquery', '17-methods', '13-jquery', '13-methods', '19-jquery', '19-methods', '7-jquery', '12-methods']\n",
    "y = [71, 69, 2, 3, 1, 3, 3, 1]\n",
    "\n",
    "fig = plt.figure(figsize = (15, 8))\n",
    "plt.bar(x, y, color ='maroon', width = 0.4)\n",
    " \n",
    "plt.xlabel(\"Cohorts\")\n",
    "plt.ylabel(\"No. of views\")\n",
    "plt.title(\"Cohort 17 Jquery & Java-i/methods View Comparison\")\n",
    "plt.show()"
   ]
  },
  {
   "cell_type": "markdown",
   "id": "04beb6e0",
   "metadata": {},
   "source": [
    "COHORT 13 comparison"
   ]
  },
  {
   "cell_type": "code",
   "execution_count": 131,
   "id": "59878497",
   "metadata": {},
   "outputs": [
    {
     "name": "stdout",
     "output_type": "stream",
     "text": [
      "content/php_iii\n",
      "content/laravel/quickstart/db-migrations.html\n",
      "no match\n"
     ]
    }
   ],
   "source": [
    "match_finder(cohort_13_most, cohort_14_least)"
   ]
  },
  {
   "cell_type": "code",
   "execution_count": 132,
   "id": "6d3542f5",
   "metadata": {},
   "outputs": [
    {
     "name": "stdout",
     "output_type": "stream",
     "text": [
      "index.html\n",
      "content/php_iv\n",
      "content/php_ii\n",
      "no match\n"
     ]
    }
   ],
   "source": [
    "match_finder(cohort_13_most, cohort_1_least)"
   ]
  },
  {
   "cell_type": "code",
   "execution_count": 133,
   "id": "d36f6ca0",
   "metadata": {},
   "outputs": [
    {
     "name": "stdout",
     "output_type": "stream",
     "text": [
      "content/laravel/quickstart/db-migrations.html\n",
      "no match\n"
     ]
    }
   ],
   "source": [
    "match_finder(cohort_13_most, cohort_17_least)"
   ]
  },
  {
   "cell_type": "code",
   "execution_count": 134,
   "id": "9ebfe996",
   "metadata": {},
   "outputs": [
    {
     "name": "stdout",
     "output_type": "stream",
     "text": [
      "no match\n"
     ]
    }
   ],
   "source": [
    "match_finder(cohort_13_most, cohort_8_least)"
   ]
  },
  {
   "cell_type": "code",
   "execution_count": 135,
   "id": "89087748",
   "metadata": {},
   "outputs": [
    {
     "name": "stdout",
     "output_type": "stream",
     "text": [
      "no match\n"
     ]
    }
   ],
   "source": [
    "match_finder(cohort_13_most, cohort_19_least)"
   ]
  },
  {
   "cell_type": "code",
   "execution_count": 136,
   "id": "893cc643",
   "metadata": {},
   "outputs": [
    {
     "name": "stdout",
     "output_type": "stream",
     "text": [
      "content/laravel/intro\n",
      "content/laravel/intro/application-structure.html\n",
      "content/laravel/intro/gitbook/images/favicon.ico\n",
      "content/php_iii\n",
      "content/php_iv\n",
      "content/php_ii\n",
      "no match\n"
     ]
    }
   ],
   "source": [
    "match_finder(cohort_13_most, cohort_7_least)"
   ]
  },
  {
   "cell_type": "code",
   "execution_count": 137,
   "id": "4513def6",
   "metadata": {},
   "outputs": [
    {
     "name": "stdout",
     "output_type": "stream",
     "text": [
      "content/laravel/intro\n",
      "content/laravel/intro/application-structure.html\n",
      "content/php_iii\n",
      "content/php_ii\n",
      "no match\n"
     ]
    }
   ],
   "source": [
    "match_finder(cohort_13_most, cohort_12_least)"
   ]
  },
  {
   "cell_type": "code",
   "execution_count": 138,
   "id": "a8a2c306",
   "metadata": {},
   "outputs": [
    {
     "name": "stdout",
     "output_type": "stream",
     "text": [
      "content/laravel/intro\n",
      "content/laravel/intro/application-structure.html\n",
      "content/laravel/intro/gitbook/images/favicon.ico\n",
      "content/php_iii\n",
      "content/php_iv\n",
      "content/php_ii\n",
      "no match\n"
     ]
    }
   ],
   "source": [
    "match_finder(cohort_13_most, cohort_11_least)"
   ]
  },
  {
   "cell_type": "code",
   "execution_count": 177,
   "id": "a44e8aa5",
   "metadata": {},
   "outputs": [
    {
     "data": {
      "text/plain": [
       "/                                                   219\n",
       "index.html                                           84\n",
       "content/laravel/intro                                83\n",
       "content/laravel/intro/application-structure.html     63\n",
       "content/laravel/intro/gitbook/images/favicon.ico     56\n",
       "content/php_iii                                      47\n",
       "content/html-css                                     45\n",
       "content/php_iv                                       42\n",
       "content/php_ii                                       40\n",
       "content/laravel/quickstart/db-migrations.html        40\n",
       "Name: path, dtype: int64"
      ]
     },
     "execution_count": 177,
     "metadata": {},
     "output_type": "execute_result"
    }
   ],
   "source": [
    "program_1[program_1['cohort_id'] == 13.0].path.value_counts().head(10)"
   ]
  },
  {
   "cell_type": "markdown",
   "id": "964773e0",
   "metadata": {},
   "source": [
    "COHORT 8 comparison"
   ]
  },
  {
   "cell_type": "code",
   "execution_count": 139,
   "id": "d501f885",
   "metadata": {},
   "outputs": [
    {
     "name": "stdout",
     "output_type": "stream",
     "text": [
      "no match\n"
     ]
    }
   ],
   "source": [
    "match_finder(cohort_8_most, cohort_14_least)"
   ]
  },
  {
   "cell_type": "code",
   "execution_count": 140,
   "id": "8fbda26a",
   "metadata": {},
   "outputs": [
    {
     "name": "stdout",
     "output_type": "stream",
     "text": [
      "no match\n"
     ]
    }
   ],
   "source": [
    "match_finder(cohort_8_most, cohort_1_least)"
   ]
  },
  {
   "cell_type": "code",
   "execution_count": 141,
   "id": "b46352c0",
   "metadata": {},
   "outputs": [
    {
     "name": "stdout",
     "output_type": "stream",
     "text": [
      "no match\n"
     ]
    }
   ],
   "source": [
    "match_finder(cohort_8_most, cohort_17_least)"
   ]
  },
  {
   "cell_type": "code",
   "execution_count": 142,
   "id": "ab13a495",
   "metadata": {},
   "outputs": [
    {
     "name": "stdout",
     "output_type": "stream",
     "text": [
      "no match\n"
     ]
    }
   ],
   "source": [
    "match_finder(cohort_8_most, cohort_13_least)"
   ]
  },
  {
   "cell_type": "code",
   "execution_count": 143,
   "id": "bf1ca7c8",
   "metadata": {},
   "outputs": [
    {
     "name": "stdout",
     "output_type": "stream",
     "text": [
      "no match\n"
     ]
    }
   ],
   "source": [
    "match_finder(cohort_8_most, cohort_19_least)"
   ]
  },
  {
   "cell_type": "code",
   "execution_count": 145,
   "id": "701045d6",
   "metadata": {},
   "outputs": [
    {
     "name": "stdout",
     "output_type": "stream",
     "text": [
      "no match\n"
     ]
    }
   ],
   "source": [
    "match_finder(cohort_8_most, cohort_7_least)"
   ]
  },
  {
   "cell_type": "code",
   "execution_count": 146,
   "id": "3cbc9752",
   "metadata": {},
   "outputs": [
    {
     "name": "stdout",
     "output_type": "stream",
     "text": [
      "no match\n"
     ]
    }
   ],
   "source": [
    "match_finder(cohort_8_most, cohort_12_least)"
   ]
  },
  {
   "cell_type": "code",
   "execution_count": 147,
   "id": "40265102",
   "metadata": {},
   "outputs": [
    {
     "name": "stdout",
     "output_type": "stream",
     "text": [
      "no match\n"
     ]
    }
   ],
   "source": [
    "match_finder(cohort_8_most, cohort_11_least)"
   ]
  },
  {
   "cell_type": "markdown",
   "id": "b5467230",
   "metadata": {},
   "source": [
    "Match finder did not find any qualifying paths."
   ]
  },
  {
   "cell_type": "markdown",
   "id": "d8efa66d",
   "metadata": {},
   "source": [
    "COHORT 19 comparison"
   ]
  },
  {
   "cell_type": "code",
   "execution_count": 158,
   "id": "d578f64e",
   "metadata": {},
   "outputs": [
    {
     "data": {
      "text/plain": [
       "/                                                   151\n",
       "content/laravel/intro                                38\n",
       "content/html-css                                     33\n",
       "content/laravel/intro/environment.html               31\n",
       "content/laravel/intro/application-structure.html     20\n",
       "content/php_iii                                      19\n",
       "content/mysql/intro-to-mysql                         19\n",
       "javascript-i/conditionals                            16\n",
       "content/php_iii/php-with-html                        15\n",
       "java-i                                               14\n",
       "Name: path, dtype: int64"
      ]
     },
     "execution_count": 158,
     "metadata": {},
     "output_type": "execute_result"
    }
   ],
   "source": [
    "program_1[program_1['cohort_id'] == 19.0].path.value_counts().head(10)"
   ]
  },
  {
   "cell_type": "markdown",
   "id": "2316270a",
   "metadata": {},
   "source": [
    "None of these were looked at a significant number of times, therefore I will not include any to display for this cohort."
   ]
  },
  {
   "cell_type": "markdown",
   "id": "da20eb06",
   "metadata": {},
   "source": [
    "COHORT 7 comparison"
   ]
  },
  {
   "cell_type": "code",
   "execution_count": 169,
   "id": "04a6b0c5",
   "metadata": {},
   "outputs": [
    {
     "data": {
      "text/plain": [
       "/                                                                            51\n",
       "content/html-css                                                             29\n",
       "javascript-i/introduction/working-with-data-types-operators-and-variables    24\n",
       "html-css                                                                     21\n",
       "javascript-i/functions                                                       20\n",
       "content/html-css/introduction.html                                           20\n",
       "javascript-i/introduction/variables                                          19\n",
       "javascript-i/introduction/operators                                          18\n",
       "javascript-i/conditionals                                                    16\n",
       "javascript-i/javascript-with-html                                            14\n",
       "Name: path, dtype: int64"
      ]
     },
     "execution_count": 169,
     "metadata": {},
     "output_type": "execute_result"
    }
   ],
   "source": [
    "program_1[program_1['cohort_id'] == 7.0].path.value_counts().head(10)"
   ]
  },
  {
   "cell_type": "markdown",
   "id": "77a2f5a8",
   "metadata": {},
   "source": [
    "None of these were looked at a significant number of times, therefore I will not include any to display for this cohort."
   ]
  },
  {
   "cell_type": "markdown",
   "id": "c97c2c0b",
   "metadata": {},
   "source": [
    "COHORT 12 comparison"
   ]
  },
  {
   "cell_type": "code",
   "execution_count": 170,
   "id": "b5f9e716",
   "metadata": {},
   "outputs": [
    {
     "data": {
      "text/plain": [
       "content/html-css                           19\n",
       "content/html-css/introduction.html         14\n",
       "content/javascript                         12\n",
       "content/mysql/intro-to-mysql               10\n",
       "content/html-css/elements.html              9\n",
       "/                                           8\n",
       "index.html                                  8\n",
       "content/html-css/forms.html                 7\n",
       "content/php_iv                              7\n",
       "content/javascript/primitive-types.html     7\n",
       "Name: path, dtype: int64"
      ]
     },
     "execution_count": 170,
     "metadata": {},
     "output_type": "execute_result"
    }
   ],
   "source": [
    "program_1[program_1['cohort_id'] == 12.0].path.value_counts().head(10)"
   ]
  },
  {
   "cell_type": "markdown",
   "id": "89626e53",
   "metadata": {},
   "source": [
    "None of these were looked at a significant number of times, therefore I will not include any to display for this cohort."
   ]
  },
  {
   "cell_type": "markdown",
   "id": "515514d4",
   "metadata": {},
   "source": [
    "COHORT 11 comparison"
   ]
  },
  {
   "cell_type": "code",
   "execution_count": 171,
   "id": "d9a6c89a",
   "metadata": {},
   "outputs": [
    {
     "data": {
      "text/plain": [
       "/                        19\n",
       "html-css                 12\n",
       "html-css/elements        11\n",
       "html-css/introduction    10\n",
       "content/html-css          9\n",
       "html-css/forms            8\n",
       "javascript-i              7\n",
       "index.html                6\n",
       "toc                       6\n",
       "html-css/css-i            6\n",
       "Name: path, dtype: int64"
      ]
     },
     "execution_count": 171,
     "metadata": {},
     "output_type": "execute_result"
    }
   ],
   "source": [
    "program_1[program_1['cohort_id'] == 11.0].path.value_counts().head(10)"
   ]
  },
  {
   "cell_type": "markdown",
   "id": "06b95fc6",
   "metadata": {},
   "source": [
    "None of these were looked at a significant number of times, therefore I will not include any to display for this cohort."
   ]
  },
  {
   "cell_type": "markdown",
   "id": "d319edc3",
   "metadata": {},
   "source": [
    "### Program 2 (Full Stack Java)"
   ]
  },
  {
   "cell_type": "code",
   "execution_count": 173,
   "id": "362c87bb",
   "metadata": {},
   "outputs": [
    {
     "data": {
      "text/html": [
       "<div>\n",
       "<style scoped>\n",
       "    .dataframe tbody tr th:only-of-type {\n",
       "        vertical-align: middle;\n",
       "    }\n",
       "\n",
       "    .dataframe tbody tr th {\n",
       "        vertical-align: top;\n",
       "    }\n",
       "\n",
       "    .dataframe thead th {\n",
       "        text-align: right;\n",
       "    }\n",
       "</style>\n",
       "<table border=\"1\" class=\"dataframe\">\n",
       "  <thead>\n",
       "    <tr style=\"text-align: right;\">\n",
       "      <th></th>\n",
       "      <th>date</th>\n",
       "      <th>time</th>\n",
       "      <th>ip</th>\n",
       "      <th>path</th>\n",
       "      <th>user_id</th>\n",
       "      <th>cohort_id</th>\n",
       "      <th>cohort_name</th>\n",
       "      <th>slack</th>\n",
       "      <th>start_date</th>\n",
       "      <th>end_date</th>\n",
       "      <th>program_id</th>\n",
       "      <th>program</th>\n",
       "    </tr>\n",
       "    <tr>\n",
       "      <th>date</th>\n",
       "      <th></th>\n",
       "      <th></th>\n",
       "      <th></th>\n",
       "      <th></th>\n",
       "      <th></th>\n",
       "      <th></th>\n",
       "      <th></th>\n",
       "      <th></th>\n",
       "      <th></th>\n",
       "      <th></th>\n",
       "      <th></th>\n",
       "      <th></th>\n",
       "    </tr>\n",
       "  </thead>\n",
       "  <tbody>\n",
       "    <tr>\n",
       "      <th>2018-01-26</th>\n",
       "      <td>2018-01-26</td>\n",
       "      <td>09:56:24</td>\n",
       "      <td>97.105.19.61</td>\n",
       "      <td>javascript-i/conditionals</td>\n",
       "      <td>2</td>\n",
       "      <td>22.0</td>\n",
       "      <td>Teddy</td>\n",
       "      <td>#teddy</td>\n",
       "      <td>2018-01-08</td>\n",
       "      <td>2018-05-17</td>\n",
       "      <td>2</td>\n",
       "      <td>Full Stack Java</td>\n",
       "    </tr>\n",
       "    <tr>\n",
       "      <th>2018-01-26</th>\n",
       "      <td>2018-01-26</td>\n",
       "      <td>09:56:41</td>\n",
       "      <td>97.105.19.61</td>\n",
       "      <td>javascript-i/loops</td>\n",
       "      <td>2</td>\n",
       "      <td>22.0</td>\n",
       "      <td>Teddy</td>\n",
       "      <td>#teddy</td>\n",
       "      <td>2018-01-08</td>\n",
       "      <td>2018-05-17</td>\n",
       "      <td>2</td>\n",
       "      <td>Full Stack Java</td>\n",
       "    </tr>\n",
       "    <tr>\n",
       "      <th>2018-01-26</th>\n",
       "      <td>2018-01-26</td>\n",
       "      <td>09:56:46</td>\n",
       "      <td>97.105.19.61</td>\n",
       "      <td>javascript-i/conditionals</td>\n",
       "      <td>3</td>\n",
       "      <td>22.0</td>\n",
       "      <td>Teddy</td>\n",
       "      <td>#teddy</td>\n",
       "      <td>2018-01-08</td>\n",
       "      <td>2018-05-17</td>\n",
       "      <td>2</td>\n",
       "      <td>Full Stack Java</td>\n",
       "    </tr>\n",
       "  </tbody>\n",
       "</table>\n",
       "</div>"
      ],
      "text/plain": [
       "                 date      time            ip                       path  \\\n",
       "date                                                                       \n",
       "2018-01-26 2018-01-26  09:56:24  97.105.19.61  javascript-i/conditionals   \n",
       "2018-01-26 2018-01-26  09:56:41  97.105.19.61         javascript-i/loops   \n",
       "2018-01-26 2018-01-26  09:56:46  97.105.19.61  javascript-i/conditionals   \n",
       "\n",
       "            user_id  cohort_id cohort_name   slack  start_date    end_date  \\\n",
       "date                                                                         \n",
       "2018-01-26        2       22.0       Teddy  #teddy  2018-01-08  2018-05-17   \n",
       "2018-01-26        2       22.0       Teddy  #teddy  2018-01-08  2018-05-17   \n",
       "2018-01-26        3       22.0       Teddy  #teddy  2018-01-08  2018-05-17   \n",
       "\n",
       "            program_id          program  \n",
       "date                                     \n",
       "2018-01-26           2  Full Stack Java  \n",
       "2018-01-26           2  Full Stack Java  \n",
       "2018-01-26           2  Full Stack Java  "
      ]
     },
     "execution_count": 173,
     "metadata": {},
     "output_type": "execute_result"
    }
   ],
   "source": [
    "program_2 = df[df['program_id'] == 2.0]\n",
    "program_2.head(3)"
   ]
  },
  {
   "cell_type": "code",
   "execution_count": 181,
   "id": "756e7965",
   "metadata": {},
   "outputs": [
    {
     "data": {
      "text/plain": [
       "Float64Index([ 15.0,  16.0,  18.0,  21.0,  22.0,  23.0,  24.0,  25.0,  26.0,\n",
       "               27.0,  28.0,  29.0,  31.0,  32.0,  33.0,  51.0,  52.0,  53.0,\n",
       "               56.0,  57.0,  58.0,  61.0,  62.0, 132.0, 134.0, 135.0, 138.0,\n",
       "              139.0],\n",
       "             dtype='float64')"
      ]
     },
     "execution_count": 181,
     "metadata": {},
     "output_type": "execute_result"
    }
   ],
   "source": [
    "program_2.cohort_id.value_counts().index.sort_values()"
   ]
  },
  {
   "cell_type": "code",
   "execution_count": 245,
   "id": "c2cdb910",
   "metadata": {},
   "outputs": [],
   "source": [
    "# creates least viewed paths for the whole program\n",
    "program_2_least = list(program_2.path.value_counts()[program_2.path.value_counts() <= 5].index)"
   ]
  },
  {
   "cell_type": "markdown",
   "id": "7e040ea3",
   "metadata": {},
   "source": [
    "Instead of comparing the each cohort's most-viewed path with each cohort's least-viewed path, \n",
    "I will compare each cohort's most-viewed paths with the overall program's least-viewed paths.\n",
    "\n",
    "This will save time and still provide a valid answer, if found.\n",
    "\n",
    "I will do this with program 3 as well."
   ]
  },
  {
   "cell_type": "code",
   "execution_count": 246,
   "id": "694c2316",
   "metadata": {},
   "outputs": [
    {
     "data": {
      "text/plain": [
       "['6-regression/project',\n",
       " 'python/working-with-files',\n",
       " 'regression/multivariate-regression-in-excel',\n",
       " '7-classification/confusion-matrix',\n",
       " '6-regression/5-evaluate',\n",
       " 'passwords',\n",
       " 'advanced-topics/virtual-environments',\n",
       " '7-clustering/2-about',\n",
       " 'control-statements-and-loops',\n",
       " '7-clustering/Hospital-Distance-Clusters.jpg',\n",
       " 'advanced-topics/developing-data-products',\n",
       " 'extra-challenges/css-practice',\n",
       " '2-stats/4.3-sampling',\n",
       " 'appendix/data-viz-references',\n",
       " '6-regression/3-split-and-scale',\n",
       " '9-timeseries/5.1-parametric-modeling',\n",
       " 'appendix/professional-resume',\n",
       " '2-stats/4.6-compare-means',\n",
       " 'appendix/professional-development/virtual-meeting-tips-and-tricks',\n",
       " 'appendix/git-branching',\n",
       " '4-python/8.4.1-pandas-overview',\n",
       " '7-clustering/4-explore',\n",
       " '2-storytelling/3.5-creating-dashboards',\n",
       " 'html-css/bootstrap-introduction',\n",
       " 'html-css/css-i/css-grid-in-practice',\n",
       " 'darden-python-assessment.html',\n",
       " '12.3.5_HTML_Forms',\n",
       " '7-clustering/1-overview',\n",
       " '11.05_Explore',\n",
       " 'content/html-css/css-i/positioning.html',\n",
       " 'content/html-css/css-i/introduction.html',\n",
       " 'css-i/positioning',\n",
       " 'content/appendix/code-standards',\n",
       " 'content/appendix/angular',\n",
       " 'content/git/gitignore-file.html',\n",
       " '11_SparkArchitecture',\n",
       " '11.04.02_Prepare_part2',\n",
       " '11.04.03_Prepare_part3',\n",
       " '11_Exercises',\n",
       " 'prework/01-intro',\n",
       " 'testing-user-functions',\n",
       " 'content/mysql/sequel-pro/installing-sequel-pro.html',\n",
       " '13_Appendix_Keywords',\n",
       " '12.3.2_Building_A_Model',\n",
       " '12.3.4_HTML_Templates',\n",
       " 'content/php_iii/php-with-html/post-with-php.html',\n",
       " 'content/php_ii/using-files/contacts-manager.html',\n",
       " 'content/php_ii/array-functions/gitbook/images/favicon.ico',\n",
       " 'tools',\n",
       " 'bom-and-dom',\n",
       " 'quiz',\n",
       " 'content/html-css/css-ii/media-queries.html',\n",
       " '10.1_Overview',\n",
       " 'content/git/committing.html',\n",
       " 'content/git/pushing-and-pulling.html',\n",
       " '7.02_Prep',\n",
       " '8.04.02_ParametricModeling',\n",
       " '7._Clustering',\n",
       " '10.04.02_FeatureExtraction_Word2Vec',\n",
       " '10.04.05_TopicModeling',\n",
       " '3.8.0-relationships-overview',\n",
       " '4_Matplotlib_Styles',\n",
       " '5.05_Deliver',\n",
       " '5.03_Explore',\n",
       " '4_Projects',\n",
       " 'Classification_Explore',\n",
       " 'Classification_LogisticRegression.md',\n",
       " 'Classification_DecisionTree',\n",
       " 'essential-methods/attributes-and-css',\n",
       " 'examples/css',\n",
       " 'inheritance-and-polymorphism',\n",
       " 'registerUser',\n",
       " 'content/appendix/postwork',\n",
       " 'content/jquery/ajax/ajax-intro.html',\n",
       " 'content/javascript/conditionals.html',\n",
       " 'spring/controllers',\n",
       " 'introduction/operators',\n",
       " '7.03_Explore',\n",
       " 'git/branching',\n",
       " '4-python/objects',\n",
       " '12-advanced-topics/1-tidy-data',\n",
       " 'content/javascript_ii/npm.html',\n",
       " 'content/git/working-in-teams.html',\n",
       " 'git/intellij-intro',\n",
       " 'java',\n",
       " '6-regression/8.0-project.md',\n",
       " '11.06.01_Model_TopicModeling',\n",
       " 'phpinfo',\n",
       " '5.01_Acquire',\n",
       " 'spring/fundementals/form-model-binding',\n",
       " '5-regression/least-angle-regression',\n",
       " '6.00_Intro.md',\n",
       " 'Clustering_Intro',\n",
       " '13_Appendix_ChartTypes',\n",
       " '7.01_Acquire',\n",
       " 'bom-and-dom/bom',\n",
       " '6-regression/2-acquire-and-prep',\n",
       " 'es6',\n",
       " 'content/javascript/objects/math.html',\n",
       " 'distributed-ml/ml-with-spark',\n",
       " 'content/php_iii/php-with-html/handling-user-input.html',\n",
       " '4_Objects',\n",
       " 'prework.com',\n",
       " 'methods',\n",
       " '2.01_Descriptive',\n",
       " 'content/javascript_ii/modules.html',\n",
       " '11.04.04_Prepare_part4',\n",
       " 'mac-tips',\n",
       " 'storytelling/refine-present',\n",
       " 'appendix/testing-code',\n",
       " '10.2_Regex',\n",
       " 'Classification_RandomForest',\n",
       " 'content/javascript/loops.html',\n",
       " 'content/html-css/css-i/box-model.html',\n",
       " '10_Project',\n",
       " 'github_repo_language.gif',\n",
       " 'html-css/css-i/flexbox-in-practice',\n",
       " 'content/laravel/quickstart/seeders.html',\n",
       " '2.00.03_PrepareData_Excel',\n",
       " 'content/appendix/documentation',\n",
       " '11-distributed-ml/1-overview',\n",
       " 'grades/getUserDetails/916/3',\n",
       " 'content/javascript_ii/promises.html',\n",
       " 'jquery/keyboard-events',\n",
       " '11-nlp/topic-modeling',\n",
       " '11.04.01_Prepare_part1',\n",
       " 'promises',\n",
       " '12-distributed-ml/exercises',\n",
       " '1-fundamentals/1-intro-to-data-science',\n",
       " 'content/php_ii/using-files/reading-files.html',\n",
       " 'jquery/requests-and-responses',\n",
       " 'javascript-i/dom-events',\n",
       " '6.01.01_AcquireSQL',\n",
       " 'collections',\n",
       " '13.01.01_Understand',\n",
       " 'javascript-i/bom-and-dom/bom/www.google.com',\n",
       " 'fundamentals/views',\n",
       " '8_Appendix_SVR',\n",
       " 'mysql/clauses/prepared-statements',\n",
       " 'documentation',\n",
       " 'jquery/weather-map',\n",
       " 'python/project',\n",
       " 'css-i/flexbox/flexbox-in-practice',\n",
       " 'javascript',\n",
       " 'advanced-topics/building-a-model',\n",
       " '5-regression/built-in-datasets',\n",
       " 'content/laravel/quickstart/basic-routing.html',\n",
       " '2-stats/project',\n",
       " '2-stats/4.7-correlation',\n",
       " '8.04.03_MLModeling',\n",
       " '8.00_Intro',\n",
       " '6-classification/handling-missing-values',\n",
       " 'content/mysql/intro-to-mysql/users.html',\n",
       " 'git/working-in-teams',\n",
       " 'content/php_ii/functions-i/arguments.html',\n",
       " 'events/mouse-events',\n",
       " 'content/examples/php/if.php',\n",
       " 'content/php_ii/functions-i/internal-functions.html',\n",
       " '2-storytelling/3.4-creating-custom-fields',\n",
       " '5-regression/ridge-regression',\n",
       " 'examples/bootstrap/pizza.png%22',\n",
       " '6.04.03_KNN',\n",
       " 'content/php_ii/using-files/gitbook/images/favicon.ico',\n",
       " '6-classification/svm',\n",
       " 'content/javascript/bom-and-dom/calculator.html',\n",
       " '13.11_Exercises',\n",
       " '6-regression/notes',\n",
       " '7.04.01_Partitioning',\n",
       " 'content/javascript/index.html',\n",
       " 'mysql/dml-statements',\n",
       " '1.10_JobReq_Indeed',\n",
       " 'content/appendix/postwork/gitbook/images/favicon.ico',\n",
       " 'html-css/grids',\n",
       " 'advanced-topics/html-forms',\n",
       " 'content/php_iv/exceptions',\n",
       " 'advanced-topics/tidy-data',\n",
       " 'interfaces-and-abstract-classes',\n",
       " 'content/php_iv/classes-and-objects-ii/inheritance.html',\n",
       " 'Clustering_Prep.md',\n",
       " 'javascript-ii/promises/undefined',\n",
       " 'Clustering_KMeans_1',\n",
       " 'appendix/professional-development/mock-behavioral-question',\n",
       " 'professional-development/linkedin-tips',\n",
       " '2-stats/4.1-inferential-stats',\n",
       " '2.00_About_Excel',\n",
       " '9-timeseries/svr',\n",
       " '13.01.02.03_Sketch',\n",
       " '13.01.02.02_TalkAndListen',\n",
       " '13.01.02.01_Prep',\n",
       " 'html-css/css-i/grid',\n",
       " '6.01.02_Acquirecsv',\n",
       " '13.01.02_Create',\n",
       " '6.01.03_Summarize',\n",
       " '6.02.01_Prep',\n",
       " '13.01.03_Refine',\n",
       " '6.02.02_MissingVals',\n",
       " '11.04_Modeling.md',\n",
       " '11.03_Explore.md',\n",
       " 'git/merge-conflict-demo',\n",
       " 'capstone-workbook/sw-project-planning',\n",
       " '6.05_Deliver',\n",
       " 'florence-python-assessment.html',\n",
       " '13.01.02.04_Prototype',\n",
       " '13.01.04_Present',\n",
       " 'Clustering_Acquire',\n",
       " '6._Classification.md',\n",
       " 'Appendix_Tidy_Data',\n",
       " 'Appendix_RidgeRegression',\n",
       " 'ds',\n",
       " '8-timeseries/5-explore',\n",
       " 'Classification_KNN',\n",
       " 'content/laravel/more-features/db-query-builder.html',\n",
       " 'MachineLearning_CheatSheet',\n",
       " 'relationships',\n",
       " '1-fundamentals/2.3-visualization.md',\n",
       " 'content/php_iv/ad-lister/gitbook/images/favicon.ico',\n",
       " 'appendix/mock-behavioral-questions',\n",
       " 'Univariate_Regression_Python',\n",
       " '6-classification/6.3-random-forests',\n",
       " 'extra-features/error-pages',\n",
       " 'html-css/bootstrap-grid-system',\n",
       " '4-python/handling-duplicate-values',\n",
       " '11.01.02_DataAcquisition',\n",
       " 'content/jquery/selectors.html',\n",
       " 'cli-06-moving-files',\n",
       " 'examples/javascript/jasmine-3.5.0.zip',\n",
       " 'content/javascript/objects',\n",
       " 'ajax/requests-and-responses',\n",
       " 'content/laravel/quickstart/artisan.html',\n",
       " 'content/javascript/arrays/manipulating.html',\n",
       " 'content/javascript/arrays/iterating.html',\n",
       " 'appendix/intermediate',\n",
       " 'appendix/capstone/workbook',\n",
       " 'main',\n",
       " 'extra-challenges/basic-challenges',\n",
       " 'content/javascript/arrays',\n",
       " 'content/javascript/functions.html',\n",
       " 'javascript-i/bom',\n",
       " 'content/javascript/bom-and-dom/dom-query-modify.html',\n",
       " 'further-reading/spring/devtools-configuration',\n",
       " 'content/git/branching.html',\n",
       " 'object-oriented-programming',\n",
       " 'jquery/ajax.json',\n",
       " 'content/jquery/simple-simon/create-game.html',\n",
       " 'content/html-css/css-ii/grids.html',\n",
       " 'regression/univariate_regression_in_excel',\n",
       " 'content..',\n",
       " '10-nlp/5-explore',\n",
       " 'jquery/ajax/.json',\n",
       " '11.01.01_ConnectingToSpark.md',\n",
       " 'repo-doc',\n",
       " 'content/javascript/arrays/split-join.html',\n",
       " 'content/javascript/bom-and-dom/dom-events.html',\n",
       " '4-stats/2.8-feature-scaling',\n",
       " 'appendix/mysql/host-wildcards',\n",
       " 'appendix/html-css',\n",
       " 'introduction/primitive-types',\n",
       " '4-python/intro-to-sklearn',\n",
       " 'cli-05-creating-files-and-directories',\n",
       " 'content/appendix/code-standards/html-css.html',\n",
       " 'appendix/javascript',\n",
       " 'appendix/further-reading',\n",
       " 'bio',\n",
       " 'group-by',\n",
       " 'css-i/flexbox/flexbox-fundamentals',\n",
       " '10-nlp/pos-tagging',\n",
       " 'anomaly-detection/isolation-forests',\n",
       " 'capstones/51',\n",
       " '2-stats/Excel_Shortcuts',\n",
       " 'html/css',\n",
       " 'deployment-and-dependencies',\n",
       " 'content/jquery/ajax/ajax-api-request.html',\n",
       " 'content/mysql/intro-to-mysql/databases.html',\n",
       " 'content/php_iii/classes-and-objects-i/static.html',\n",
       " 'Stats_Assessment',\n",
       " '6.04.02_DecisionTree',\n",
       " 'appendix/amateur',\n",
       " 'appendix/basic-challenges',\n",
       " 'extra-challenges/memory-game',\n",
       " 'content/control-structures-i',\n",
       " 'content/php_iii/php-with-html/sessions-with-php.html',\n",
       " '5.04.03_RidgeRegression',\n",
       " 'examples/css/undefined',\n",
       " 'introduction/variables',\n",
       " 'spring/fundamentals/relationships/null',\n",
       " 'fer',\n",
       " '5-stats/distributions-and-testing',\n",
       " 'content/appendix/code-standards/php.html',\n",
       " '5.04.02_OrdinaryLeastSquares',\n",
       " 'appendix/job-search-workshop',\n",
       " 'content/html-css/elements-i/lists.html',\n",
       " 'easley-python-assessment.html',\n",
       " 'javascript-1',\n",
       " 'mysql//database-design',\n",
       " '6.04.07_Ensemble',\n",
       " 'code-standards/java',\n",
       " 'code-standards',\n",
       " 'mysql/host-wildcards',\n",
       " 'further-reading/java/intellij-tomcat-configuration',\n",
       " '6.04.06_RandomForest',\n",
       " '6.04.04_LogisticRegression',\n",
       " 'anomaly-detection/time-series-anomaly-detection-part-3',\n",
       " 'advanced-topics/json-responses',\n",
       " 'advanced-topics/styling-webpages',\n",
       " 'advanced-topics/html-templates',\n",
       " '4-python/pandas-lesson',\n",
       " 'advanced-topics/intro-to-flask',\n",
       " 'python/pandas-time-series',\n",
       " '6-regression/6-feature-engineering',\n",
       " 'ltc-ml/slides/2',\n",
       " 'content/php_iv/classes-and-objects-ii/magic-methods.html',\n",
       " 'css-i/grid/css-grid-fundamentals',\n",
       " '6._Classification',\n",
       " '5.04.05_Exercises',\n",
       " 'extra-challenges/java-file-io-extras',\n",
       " '.well-known/assetlinks.json',\n",
       " 'mvc/accessing-data',\n",
       " 'content/php_iii/classes-and-objects-i/authentication.html',\n",
       " 'relationships/joins',\n",
       " '5._Regression/img/favicon.ico',\n",
       " '5._Regression//index.html',\n",
       " 'ajax-api',\n",
       " 'pandas-overview',\n",
       " 'dataframes',\n",
       " 'ajax/weather-map',\n",
       " 'events',\n",
       " 'arrays/manipulating',\n",
       " 'content/php_iv/exceptions/gitbook/images/favicon.ico',\n",
       " 'code-standards/javascript',\n",
       " 'appendix/cli',\n",
       " 'content/jquery/events',\n",
       " 'content/mysql/intro-to-mysql/tables.html',\n",
       " 'pre-work',\n",
       " 'content/mysql/aliases-and-functions/functions.html',\n",
       " 'php',\n",
       " 'content/appendix/angular/templating.html',\n",
       " 'content/spring/fundamentals/relationships.html',\n",
       " 'content/javascript/bom-and-dom/gitbook/images/favicon.ico',\n",
       " 'content/laravel/quickstart/templating.html',\n",
       " 'content/laravel/quickstart/views.html',\n",
       " 'content/appendix/angular/models.html',\n",
       " 'javascript/functions',\n",
       " 'content/appendix/code-standards/javascript.html',\n",
       " 'content/jquery/ajax/gitbook/images/favicon.ico',\n",
       " 'javascript/bom-and-dom/dom',\n",
       " 'content/appendix/postwork/trains.html',\n",
       " 'content/appendix/postwork/locations.html',\n",
       " 'content/appendix/postwork/website-status-page.html',\n",
       " 'Probability.md',\n",
       " 'web-dev-day-two',\n",
       " 'mapbox-api',\n",
       " 'prework/02-listing-files',\n",
       " 'clustering/dendogram_sample.jpeg',\n",
       " 'mysql//tables',\n",
       " 'appendix/cover-letter',\n",
       " '5.02_Prep',\n",
       " 'classification',\n",
       " 'appendix/professional-development/t-block-lesson-ds',\n",
       " '2.02.01_Distributions',\n",
       " 'content/appendix/postwork/basic_challenges',\n",
       " '2.00.05_Explore_Viz_Excel',\n",
       " 'mvc/introduction',\n",
       " 'coffee_consumption.csv',\n",
       " '2.00.01_Excel_Shortcuts',\n",
       " 'javascript-i/null',\n",
       " 'css-i/introduction',\n",
       " 'javascript-i/img/favicon.ico',\n",
       " 'content/appendix/documentation/phpdoc.html',\n",
       " '2.00.02_Gather_Excel',\n",
       " 'clustering/hierarchical',\n",
       " 'clustering/dbscan',\n",
       " 'content/mysql/sample-database/setting-up-sample-db.html',\n",
       " '2.03.02_Sampling',\n",
       " 'appendix/further-reading/javascript',\n",
       " '2.00.01_Navigating_Excel',\n",
       " 'exceptions-and-error-handling',\n",
       " 'javascript-i/working-with-data-types-operators-and-variables',\n",
       " 'sample-database',\n",
       " 'mysql/indexes',\n",
       " '2._Stats',\n",
       " 'content/appendix/postwork/mars-rover.html',\n",
       " '4_Error_Handling',\n",
       " 'appendix/further-reading/mysql/host-wildcards.md',\n",
       " '9-timeseries/5-modeling',\n",
       " '12-distributed-ml/8.1-classification',\n",
       " '11-nlp/word-2-vec',\n",
       " 'appendix/javascript/hoisting',\n",
       " '11-distributed-ml/5-inspect',\n",
       " '11-nlp/entity-labeling',\n",
       " '11.00_Intro',\n",
       " '11-nlp/pos-tagging',\n",
       " 'appendix/univariate_regression_in_excel',\n",
       " '11-distributed-ml/2-environment-setup',\n",
       " 'appendix/multivariate-regression-in-excel.md',\n",
       " '10-nlp/github_repo_language.gif',\n",
       " '10-nlp/project',\n",
       " 'Classification_Project',\n",
       " '10-nlp/6-model',\n",
       " '8_Exercises/ds.codeup.com/saas.csv',\n",
       " '10-nlp/4-prepare',\n",
       " 'php_i',\n",
       " '4-python/working-with-files',\n",
       " 'Model_NaiveBayes',\n",
       " 'capstones/50',\n",
       " '4_panda_bears',\n",
       " 'html-css/null',\n",
       " 'data',\n",
       " '3-python/objects',\n",
       " 'content/examples/examples/html/forms.html',\n",
       " 'search',\n",
       " 'content/laravel/quickstart/eloquent-orm.html',\n",
       " 'cli-04-navigating-the-filesystem',\n",
       " 'Clustering_KMeans_2',\n",
       " '6-regression/3.6-evaluation.md',\n",
       " 'mysql//clauses',\n",
       " '8-clustering/dbscan',\n",
       " '4-python/matplotlib-styles',\n",
       " 'handout',\n",
       " '12.3.7_JSON_Responses',\n",
       " '6-regression',\n",
       " 'datascience',\n",
       " '4_list_comprehension_exercises',\n",
       " 'cli-01-intro',\n",
       " 'cli-00-overview',\n",
       " '12-distributed-ml/6.2-prepare-part-2',\n",
       " 'Classification_Exercises',\n",
       " 'content/examples/php/form-example.php',\n",
       " 'ltc',\n",
       " '10-anomaly-detection/time-series-anomaly-detection-part-1',\n",
       " '9_Appendix_TSAD_Lesson',\n",
       " '12-distributed-ml/5-inspect',\n",
       " '135',\n",
       " '8-timeseries/exercises',\n",
       " '9.4_Detect_Through_Isolation_Forest',\n",
       " 'content/mysql/sequel-pro/gitbook/images/favicon.ico',\n",
       " '10.10_Exercises',\n",
       " '2-stats/2.2-excel-functions',\n",
       " 'Classification_DecisionTree_files/Classification_DecisionTree_20_0.svg',\n",
       " '5-stats/2.4-power-analysis',\n",
       " 'examples/css/..%2f',\n",
       " '11-distributed-ml/7-explore',\n",
       " 'DataSets_Elo_CustomerLoyalty',\n",
       " '6-classification/ensemble',\n",
       " '2-stats/2.3-visualization-with-excel',\n",
       " '5-stats/confusion-matrix',\n",
       " '11.02_TransformData',\n",
       " '5-stats/sampling',\n",
       " '7-clustering/project',\n",
       " '10-anomaly-detection/2-continuous-probabilistic-methods.ipynb.md',\n",
       " '9-timeseries/sarimax',\n",
       " 'alumni',\n",
       " '10-nlp/1-overview',\n",
       " '8-timeseries/project',\n",
       " '9.3_Detect_Through_Isolation_Forest',\n",
       " '11.01.02_DataAcquisition.md',\n",
       " '5-stats/2.6-compare-means',\n",
       " 'content/jquery/simple-simon/gitbook/images/favicon.ico',\n",
       " '4-stats/2.4-power-analysis',\n",
       " 'bom-and-dom/dom-events',\n",
       " 'timeseries',\n",
       " '4-stats/2.2-probability_distributions/Selecting_a_hypothesis_test.svg',\n",
       " 'javascri',\n",
       " 'students/743/notes',\n",
       " '4-stats/2.3-sampling',\n",
       " 'appendix/further-reading/mysql',\n",
       " '2-stats/2.4-more-excel-features',\n",
       " '4-stats/2.2-probability_distributions',\n",
       " '9-anomaly-detection/time-series-anomaly-detection-part-1',\n",
       " '4-stats/2.1-probability_and_event_interactions',\n",
       " 'overview',\n",
       " '7-clustering/dbscan',\n",
       " 'appendix/email-setup',\n",
       " 'python',\n",
       " '13-storytelling/2.2-create',\n",
       " '4-stats/2.6-compare-means',\n",
       " 'appendix/professional',\n",
       " 'appendix/offer-letters',\n",
       " 'explore',\n",
       " 'working-with-time-series-data',\n",
       " 'asset-manifest.json',\n",
       " '2-sql/database-design',\n",
       " 'extra-features',\n",
       " 'spring/integration-tests',\n",
       " 'content/control-structures-ii',\n",
       " 'javascript/apendix',\n",
       " '4-stats/1-descriptive-stats',\n",
       " 'modeling-lesson1',\n",
       " '4-stats/2.5-distributions-and-testing',\n",
       " 'javascript-i/bom-and-dom/bom/google.com',\n",
       " '4-stats/2.7-correlation',\n",
       " 'html-css/box',\n",
       " '10-anomaly-detection/time-series-anomaly-detection-part-3',\n",
       " 'sequel-pro',\n",
       " '5-stats/1-descriptive-stats',\n",
       " 'prework/fundamentals',\n",
       " '10.00_Intro',\n",
       " '9.4_DBSCAN_to_detect_anomalies',\n",
       " '9.5_DBSCAN_to_detect_anomalies.md',\n",
       " '2-storytelling/chart-types',\n",
       " 'appendix/further-reading/html-css',\n",
       " 'appendix/spring/authorization',\n",
       " '9_Appendix_Isolation_Forest',\n",
       " '9_Appendix_TSAD_Lesson3',\n",
       " '9_Appendix_TSAD_Lesson2',\n",
       " 'student/850',\n",
       " 'series',\n",
       " 'javascript-i/introduction/working-with-data-types-operators-and-variables/google.com',\n",
       " 'javascript-i/introduction/working-with-data-types-operators-and-variables/www.google.com',\n",
       " 'javascript-i/introduction/working-with-data-types-operators-and-variables/600%20Navarro%20St.,%20San%20Antonio,%20TX%2078205,%20United%20States%20of%20America',\n",
       " 'appendix/capstone-workbook/project-proposal',\n",
       " 'appendix/capstone',\n",
       " 'student/202',\n",
       " 'ada-python-assessment.html',\n",
       " 'appendix/capstone-workbook/sw-planning.md',\n",
       " 'appendix/css-practice',\n",
       " 'slidesexceptions_and_errorhandlings',\n",
       " 'appendix/open_data/www.stat.ucla.edu/data',\n",
       " 'appendix/open_data/www.basketball-reference.com',\n",
       " 'logouts',\n",
       " 'slides/css',\n",
       " 'cheatsheet.tex',\n",
       " 'content/php_iii/classes-and-objects-i/constructors-destructors.html',\n",
       " 'capstones',\n",
       " 'mysql//functions',\n",
       " 'timeseries/sarimax',\n",
       " 'content/php_iv/classes-and-objects-ii/late-static-binding.html',\n",
       " 'content/php_iv/classes-and-objects-ii/visibility.html',\n",
       " '10-anomaly-detection/isolation-forests',\n",
       " 'team-setups',\n",
       " 'elements/html',\n",
       " 'hfdgafdja',\n",
       " '11.02_TransformData.md',\n",
       " '11.01.03_Summarize.md',\n",
       " '10_Appendix_EntityLabeling',\n",
       " 'create',\n",
       " 'slides/exceptions_and_error_handlings',\n",
       " 'slides/exceptions_and_errorhandlings',\n",
       " '4-python/error-handling',\n",
       " 'uploads/598dc43df39e2.jpg',\n",
       " 'ltc-ml/slides/1',\n",
       " '2-stats/4.8-feature-scaling',\n",
       " 'index',\n",
       " 'team',\n",
       " 'jupiter',\n",
       " 'capstone/jupiter',\n",
       " 'capstone/teams',\n",
       " 'capstone/team',\n",
       " 'appendix/further-reading/java/intellij-tomcat',\n",
       " '10-nlp/2-regular-expressions',\n",
       " 'aliases',\n",
       " '10-nlp/exercises',\n",
       " '10-nlp/3-acquire',\n",
       " 'extra-exercises/j',\n",
       " 'spring/extra-features/error-pages/asdfasdf',\n",
       " 'javascript-i/html-css',\n",
       " 'appendix/professional-development/interview-questions-tech',\n",
       " 'storytelling',\n",
       " '11-distributed-ml/3-getting-started',\n",
       " 'appendix/professional-development/interview-guidance',\n",
       " '11-distributed-ml/4-acquire',\n",
       " '11-distributed-ml/6.1-prepare-part-1',\n",
       " '11-distributed-ml/6.2-prepare-part-2',\n",
       " '11-distributed-ml/6.3-prepare-part-3',\n",
       " 'f',\n",
       " 'fundamentals/environment-setup.md',\n",
       " 'tools/codeup',\n",
       " \"java-iii/mvc/java-beans/'\",\n",
       " 'java-iii/sessions-and-cookies/style/css',\n",
       " 'further-reading/spring',\n",
       " '8-timeseries/4-prep',\n",
       " 'javascript-i/dom',\n",
       " 'css',\n",
       " '8-timeseries/1-overview',\n",
       " 'selectors',\n",
       " '8-timeseries/2-intro-to-timeseries',\n",
       " 'job-board',\n",
       " 'job-portal',\n",
       " 'extra',\n",
       " 'timeseries/working-with-time-series-data-with-pandas',\n",
       " '8-timeseries/3-acquire',\n",
       " 'classification/user-defined-functions',\n",
       " '8-timeseries/6.1-parametric-modeling',\n",
       " 'further-reading',\n",
       " '8-timeseries/6.2-prophet',\n",
       " 'appendix/3d-plotting',\n",
       " 'content/laravel/more-features/db-relationships.html',\n",
       " 'javascript/google-maps-api',\n",
       " 'spring/security',\n",
       " 'javascript/loops',\n",
       " 'spring/services',\n",
       " 'anomaly-detection/time-series-anomaly-detection-part-1',\n",
       " 'user-defined-functions.md',\n",
       " 'strudents',\n",
       " 'javascript-i/intruduction/operators',\n",
       " '11-distributed-ml/6.4-prepare-part-4',\n",
       " '11-distributed-ml/8.1-classification',\n",
       " '11-distributed-ml/exercises',\n",
       " 'essential-methods/traversing',\n",
       " '6_CustomFillNulls',\n",
       " 'python/objects',\n",
       " '6_Ensemble',\n",
       " '6_SVM',\n",
       " 'appendix/further-reading/java/intellij',\n",
       " 'file.dat',\n",
       " 'anomaly-detection/time-series-anomaly-detection-part-2',\n",
       " 'SVM_NLP',\n",
       " 'html-css/img/favicon.ico',\n",
       " 'java-iii/jdbc/poop',\n",
       " 'glossary',\n",
       " 'register.',\n",
       " 'distributed-ml/read-jdbc',\n",
       " 'ajax',\n",
       " 'jquery/whack-a-mole',\n",
       " 'appendix/extra-exercises',\n",
       " 'appendix/extra-exercises/javascript',\n",
       " 'help',\n",
       " 'src',\n",
       " 'content/php_iv/classes-and-objects-ii/overriding.html',\n",
       " 'sgithubtudents/1215',\n",
       " 'jacascript-i/introdection',\n",
       " 'students/743/notes/1',\n",
       " 'students/743/notes/0',\n",
       " 'professional-development/professional-resume',\n",
       " 'ada-capsontes.html',\n",
       " 'html-css/introduction/:view-page',\n",
       " 'extra-',\n",
       " 'html-css/introduction:page-source',\n",
       " 'html-css/introduction:view-page',\n",
       " 'RESTful-api',\n",
       " 'cli-07-more-topics',\n",
       " \"'\",\n",
       " 'mini_exercises',\n",
       " 'strings',\n",
       " 'cli-03-file-paths',\n",
       " 'cli-02-listing-files',\n",
       " 'regression/viz.py',\n",
       " 'professional-development/job-search-workshop',\n",
       " 'javascript-/introducion/working-with-data-types-operators-and-variables',\n",
       " 'instructors',\n",
       " 'javascript-/introducion/working-with-dat-types-operators-and-variables',\n",
       " 'css-ii/grids',\n",
       " 'AI-ML-DL-timeline.jpg',\n",
       " 'modern-data-scientist.jpg',\n",
       " 'coding-challenges',\n",
       " 'timeline/java-i',\n",
       " 'objects/math',\n",
       " 'examples/bootstrap/pizza.png;',\n",
       " 'examples/bootstrap/pizza.png%22);',\n",
       " 'examples/bootstrap/pizza.pn',\n",
       " 'users.json',\n",
       " '5-stats/2.8-feature-scaling',\n",
       " 'content/jquery/effects',\n",
       " '5-stats/2.1-probability_and_event_interactions',\n",
       " '5-stats/2-inferential-stats',\n",
       " 'appendix/interview_questions_instructors',\n",
       " 'capstone/50',\n",
       " '4-python',\n",
       " '4-python/overview',\n",
       " 'javascript-i/math',\n",
       " 'jquery/traversing',\n",
       " 'professional-development/cover-letter',\n",
       " '2.03.03_Power',\n",
       " 'content/laravel/quickstart/resource-controllers.html',\n",
       " 'content/laravel/quickstart/controllers.html',\n",
       " 'Regression%20_Project.md',\n",
       " 'main-pages_xXxXx.html',\n",
       " 'relationships/indexes',\n",
       " 'ui/typography',\n",
       " '00_',\n",
       " 'html-css/css-ii/boostrap-grid-system',\n",
       " 'appendix/java/intellij-tomcat-configuration',\n",
       " 'cohorts/27/quizzes',\n",
       " 'java-iii/servelet',\n",
       " 'appendix/further-reading/flexbox-additional-concepts',\n",
       " 'html-css/css-i/flexbox-fundamentals',\n",
       " 'html-css/grid/css-grid-fundamentals',\n",
       " 'students/882/EDIT',\n",
       " '6-regression/appendix-feature-engineering',\n",
       " 'java-iii/servelets',\n",
       " 'capstone/52',\n",
       " 'grades/getUserDetails/912/3',\n",
       " 'grades/getUserDetails/918/3',\n",
       " 'mysql//ntellij',\n",
       " 'appendix/java',\n",
       " 'appendix/spring/security-use-cases',\n",
       " 'java-i/control-statements-and-loops/g',\n",
       " 'Correlation.md',\n",
       " 'htmle-css/elements',\n",
       " 'quiz/submit/2186',\n",
       " 'content/appendix/postwork/basic_challenges/gitbook/images/favicon.ico',\n",
       " 'Appendix_LeastAngleRegression',\n",
       " 'slides/array-lists',\n",
       " 'Classificaiton_LogisticRegression',\n",
       " 'mysql/java-iii',\n",
       " 'content/laravel/more-features/reddit.html',\n",
       " 'loguout',\n",
       " 'content/mysql/sample-database/gitbook/images/favicon.ico',\n",
       " 'prework/cli/03-filepaths',\n",
       " 'appendix/further-reading/css-grid-additional-features',\n",
       " 'further-reading/html-css/flexbox-additional-concepts',\n",
       " 'capstone/55',\n",
       " '12-distributed-ml/read-jdbc',\n",
       " 'bom-and-dom/dom',\n",
       " '2.03.05_NormalityTests',\n",
       " 'capstone/54',\n",
       " 'content/laravel/more-features/mutators.html',\n",
       " 'capstone/53',\n",
       " 'extra-features/file-upload',\n",
       " 'extra-features/json-response',\n",
       " 'habn',\n",
       " 'content/appendix/code-standards/gitbook/images/favicon.ico',\n",
       " 'user/913',\n",
       " 'users/913',\n",
       " 'java-i/control-stateedabitments-and-loops',\n",
       " '8-clustering/End_to_End_Clustering',\n",
       " 'java-1',\n",
       " 'bayes-capstones/html',\n",
       " 'bayes-capstones',\n",
       " 'hello-bayes-cohort-yall-are-awesome',\n",
       " '10.00_Intro.html',\n",
       " 'mysql//sample-database',\n",
       " 'studentx',\n",
       " 'web-design/ux',\n",
       " 'hand',\n",
       " 'teams',\n",
       " 'html-css/css-i/positioning/specimen/MaterialIcons-Regular.ttf',\n",
       " 'html-css/css-i/positioning/specimen/MaterialIcons-Regular.woff',\n",
       " 'html-css/css-i/positioning/specimen/MaterialIcons-Regular.woff2',\n",
       " 'java-iii/mvc.jsp',\n",
       " '8-clustering/review',\n",
       " 'mysql//extra-exercises',\n",
       " 'students/643/This%20alumnus%20works%20for%20Appdiction%20Studios,%20as%20of%20this%20timestamp.%20This%20company%20is%20launching%20a%20bootcamp%20program%20in%20competition.%20For%20this%20reason,%20curriculum%20access%20is%20disabled%20until%20further%20notice.',\n",
       " 'content/laravel/quickstart/composer.html',\n",
       " 'javascript-i/bom-and-dom/bom/http%22://www.google.com',\n",
       " '7.04.02_Hierarchical',\n",
       " 'registration',\n",
       " '10-anomaly-detection/3-discrete-probabilistic-methods.ipynb',\n",
       " 'tc-ml',\n",
       " '7-classification/6.5-svm',\n",
       " 'ltc-python',\n",
       " 'console-io',\n",
       " 'syntax-types-and-variables',\n",
       " '6-regression/multivariate-regression-in-excel',\n",
       " '7-classification/svm',\n",
       " 'content/examples/php/gitbook/images/favicon.ico',\n",
       " 'content/examples',\n",
       " '2.02.02_Functions',\n",
       " 'content/examples/gitbook/images/favicon.ico',\n",
       " 'php_i/gitbook/images/favicon.ico',\n",
       " '5.04.04_LeastAngleRegression',\n",
       " 'examples/html/welcome',\n",
       " '6.04.05_SVM',\n",
       " '11._DistributedML',\n",
       " 'sql',\n",
       " 'capsones/151',\n",
       " 'curie-python-assessment',\n",
       " 'curie-python-assessment.html',\n",
       " '6.00_Intro',\n",
       " 'ml-ltc',\n",
       " '10-anomaly-detection/2-continuous-probabilistic-methods.ipynb',\n",
       " '6.03_Explore',\n",
       " '6.04.01_Preprocessing',\n",
       " '10-anomaly-detection/2-continuous-probabilistic-methods.md',\n",
       " 'html',\n",
       " 'j',\n",
       " 'html-css/elecments',\n",
       " 'quizzes',\n",
       " 'capstone/index.md',\n",
       " '9_Anomaly_Detection',\n",
       " 'Exploration_Lecture',\n",
       " 'warmups',\n",
       " 'content/appendix/angular/controllers.html',\n",
       " 'register%20t',\n",
       " 'content/appendix/angular/dependencies.html',\n",
       " 't9-solution/index.html',\n",
       " 'content/mysql/clauses',\n",
       " 'content/mysql/clauses/where.html',\n",
       " 'quizes',\n",
       " 'javascript-i/primitive-types',\n",
       " 'one',\n",
       " 'data-science',\n",
       " 'data-1',\n",
       " 'users/2/edit',\n",
       " 'users/1/edit',\n",
       " 'content/appendix/postwork/memory-game.html',\n",
       " '12-distributed-ml/6.3-prepare-part-3',\n",
       " 'content/appendix/postwork/sales-tax.html',\n",
       " 'content/postwork/dashboard.md',\n",
       " 'bonus-exercises',\n",
       " 'javascript-i/loops/google.com',\n",
       " '8._Time_Series.md',\n",
       " 'capstone/index',\n",
       " '9.4_Detecting_TimeSeries_Anomalies',\n",
       " 'content/examples/examples/html/gitbook/images/favicon.ico',\n",
       " 'content/jquery/events/keyboard-events.html',\n",
       " '5-stats/2.5-distributions-and-testing',\n",
       " 'student/120',\n",
       " 'arash-arghavan',\n",
       " 'extra-challenges',\n",
       " 'further-reading/javascript/array-splice',\n",
       " '11-nlp/word-2-vec.md',\n",
       " 'slides/jpa',\n",
       " 'slides/formmodelbinding',\n",
       " 'slides/form',\n",
       " 'uploads/58a217a705bde.jpg',\n",
       " 'content/jquery/events/mouse-events.html',\n",
       " 'content/jquery/essential-methods',\n",
       " '9.5_DBSCAN_to_detect_anomalies',\n",
       " '9.3_Detecting_TimeSeries_Anomalies',\n",
       " 'content/jquery/essential-methods/attributes-and-css.html',\n",
       " 'content/jquery/essential-methods/traversing.html',\n",
       " 'dendogram_sample.jpeg',\n",
       " 'content/jquery/effects/show-hide-toggle.html',\n",
       " 'content/jquery/effects/animate.html',\n",
       " 'jquery/ajax/requests-and-responses/.json',\n",
       " 'content/jquery/resume-portfolio',\n",
       " 'fundamentals/repositories',\n",
       " 'codeupexercises',\n",
       " 'codeup-exercises',\n",
       " '7_kmeans_by_hand',\n",
       " '.git',\n",
       " '4-python/type-annotations',\n",
       " 'quiz118',\n",
       " 'query/personal-site',\n",
       " '115',\n",
       " '133',\n",
       " 'web-design/ux/layout/.json',\n",
       " '131',\n",
       " '132',\n",
       " '130',\n",
       " 'student-page',\n",
       " 'quiz115',\n",
       " 'quic/115',\n",
       " 'cohorts/%7Bid%7D/grades.csvhttp://tools.codeup.com/cohorts/26/grades.csv',\n",
       " 'annotations',\n",
       " 'examples/css/..%5c',\n",
       " 'appendix/cli/more-topics',\n",
       " 'appendix/cli/moving-files',\n",
       " 'appendix/cli/intro',\n",
       " 'appendix/cli/listing-files',\n",
       " 'appendix/cli/file-paths',\n",
       " 'examples/css//logincss',\n",
       " '1._Fundamentals/index.html',\n",
       " '5-stats',\n",
       " '6-stats',\n",
       " '2.00.01_Navigating_Excel.md',\n",
       " 'appendix/testing-code.md',\n",
       " 'content/php_iv/exceptions/throwing.html',\n",
       " 'examples/css/..%c0%af',\n",
       " '.gitignore',\n",
       " 'java-iii/servlets/cssasxz',\n",
       " '12-distributed-ml/topic-modeling',\n",
       " 'content/examples/html/gitbook/images/favicon.ico',\n",
       " 'wp-admin',\n",
       " 'wp-login',\n",
       " 'content/mysql/relationships/sub-queries.html',\n",
       " '7_DBSCAN',\n",
       " 'mysql/clauses/limit-order-by',\n",
       " 'Clustering_Explore',\n",
       " 'content/appendix/angular/gitbook/images/favicon.ico',\n",
       " '167',\n",
       " 'content/appendix/control-structures.html',\n",
       " 'appendix/intellij-intro',\n",
       " 'examples/css/..%255c',\n",
       " 'users/167',\n",
       " 'appendix/branching',\n",
       " 'appendix/spring/seeder',\n",
       " 'quize/98',\n",
       " 'npm',\n",
       " 'examples/twitter.html',\n",
       " 'PreWork/PreWork/cli',\n",
       " 'app',\n",
       " 'content/appendix/documentation/gitbook/images/favicon.ico',\n",
       " 'examples/css/%252e%252e%255c',\n",
       " 'content/mysql/aliases-and-functions/gitbook/images/favicon.ico',\n",
       " 'appendix/professional-development/post-interview-review-form']"
      ]
     },
     "execution_count": 246,
     "metadata": {},
     "output_type": "execute_result"
    }
   ],
   "source": [
    "program_2_least"
   ]
  },
  {
   "cell_type": "code",
   "execution_count": 247,
   "id": "6eba9328",
   "metadata": {},
   "outputs": [],
   "source": [
    "# cohort 15\n",
    "cohort_15_most = list(program_2[program_2['cohort_id'] == 15.0].path.value_counts().index[0:10])\n",
    "\n",
    "# cohort 16\n",
    "cohort_16_most = list(program_2[program_2['cohort_id'] == 16.0].path.value_counts().index[0:10])\n",
    "\n",
    "# cohort 18\n",
    "cohort_18_most = list(program_2[program_2['cohort_id'] == 18.0].path.value_counts().index[0:10])\n",
    "\n",
    "# cohort 21\n",
    "cohort_21_most = list(program_2[program_2['cohort_id'] == 21.0].path.value_counts().index[0:10])\n",
    "\n",
    "# cohort 22\n",
    "cohort_22_most = list(program_2[program_2['cohort_id'] == 22.0].path.value_counts().index[0:10])\n",
    "\n",
    "# cohort 23\n",
    "cohort_23_most = list(program_2[program_2['cohort_id'] == 23.0].path.value_counts().index[0:10])\n",
    "\n",
    "# cohort 24\n",
    "cohort_24_most = list(program_2[program_2['cohort_id'] == 24.0].path.value_counts().index[0:10])\n",
    "\n",
    "# cohort 25\n",
    "cohort_25_most = list(program_2[program_2['cohort_id'] == 25.0].path.value_counts().index[0:10])\n",
    "\n",
    "# cohort 26\n",
    "cohort_26_most = list(program_2[program_2['cohort_id'] == 26.0].path.value_counts().index[0:10])\n",
    "\n",
    "# cohort 27\n",
    "cohort_27_most = list(program_2[program_2['cohort_id'] == 27.0].path.value_counts().index[0:10])\n",
    "\n",
    "# cohort 28\n",
    "cohort_28_most = list(program_2[program_2['cohort_id'] == 28.0].path.value_counts().index[0:10])\n",
    "\n",
    "# cohort 29\n",
    "cohort_29_most = list(program_2[program_2['cohort_id'] == 29.0].path.value_counts().index[0:10])\n",
    "\n",
    "# cohort 31\n",
    "cohort_31_most = list(program_2[program_2['cohort_id'] == 31.0].path.value_counts().index[0:10])\n",
    "\n",
    "# cohort 32\n",
    "cohort_32_most = list(program_2[program_2['cohort_id'] == 32.0].path.value_counts().index[0:10])\n",
    "\n",
    "# cohort 33\n",
    "cohort_33_most = list(program_2[program_2['cohort_id'] == 33.0].path.value_counts().index[0:10])\n",
    "\n",
    "# cohort 51\n",
    "cohort_51_most = list(program_2[program_2['cohort_id'] == 51.0].path.value_counts().index[0:10])\n",
    "\n",
    "# cohort 52\n",
    "cohort_52_most = list(program_2[program_2['cohort_id'] == 52.0].path.value_counts().index[0:10])\n",
    "\n",
    "# cohort 53\n",
    "cohort_53_most = list(program_2[program_2['cohort_id'] == 53.0].path.value_counts().index[0:10])\n",
    "\n",
    "# cohort 56\n",
    "cohort_56_most = list(program_2[program_2['cohort_id'] == 56.0].path.value_counts().index[0:10])\n",
    "\n",
    "# cohort 57\n",
    "cohort_57_most = list(program_2[program_2['cohort_id'] == 57.0].path.value_counts().index[0:10])\n",
    "\n",
    "# cohort 58\n",
    "cohort_58_most = list(program_2[program_2['cohort_id'] == 58.0].path.value_counts().index[0:10])\n",
    "\n",
    "# cohort 61\n",
    "cohort_61_most = list(program_2[program_2['cohort_id'] == 61.0].path.value_counts().index[0:10])\n",
    "\n",
    "# cohort 62\n",
    "cohort_62_most = list(program_2[program_2['cohort_id'] == 62.0].path.value_counts().index[0:10])\n",
    "\n",
    "# cohort 132\n",
    "cohort_132_most = list(program_2[program_2['cohort_id'] == 132.0].path.value_counts().index[0:10])\n",
    "\n",
    "# cohort 134\n",
    "cohort_134_most = list(program_2[program_2['cohort_id'] == 134.0].path.value_counts().index[0:10])\n",
    "\n",
    "# cohort 135\n",
    "cohort_135_most = list(program_2[program_2['cohort_id'] == 135.0].path.value_counts().index[0:10])\n",
    "\n",
    "# cohort 138\n",
    "cohort_138_most = list(program_2[program_2['cohort_id'] == 138.0].path.value_counts().index[0:10])\n",
    "\n",
    "# cohort 139\n",
    "cohort_139_most = list(program_2[program_2['cohort_id'] == 139.0].path.value_counts().index[0:10])"
   ]
  },
  {
   "cell_type": "code",
   "execution_count": 248,
   "id": "35008a50",
   "metadata": {},
   "outputs": [
    {
     "name": "stdout",
     "output_type": "stream",
     "text": [
      "no match\n"
     ]
    }
   ],
   "source": [
    "match_finder(cohort_15_most, program_2_least)"
   ]
  },
  {
   "cell_type": "code",
   "execution_count": 249,
   "id": "d09b24b0",
   "metadata": {},
   "outputs": [
    {
     "name": "stdout",
     "output_type": "stream",
     "text": [
      "no match\n"
     ]
    }
   ],
   "source": [
    "match_finder(cohort_16_most, program_2_least)"
   ]
  },
  {
   "cell_type": "code",
   "execution_count": 250,
   "id": "4779f851",
   "metadata": {},
   "outputs": [
    {
     "name": "stdout",
     "output_type": "stream",
     "text": [
      "no match\n"
     ]
    }
   ],
   "source": [
    "match_finder(cohort_18_most, program_2_least)"
   ]
  },
  {
   "cell_type": "code",
   "execution_count": 251,
   "id": "6e45f234",
   "metadata": {},
   "outputs": [
    {
     "name": "stdout",
     "output_type": "stream",
     "text": [
      "no match\n"
     ]
    }
   ],
   "source": [
    "match_finder(cohort_21_most, program_2_least)"
   ]
  },
  {
   "cell_type": "code",
   "execution_count": 252,
   "id": "5825a6c7",
   "metadata": {},
   "outputs": [
    {
     "name": "stdout",
     "output_type": "stream",
     "text": [
      "no match\n"
     ]
    }
   ],
   "source": [
    "match_finder(cohort_22_most, program_2_least)"
   ]
  },
  {
   "cell_type": "code",
   "execution_count": 253,
   "id": "3230b0ae",
   "metadata": {},
   "outputs": [
    {
     "name": "stdout",
     "output_type": "stream",
     "text": [
      "no match\n"
     ]
    }
   ],
   "source": [
    "match_finder(cohort_23_most, program_2_least)"
   ]
  },
  {
   "cell_type": "code",
   "execution_count": 254,
   "id": "a14f174b",
   "metadata": {},
   "outputs": [
    {
     "name": "stdout",
     "output_type": "stream",
     "text": [
      "no match\n"
     ]
    }
   ],
   "source": [
    "match_finder(cohort_24_most, program_2_least)"
   ]
  },
  {
   "cell_type": "code",
   "execution_count": 255,
   "id": "062d2383",
   "metadata": {},
   "outputs": [
    {
     "name": "stdout",
     "output_type": "stream",
     "text": [
      "no match\n"
     ]
    }
   ],
   "source": [
    "match_finder(cohort_25_most, program_2_least)"
   ]
  },
  {
   "cell_type": "code",
   "execution_count": 256,
   "id": "54ef2de5",
   "metadata": {},
   "outputs": [
    {
     "name": "stdout",
     "output_type": "stream",
     "text": [
      "no match\n"
     ]
    }
   ],
   "source": [
    "match_finder(cohort_26_most, program_2_least)"
   ]
  },
  {
   "cell_type": "code",
   "execution_count": 257,
   "id": "338c7640",
   "metadata": {},
   "outputs": [
    {
     "name": "stdout",
     "output_type": "stream",
     "text": [
      "no match\n"
     ]
    }
   ],
   "source": [
    "match_finder(cohort_27_most, program_2_least)"
   ]
  },
  {
   "cell_type": "code",
   "execution_count": 258,
   "id": "80e9a8b4",
   "metadata": {},
   "outputs": [
    {
     "name": "stdout",
     "output_type": "stream",
     "text": [
      "no match\n"
     ]
    }
   ],
   "source": [
    "match_finder(cohort_28_most, program_2_least)"
   ]
  },
  {
   "cell_type": "code",
   "execution_count": 259,
   "id": "946dc566",
   "metadata": {},
   "outputs": [
    {
     "name": "stdout",
     "output_type": "stream",
     "text": [
      "no match\n"
     ]
    }
   ],
   "source": [
    "match_finder(cohort_29_most, program_2_least)"
   ]
  },
  {
   "cell_type": "code",
   "execution_count": 260,
   "id": "46108432",
   "metadata": {},
   "outputs": [
    {
     "name": "stdout",
     "output_type": "stream",
     "text": [
      "no match\n"
     ]
    }
   ],
   "source": [
    "match_finder(cohort_31_most, program_2_least)"
   ]
  },
  {
   "cell_type": "code",
   "execution_count": 261,
   "id": "e266d4cb",
   "metadata": {},
   "outputs": [
    {
     "name": "stdout",
     "output_type": "stream",
     "text": [
      "no match\n"
     ]
    }
   ],
   "source": [
    "match_finder(cohort_32_most, program_2_least)"
   ]
  },
  {
   "cell_type": "code",
   "execution_count": 262,
   "id": "5332dc96",
   "metadata": {},
   "outputs": [
    {
     "name": "stdout",
     "output_type": "stream",
     "text": [
      "no match\n"
     ]
    }
   ],
   "source": [
    "match_finder(cohort_33_most, program_2_least)"
   ]
  },
  {
   "cell_type": "code",
   "execution_count": 263,
   "id": "68157d3f",
   "metadata": {},
   "outputs": [
    {
     "name": "stdout",
     "output_type": "stream",
     "text": [
      "no match\n"
     ]
    }
   ],
   "source": [
    "match_finder(cohort_51_most, program_2_least)"
   ]
  },
  {
   "cell_type": "code",
   "execution_count": 264,
   "id": "850e3178",
   "metadata": {},
   "outputs": [
    {
     "name": "stdout",
     "output_type": "stream",
     "text": [
      "no match\n"
     ]
    }
   ],
   "source": [
    "match_finder(cohort_52_most, program_2_least)"
   ]
  },
  {
   "cell_type": "code",
   "execution_count": 265,
   "id": "54c63d7b",
   "metadata": {},
   "outputs": [
    {
     "name": "stdout",
     "output_type": "stream",
     "text": [
      "no match\n"
     ]
    }
   ],
   "source": [
    "match_finder(cohort_53_most, program_2_least)"
   ]
  },
  {
   "cell_type": "code",
   "execution_count": 266,
   "id": "b149b3de",
   "metadata": {},
   "outputs": [
    {
     "name": "stdout",
     "output_type": "stream",
     "text": [
      "no match\n"
     ]
    }
   ],
   "source": [
    "match_finder(cohort_56_most, program_2_least)"
   ]
  },
  {
   "cell_type": "code",
   "execution_count": 267,
   "id": "36f8c9f5",
   "metadata": {},
   "outputs": [
    {
     "name": "stdout",
     "output_type": "stream",
     "text": [
      "no match\n"
     ]
    }
   ],
   "source": [
    "match_finder(cohort_57_most, program_2_least)"
   ]
  },
  {
   "cell_type": "code",
   "execution_count": 268,
   "id": "8d7b1fa5",
   "metadata": {},
   "outputs": [
    {
     "name": "stdout",
     "output_type": "stream",
     "text": [
      "no match\n"
     ]
    }
   ],
   "source": [
    "match_finder(cohort_58_most, program_2_least)"
   ]
  },
  {
   "cell_type": "code",
   "execution_count": 269,
   "id": "a2bd9fca",
   "metadata": {},
   "outputs": [
    {
     "name": "stdout",
     "output_type": "stream",
     "text": [
      "no match\n"
     ]
    }
   ],
   "source": [
    "match_finder(cohort_61_most, program_2_least)"
   ]
  },
  {
   "cell_type": "code",
   "execution_count": 270,
   "id": "7cef2402",
   "metadata": {},
   "outputs": [
    {
     "name": "stdout",
     "output_type": "stream",
     "text": [
      "no match\n"
     ]
    }
   ],
   "source": [
    "match_finder(cohort_62_most, program_2_least)"
   ]
  },
  {
   "cell_type": "code",
   "execution_count": 271,
   "id": "78c62a29",
   "metadata": {},
   "outputs": [
    {
     "name": "stdout",
     "output_type": "stream",
     "text": [
      "no match\n"
     ]
    }
   ],
   "source": [
    "match_finder(cohort_132_most, program_2_least)"
   ]
  },
  {
   "cell_type": "code",
   "execution_count": 272,
   "id": "d4235e88",
   "metadata": {},
   "outputs": [
    {
     "name": "stdout",
     "output_type": "stream",
     "text": [
      "no match\n"
     ]
    }
   ],
   "source": [
    "match_finder(cohort_134_most, program_2_least)"
   ]
  },
  {
   "cell_type": "code",
   "execution_count": 273,
   "id": "60f8c0c6",
   "metadata": {},
   "outputs": [
    {
     "name": "stdout",
     "output_type": "stream",
     "text": [
      "no match\n"
     ]
    }
   ],
   "source": [
    "match_finder(cohort_135_most, program_2_least)"
   ]
  },
  {
   "cell_type": "code",
   "execution_count": 274,
   "id": "fd8cce0d",
   "metadata": {},
   "outputs": [
    {
     "name": "stdout",
     "output_type": "stream",
     "text": [
      "no match\n"
     ]
    }
   ],
   "source": [
    "match_finder(cohort_138_most, program_2_least)"
   ]
  },
  {
   "cell_type": "code",
   "execution_count": 275,
   "id": "f8152b40",
   "metadata": {},
   "outputs": [
    {
     "name": "stdout",
     "output_type": "stream",
     "text": [
      "no match\n"
     ]
    }
   ],
   "source": [
    "match_finder(cohort_139_most, program_2_least)"
   ]
  },
  {
   "cell_type": "markdown",
   "id": "ccdde336",
   "metadata": {},
   "source": [
    "### Program 2 takeaway\n",
    "None of the cohorts looked at a lesson signifcantly more that another cohort just glanced at."
   ]
  },
  {
   "cell_type": "markdown",
   "id": "c8a8b0a2",
   "metadata": {},
   "source": [
    "### Program 3 (Data Science)"
   ]
  },
  {
   "cell_type": "code",
   "execution_count": 217,
   "id": "9b686479",
   "metadata": {},
   "outputs": [
    {
     "data": {
      "text/html": [
       "<div>\n",
       "<style scoped>\n",
       "    .dataframe tbody tr th:only-of-type {\n",
       "        vertical-align: middle;\n",
       "    }\n",
       "\n",
       "    .dataframe tbody tr th {\n",
       "        vertical-align: top;\n",
       "    }\n",
       "\n",
       "    .dataframe thead th {\n",
       "        text-align: right;\n",
       "    }\n",
       "</style>\n",
       "<table border=\"1\" class=\"dataframe\">\n",
       "  <thead>\n",
       "    <tr style=\"text-align: right;\">\n",
       "      <th></th>\n",
       "      <th>date</th>\n",
       "      <th>time</th>\n",
       "      <th>ip</th>\n",
       "      <th>path</th>\n",
       "      <th>user_id</th>\n",
       "      <th>cohort_id</th>\n",
       "      <th>cohort_name</th>\n",
       "      <th>slack</th>\n",
       "      <th>start_date</th>\n",
       "      <th>end_date</th>\n",
       "      <th>program_id</th>\n",
       "      <th>program</th>\n",
       "    </tr>\n",
       "    <tr>\n",
       "      <th>date</th>\n",
       "      <th></th>\n",
       "      <th></th>\n",
       "      <th></th>\n",
       "      <th></th>\n",
       "      <th></th>\n",
       "      <th></th>\n",
       "      <th></th>\n",
       "      <th></th>\n",
       "      <th></th>\n",
       "      <th></th>\n",
       "      <th></th>\n",
       "      <th></th>\n",
       "    </tr>\n",
       "  </thead>\n",
       "  <tbody>\n",
       "    <tr>\n",
       "      <th>2019-08-20</th>\n",
       "      <td>2019-08-20</td>\n",
       "      <td>09:39:58</td>\n",
       "      <td>97.105.19.58</td>\n",
       "      <td>/</td>\n",
       "      <td>466</td>\n",
       "      <td>34.0</td>\n",
       "      <td>Bayes</td>\n",
       "      <td>#</td>\n",
       "      <td>2019-08-19</td>\n",
       "      <td>2020-01-30</td>\n",
       "      <td>3</td>\n",
       "      <td>Data Science</td>\n",
       "    </tr>\n",
       "    <tr>\n",
       "      <th>2019-08-20</th>\n",
       "      <td>2019-08-20</td>\n",
       "      <td>09:39:59</td>\n",
       "      <td>97.105.19.58</td>\n",
       "      <td>/</td>\n",
       "      <td>467</td>\n",
       "      <td>34.0</td>\n",
       "      <td>Bayes</td>\n",
       "      <td>#</td>\n",
       "      <td>2019-08-19</td>\n",
       "      <td>2020-01-30</td>\n",
       "      <td>3</td>\n",
       "      <td>Data Science</td>\n",
       "    </tr>\n",
       "    <tr>\n",
       "      <th>2019-08-20</th>\n",
       "      <td>2019-08-20</td>\n",
       "      <td>09:39:59</td>\n",
       "      <td>97.105.19.58</td>\n",
       "      <td>/</td>\n",
       "      <td>468</td>\n",
       "      <td>34.0</td>\n",
       "      <td>Bayes</td>\n",
       "      <td>#</td>\n",
       "      <td>2019-08-19</td>\n",
       "      <td>2020-01-30</td>\n",
       "      <td>3</td>\n",
       "      <td>Data Science</td>\n",
       "    </tr>\n",
       "  </tbody>\n",
       "</table>\n",
       "</div>"
      ],
      "text/plain": [
       "                 date      time            ip path  user_id  cohort_id  \\\n",
       "date                                                                     \n",
       "2019-08-20 2019-08-20  09:39:58  97.105.19.58    /      466       34.0   \n",
       "2019-08-20 2019-08-20  09:39:59  97.105.19.58    /      467       34.0   \n",
       "2019-08-20 2019-08-20  09:39:59  97.105.19.58    /      468       34.0   \n",
       "\n",
       "           cohort_name slack  start_date    end_date  program_id       program  \n",
       "date                                                                            \n",
       "2019-08-20       Bayes     #  2019-08-19  2020-01-30           3  Data Science  \n",
       "2019-08-20       Bayes     #  2019-08-19  2020-01-30           3  Data Science  \n",
       "2019-08-20       Bayes     #  2019-08-19  2020-01-30           3  Data Science  "
      ]
     },
     "execution_count": 217,
     "metadata": {},
     "output_type": "execute_result"
    }
   ],
   "source": [
    "program_3 = df[df['program_id'] == 3.0]\n",
    "program_3.head(3)"
   ]
  },
  {
   "cell_type": "code",
   "execution_count": 218,
   "id": "bdf6094f",
   "metadata": {},
   "outputs": [
    {
     "data": {
      "text/plain": [
       "Float64Index([34.0, 55.0, 59.0, 133.0, 137.0], dtype='float64')"
      ]
     },
     "execution_count": 218,
     "metadata": {},
     "output_type": "execute_result"
    }
   ],
   "source": [
    "program_3.cohort_id.value_counts().index.sort_values()"
   ]
  },
  {
   "cell_type": "code",
   "execution_count": 237,
   "id": "100459f1",
   "metadata": {},
   "outputs": [],
   "source": [
    "program_3_least = list(program_3.path.value_counts()[program_3.path.value_counts() <= 5].index)"
   ]
  },
  {
   "cell_type": "code",
   "execution_count": 238,
   "id": "f0d8bfd1",
   "metadata": {},
   "outputs": [
    {
     "data": {
      "text/plain": [
       "['python/objects',\n",
       " '7-classification/6.5-svm',\n",
       " '1.2-data-science-pipeline',\n",
       " 'html-css/introduction',\n",
       " '6-regression/exercises',\n",
       " 'clustering/I_have_clusters_now_what',\n",
       " 'distributed-ml/read-jdbc',\n",
       " 'nlp/pos-tagging',\n",
       " '12-distributed-ml/exercises',\n",
       " '7-classification/3-acquire',\n",
       " 'model',\n",
       " 'stats/probability-and-event-interactions',\n",
       " '6-regression/3.1-acquire-and-prep',\n",
       " '1-fundamentals/2.3-visualization.md',\n",
       " 'mysql-introduction',\n",
       " 'Hospital-Distance-Clusters.jpg',\n",
       " 'prepare',\n",
       " '7-classification/ensemble',\n",
       " 'appendix/open_data/www.opensecrets.org',\n",
       " 'functions',\n",
       " '1.3-pipeline-demo',\n",
       " 'jquery',\n",
       " '1-fundamentals/2.3-visualization',\n",
       " 'scale_features_or_not.svg',\n",
       " 'bayes-python-assessment-4586.html',\n",
       " 'classification/handling-missing-values',\n",
       " '10-anomaly-detection/3-detecting-timeseries-anomalies',\n",
       " 'python/matplotlib-styles',\n",
       " 'Pipeline_Demo',\n",
       " '5-stats/confusion-matrix',\n",
       " 'python/type-annotations',\n",
       " 'find_me_curie!(12.3.19)',\n",
       " '8-clustering/Zillow_Example',\n",
       " '9-timeseries/5.1-parametric-modeling',\n",
       " '5-stats/probability-and-event-interactions',\n",
       " 'AnomalyDetectionCartoon.jpeg',\n",
       " 'refine',\n",
       " '8-clustering/hierarchical',\n",
       " '8-clustering/dendogram_sample.jpeg',\n",
       " 'java-iii',\n",
       " 'java-ii',\n",
       " 'javascript-ii',\n",
       " 'appendix/open_data/www.databasefootball.com',\n",
       " '10-anomaly-detection/time-series-anomaly-detection-part-2',\n",
       " 'appendix/open_data/www.census.gov/geo/www/tiger',\n",
       " 'simulation',\n",
       " '9-timeseries/sarimax',\n",
       " '10-anomaly-detection/4-detecting-with-clustering',\n",
       " 'regression/old_project',\n",
       " 'classification/ensemble',\n",
       " 'prep',\n",
       " 'basic-statements',\n",
       " '11-nlp/topic-modeling',\n",
       " '9-timeseries/2-intro-to-timeseries',\n",
       " '9-timeseries/3-acquire',\n",
       " 'present',\n",
       " 'vocabulary',\n",
       " 'project',\n",
       " '6-regression/3.2-split-and-scale',\n",
       " '13.1_Understand',\n",
       " '6-regression/3.3-explore',\n",
       " 'curie-python-assessemt',\n",
       " 'html-css/elements',\n",
       " 'regression/least-angle-regression',\n",
       " 'cli/navigating-the-filesystem',\n",
       " 'fundamentals',\n",
       " '12-distributed-ml/7-explore',\n",
       " 'classification/explore-copy',\n",
       " 'user-defined-functions.md',\n",
       " 'search',\n",
       " 'evaluation',\n",
       " 'appendix/data_science_community/www.kdnuggets.com/2019/7/top-10-data-science-leaders.html',\n",
       " '8-clustering/end-to-end-clustering',\n",
       " 'fundamentals/data-science-pipeline.md',\n",
       " 'appendix/git/intellij-intro',\n",
       " 'anomaly-detection/isolation-forests',\n",
       " '6-regression/3.4-feature-engineering',\n",
       " 'regression/short_evaluation',\n",
       " 'examples',\n",
       " '6-regression/3.5-modeling',\n",
       " '7-classification/confusion-matrix.md',\n",
       " '1-overview',\n",
       " 'advanced-topics/tidy-data',\n",
       " 'regression/ridge-regression',\n",
       " 'classification',\n",
       " '3-data-types-and-variables',\n",
       " 'timeseries',\n",
       " '3-probability-distributions',\n",
       " 'sql/relationships',\n",
       " 'curie-stats-assessment',\n",
       " 'api',\n",
       " 'cli/3-file-paths',\n",
       " 'split-and-scale',\n",
       " 'subqueries',\n",
       " '3-databases',\n",
       " '4.5-more-statistical-testing-examples',\n",
       " '4-detecting-timeseries-anomalies',\n",
       " 'python/error-handling',\n",
       " '5-stats/1-overview/null',\n",
       " '6-regression/3.6-evaluation',\n",
       " '9-timeseries/4-prep',\n",
       " '9-timeseries/5-explore',\n",
       " 'html-css/forms',\n",
       " 'python/handling-duplicate-values',\n",
       " 'appendix/open_data/www.stat.ucla.edu/data',\n",
       " '10-anomaly-detection/3-discrete-probabilistic-methods.ipynb',\n",
       " 'regression/model_old',\n",
       " 'classical_programming_vs_machine_learning.jpeg',\n",
       " 'Selecting_a_hypothesis_test.svg',\n",
       " 'alumni',\n",
       " 'cli/moving-files',\n",
       " 'intro-to-matplotlib',\n",
       " '12-distributed-ml/topic-modeling',\n",
       " 'short_evaluation',\n",
       " 'ltc.-ml',\n",
       " '10-anomaly-detection/isolation-forests',\n",
       " 'create',\n",
       " '3-acquire',\n",
       " 'timeseries/E2E_example',\n",
       " 'clustering/hierarchical_circle.png!%5Bimage.png%5D(attachment:9d62ad1d-11fe-4abd-abbc-266425f5205a.png)!%5Bimage.png%5D(attachment:64c8827f-b1ff-4187-9d76-72b95ff78926.png)!%5Bimage.png%5D(attachment:2fee2135-1db8-4ea1-afc7-827911238f50.png)!%5Bimage.png%5D(attachment:671c2e2a-39f1-4137-9aab-17bde0eb89e3.png)',\n",
       " '10-anomaly-detection/time-series-anomaly-detection-part-3',\n",
       " 'DataToAction_v2.jpg',\n",
       " 'compare-means',\n",
       " 'clustering/dbscan',\n",
       " '4-python/working-with-files',\n",
       " 'data-science-modules.jpg',\n",
       " 'regression/feature_engineering_into_modeling',\n",
       " 'diagram-of-ds-pipeline-fraud-example.jpeg',\n",
       " 'ml-methodologies-drawing.jpg',\n",
       " 'classification/explore-old',\n",
       " 'where',\n",
       " 'sql',\n",
       " 'case-statements',\n",
       " 'nlp',\n",
       " 'json-responses',\n",
       " 'creating-charts',\n",
       " 'joins',\n",
       " 'introduction-to-python',\n",
       " 'understand',\n",
       " 'storytelling/creating-custom-fields.md',\n",
       " 'tidy-data',\n",
       " 'decision-trees',\n",
       " 'classification/knn.md',\n",
       " 'viz.py',\n",
       " 'acquire-and-prep',\n",
       " 'sql/mysql-introduction.md',\n",
       " 'spark-execution-diagram.svg',\n",
       " 'spark-local-mode.svg',\n",
       " 'evaluate',\n",
       " 'fundamentals/cli/navigating-the-filesystem.md',\n",
       " 'data-science-pipeline',\n",
       " 'sql.mysql-overview',\n",
       " 'python/introduction-to-python.md',\n",
       " 'fundamentals/intro-to-data-science.md',\n",
       " 'sql/database',\n",
       " 'databases',\n",
       " 'group-by',\n",
       " '2.1-spreadsheets-overview',\n",
       " 'bad-charts',\n",
       " 'misleading1_baseball.jpg',\n",
       " 'javascript-i/bom-and-dom/dom',\n",
       " 'Index.html',\n",
       " 'index.html',\n",
       " 'appendix/git/cli',\n",
       " 'appendix/git/intellij',\n",
       " 'git/cli',\n",
       " 'javascript-i/conditionals',\n",
       " 'capstones',\n",
       " 'itc%20-%20ml',\n",
       " 'mkdocs/search_index.json',\n",
       " 'spring/extra-features/error-pages',\n",
       " 'spring/extra-features/error-pages/asdfasdf',\n",
       " '5-detecting-with-clustering',\n",
       " 'End_to_End_clustering',\n",
       " 'end_to_end_clustering',\n",
       " '12-distributed-ml/spark-topics',\n",
       " '4-python/pandas-lesson',\n",
       " '2-storytelling/1-overview/www.qlik.com',\n",
       " '4.2-compare-means',\n",
       " 'curie-statistics-assessment',\n",
       " 'stats-assessment',\n",
       " 'statistics-assessment',\n",
       " '%20https://github.com/RaulCPena',\n",
       " ',%20https://github.com/RaulCPena',\n",
       " 'A-clustering/project',\n",
       " 'b-clustering/project',\n",
       " 'appendix/www.opensecrets.org',\n",
       " 'grades/getUserDetails/916/3',\n",
       " 'grades',\n",
       " 'java-ii/object-oriented-programming',\n",
       " 'appendix/open_data/www.census.gov',\n",
       " 'database-design',\n",
       " '2-storytelling/chart-types',\n",
       " 'itc-ml',\n",
       " 'misleading1_fox.jpg',\n",
       " 'appendix/open_data/www.flickr.com/services/api',\n",
       " '7-classification/confusion-matrix',\n",
       " '7-classification/svm',\n",
       " '3-sql',\n",
       " 'regression/project/null',\n",
       " 'cli/4-navigating-the-filesystem',\n",
       " 'appendix/open_data/www.openstreetmap.org',\n",
       " 'appendix/cli/2-overview',\n",
       " '5-stats/4.2-compare-means/null',\n",
       " 'appendix/cli/2-Overview',\n",
       " 'appendix/cls/2-listing-files',\n",
       " 'misleading3_deaths.jpg',\n",
       " '.gitignore',\n",
       " 'fundamentals/1-fundamentals/modern-data-scientist.jpg',\n",
       " 'appendix/interview-questions-students',\n",
       " '3-vocabulary',\n",
       " '9-timeseries/6.1-parametric-modeling',\n",
       " '9-timeseries/6.2-prophet',\n",
       " '12-distributed-ml/3-getting-started',\n",
       " '12-distributed-ml/4-acquire',\n",
       " '12-distributed-ml/5-inspect',\n",
       " '12-distributed-ml/6.1-prepare-part-1',\n",
       " '12-distributed-ml/6.2-prepare-part-2',\n",
       " '12-distributed-ml/6.3-prepare-part-3',\n",
       " '12-distributed-ml/6.4-prepare-part-4',\n",
       " '12-distributed-ml/8.1-classification',\n",
       " '7.4.1-pandas-overview',\n",
       " '7.4.2-series',\n",
       " 'python/custom-sorting-functions',\n",
       " 'imports',\n",
       " 'java-i/console-io',\n",
       " 'appendix/univariate_regression_in_excel',\n",
       " '6-regression/8-Project']"
      ]
     },
     "execution_count": 238,
     "metadata": {},
     "output_type": "execute_result"
    }
   ],
   "source": [
    "program_3_least"
   ]
  },
  {
   "cell_type": "code",
   "execution_count": 230,
   "id": "b26de87e",
   "metadata": {},
   "outputs": [],
   "source": [
    "# cohort 34\n",
    "cohort_34_most = list(program_3[program_3['cohort_id'] == 34.0].path.value_counts().index[0:10])\n",
    "\n",
    "# cohort 55\n",
    "cohort_55_most = list(program_3[program_3['cohort_id'] == 55.0].path.value_counts().index[0:10])\n",
    "\n",
    "# cohort 59\n",
    "cohort_59_most = list(program_3[program_3['cohort_id'] == 59.0].path.value_counts().index[0:10])\n",
    "\n",
    "# cohort 133\n",
    "cohort_133_most = list(program_3[program_3['cohort_id'] == 133.0].path.value_counts().index[0:10])\n",
    "\n",
    "# cohort 137\n",
    "cohort_137_most = list(program_3[program_3['cohort_id'] == 137.0].path.value_counts().index[0:10])"
   ]
  },
  {
   "cell_type": "code",
   "execution_count": 239,
   "id": "1e12e205",
   "metadata": {},
   "outputs": [
    {
     "name": "stdout",
     "output_type": "stream",
     "text": [
      "no match\n"
     ]
    }
   ],
   "source": [
    "match_finder(cohort_34_most, program_3_least)"
   ]
  },
  {
   "cell_type": "code",
   "execution_count": 240,
   "id": "6f65710b",
   "metadata": {},
   "outputs": [
    {
     "name": "stdout",
     "output_type": "stream",
     "text": [
      "no match\n"
     ]
    }
   ],
   "source": [
    "match_finder(cohort_55_most, program_3_least)"
   ]
  },
  {
   "cell_type": "code",
   "execution_count": 241,
   "id": "6d680e6f",
   "metadata": {},
   "outputs": [
    {
     "name": "stdout",
     "output_type": "stream",
     "text": [
      "no match\n"
     ]
    }
   ],
   "source": [
    "match_finder(cohort_59_most, program_3_least)"
   ]
  },
  {
   "cell_type": "code",
   "execution_count": 242,
   "id": "3fdc49ee",
   "metadata": {},
   "outputs": [
    {
     "name": "stdout",
     "output_type": "stream",
     "text": [
      "no match\n"
     ]
    }
   ],
   "source": [
    "match_finder(cohort_133_most, program_3_least)"
   ]
  },
  {
   "cell_type": "code",
   "execution_count": 243,
   "id": "6bbc4bdd",
   "metadata": {},
   "outputs": [
    {
     "name": "stdout",
     "output_type": "stream",
     "text": [
      "no match\n"
     ]
    }
   ],
   "source": [
    "match_finder(cohort_137_most, program_3_least)"
   ]
  },
  {
   "cell_type": "markdown",
   "id": "85de214a",
   "metadata": {},
   "source": [
    "### Program 3 takeaway\n",
    "None of the cohorts looked at a lesson signifcantly more that another cohort just glanced at."
   ]
  },
  {
   "cell_type": "code",
   "execution_count": null,
   "id": "caa52d13",
   "metadata": {},
   "outputs": [],
   "source": []
  }
 ],
 "metadata": {
  "kernelspec": {
   "display_name": "Python 3 (ipykernel)",
   "language": "python",
   "name": "python3"
  },
  "language_info": {
   "codemirror_mode": {
    "name": "ipython",
    "version": 3
   },
   "file_extension": ".py",
   "mimetype": "text/x-python",
   "name": "python",
   "nbconvert_exporter": "python",
   "pygments_lexer": "ipython3",
   "version": "3.9.12"
  }
 },
 "nbformat": 4,
 "nbformat_minor": 5
}
